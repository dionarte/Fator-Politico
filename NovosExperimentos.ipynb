{
 "cells": [
  {
   "cell_type": "code",
   "execution_count": 13,
   "id": "873f5148",
   "metadata": {},
   "outputs": [],
   "source": [
    "import networkx as nx\n",
    "import osmnx as ox"
   ]
  },
  {
   "cell_type": "code",
   "execution_count": 19,
   "id": "4b68be7f",
   "metadata": {},
   "outputs": [],
   "source": [
    "#import geopandas as gpd;"
   ]
  },
  {
   "cell_type": "code",
   "execution_count": 14,
   "id": "fdee7f8a",
   "metadata": {},
   "outputs": [],
   "source": [
    "place = \"João Pessoa, PB, Brazil\""
   ]
  },
  {
   "cell_type": "code",
   "execution_count": 15,
   "id": "ab3f89d6",
   "metadata": {},
   "outputs": [],
   "source": [
    "network_type = \"drive\""
   ]
  },
  {
   "cell_type": "code",
   "execution_count": 16,
   "id": "15a583e3",
   "metadata": {},
   "outputs": [],
   "source": [
    "G = ox.graph_from_place(place, network_type=network_type)"
   ]
  },
  {
   "cell_type": "code",
   "execution_count": 17,
   "id": "5458c8d2",
   "metadata": {},
   "outputs": [],
   "source": [
    "id1 = ox.distance.nearest_nodes(G, -34.86974, -7.10056, return_dist=False);\n",
    "\n",
    "\n",
    "\n",
    "id2 = ox.distance.nearest_nodes(G, -34.83813, -7.12331, return_dist=False);\n",
    "\n",
    "#id3 = ox.distance.nearest_nodes(G, -34.88437, -7.19891, return_dist=False);\n",
    "\n",
    "#id4 = ox.distance.nearest_nodes(G, -34.88316, -7.18404, return_dist=False);"
   ]
  },
  {
   "cell_type": "code",
   "execution_count": 18,
   "id": "f8acc809",
   "metadata": {},
   "outputs": [],
   "source": [
    "trajeto = ox.distance.shortest_path(G, id1, id2, weight='length');"
   ]
  },
  {
   "cell_type": "code",
   "execution_count": 100,
   "id": "91f2a8e6",
   "metadata": {},
   "outputs": [],
   "source": [
    "id9 = ox.distance.nearest_nodes(G, -34.86974, -7.10056, return_dist=False);\n",
    "\n",
    "id10 = ox.distance.nearest_nodes(G, -34.83813, -7.12331, return_dist=False);\n",
    "\n",
    "trajeto = ox.distance.shortest_path(G, id1, id2, weight='length');"
   ]
  },
  {
   "cell_type": "code",
   "execution_count": 90,
   "id": "05169e27",
   "metadata": {},
   "outputs": [
    {
     "data": {
      "text/plain": [
       "670602798"
      ]
     },
     "execution_count": 90,
     "metadata": {},
     "output_type": "execute_result"
    }
   ],
   "source": [
    "ponto_central = ox.distance.nearest_nodes(G, -34.86974, -7.10056);\n",
    "ponto_central"
   ]
  },
  {
   "cell_type": "code",
   "execution_count": 69,
   "id": "e6d27ba7",
   "metadata": {},
   "outputs": [
    {
     "data": {
      "text/plain": [
       "(-34.88437, -7.19891)"
      ]
     },
     "execution_count": 69,
     "metadata": {},
     "output_type": "execute_result"
    }
   ],
   "source": [
    "ponto_central_xy = (-34.88437, -7.19891);\n",
    "\n",
    "ponto_central_xy"
   ]
  },
  {
   "cell_type": "code",
   "execution_count": 201,
   "id": "154c6b90",
   "metadata": {},
   "outputs": [
    {
     "data": {
      "text/html": [
       "<div style=\"width:100%;\"><div style=\"position:relative;width:100%;height:0;padding-bottom:60%;\"><span style=\"color:#565656\">Make this Notebook Trusted to load map: File -> Trust Notebook</span><iframe src=\"about:blank\" style=\"position:absolute;width:100%;height:100%;left:0;top:0;border:none !important;\" data-html=%3C%21DOCTYPE%20html%3E%0A%3Chead%3E%20%20%20%20%0A%20%20%20%20%3Cmeta%20http-equiv%3D%22content-type%22%20content%3D%22text/html%3B%20charset%3DUTF-8%22%20/%3E%0A%20%20%20%20%0A%20%20%20%20%20%20%20%20%3Cscript%3E%0A%20%20%20%20%20%20%20%20%20%20%20%20L_NO_TOUCH%20%3D%20false%3B%0A%20%20%20%20%20%20%20%20%20%20%20%20L_DISABLE_3D%20%3D%20false%3B%0A%20%20%20%20%20%20%20%20%3C/script%3E%0A%20%20%20%20%0A%20%20%20%20%3Cstyle%3Ehtml%2C%20body%20%7Bwidth%3A%20100%25%3Bheight%3A%20100%25%3Bmargin%3A%200%3Bpadding%3A%200%3B%7D%3C/style%3E%0A%20%20%20%20%3Cstyle%3E%23map%20%7Bposition%3Aabsolute%3Btop%3A0%3Bbottom%3A0%3Bright%3A0%3Bleft%3A0%3B%7D%3C/style%3E%0A%20%20%20%20%3Cscript%20src%3D%22https%3A//cdn.jsdelivr.net/npm/leaflet%401.6.0/dist/leaflet.js%22%3E%3C/script%3E%0A%20%20%20%20%3Cscript%20src%3D%22https%3A//code.jquery.com/jquery-1.12.4.min.js%22%3E%3C/script%3E%0A%20%20%20%20%3Cscript%20src%3D%22https%3A//maxcdn.bootstrapcdn.com/bootstrap/3.2.0/js/bootstrap.min.js%22%3E%3C/script%3E%0A%20%20%20%20%3Cscript%20src%3D%22https%3A//cdnjs.cloudflare.com/ajax/libs/Leaflet.awesome-markers/2.0.2/leaflet.awesome-markers.js%22%3E%3C/script%3E%0A%20%20%20%20%3Clink%20rel%3D%22stylesheet%22%20href%3D%22https%3A//cdn.jsdelivr.net/npm/leaflet%401.6.0/dist/leaflet.css%22/%3E%0A%20%20%20%20%3Clink%20rel%3D%22stylesheet%22%20href%3D%22https%3A//maxcdn.bootstrapcdn.com/bootstrap/3.2.0/css/bootstrap.min.css%22/%3E%0A%20%20%20%20%3Clink%20rel%3D%22stylesheet%22%20href%3D%22https%3A//maxcdn.bootstrapcdn.com/bootstrap/3.2.0/css/bootstrap-theme.min.css%22/%3E%0A%20%20%20%20%3Clink%20rel%3D%22stylesheet%22%20href%3D%22https%3A//maxcdn.bootstrapcdn.com/font-awesome/4.6.3/css/font-awesome.min.css%22/%3E%0A%20%20%20%20%3Clink%20rel%3D%22stylesheet%22%20href%3D%22https%3A//cdnjs.cloudflare.com/ajax/libs/Leaflet.awesome-markers/2.0.2/leaflet.awesome-markers.css%22/%3E%0A%20%20%20%20%3Clink%20rel%3D%22stylesheet%22%20href%3D%22https%3A//cdn.jsdelivr.net/gh/python-visualization/folium/folium/templates/leaflet.awesome.rotate.min.css%22/%3E%0A%20%20%20%20%0A%20%20%20%20%20%20%20%20%20%20%20%20%3Cmeta%20name%3D%22viewport%22%20content%3D%22width%3Ddevice-width%2C%0A%20%20%20%20%20%20%20%20%20%20%20%20%20%20%20%20initial-scale%3D1.0%2C%20maximum-scale%3D1.0%2C%20user-scalable%3Dno%22%20/%3E%0A%20%20%20%20%20%20%20%20%20%20%20%20%3Cstyle%3E%0A%20%20%20%20%20%20%20%20%20%20%20%20%20%20%20%20%23map_cf50420fce1140aa998fc9a900468451%20%7B%0A%20%20%20%20%20%20%20%20%20%20%20%20%20%20%20%20%20%20%20%20position%3A%20relative%3B%0A%20%20%20%20%20%20%20%20%20%20%20%20%20%20%20%20%20%20%20%20width%3A%20100.0%25%3B%0A%20%20%20%20%20%20%20%20%20%20%20%20%20%20%20%20%20%20%20%20height%3A%20100.0%25%3B%0A%20%20%20%20%20%20%20%20%20%20%20%20%20%20%20%20%20%20%20%20left%3A%200.0%25%3B%0A%20%20%20%20%20%20%20%20%20%20%20%20%20%20%20%20%20%20%20%20top%3A%200.0%25%3B%0A%20%20%20%20%20%20%20%20%20%20%20%20%20%20%20%20%7D%0A%20%20%20%20%20%20%20%20%20%20%20%20%3C/style%3E%0A%20%20%20%20%20%20%20%20%0A%3C/head%3E%0A%3Cbody%3E%20%20%20%20%0A%20%20%20%20%0A%20%20%20%20%20%20%20%20%20%20%20%20%3Cdiv%20class%3D%22folium-map%22%20id%3D%22map_cf50420fce1140aa998fc9a900468451%22%20%3E%3C/div%3E%0A%20%20%20%20%20%20%20%20%0A%3C/body%3E%0A%3Cscript%3E%20%20%20%20%0A%20%20%20%20%0A%20%20%20%20%20%20%20%20%20%20%20%20var%20map_cf50420fce1140aa998fc9a900468451%20%3D%20L.map%28%0A%20%20%20%20%20%20%20%20%20%20%20%20%20%20%20%20%22map_cf50420fce1140aa998fc9a900468451%22%2C%0A%20%20%20%20%20%20%20%20%20%20%20%20%20%20%20%20%7B%0A%20%20%20%20%20%20%20%20%20%20%20%20%20%20%20%20%20%20%20%20center%3A%20%5B-7.112663718442472%2C%20-34.85464324352098%5D%2C%0A%20%20%20%20%20%20%20%20%20%20%20%20%20%20%20%20%20%20%20%20crs%3A%20L.CRS.EPSG3857%2C%0A%20%20%20%20%20%20%20%20%20%20%20%20%20%20%20%20%20%20%20%20zoom%3A%201%2C%0A%20%20%20%20%20%20%20%20%20%20%20%20%20%20%20%20%20%20%20%20zoomControl%3A%20true%2C%0A%20%20%20%20%20%20%20%20%20%20%20%20%20%20%20%20%20%20%20%20preferCanvas%3A%20false%2C%0A%20%20%20%20%20%20%20%20%20%20%20%20%20%20%20%20%7D%0A%20%20%20%20%20%20%20%20%20%20%20%20%29%3B%0A%0A%20%20%20%20%20%20%20%20%20%20%20%20%0A%0A%20%20%20%20%20%20%20%20%0A%20%20%20%20%0A%20%20%20%20%20%20%20%20%20%20%20%20var%20tile_layer_161deab5a1c349949d043f6b6159ad52%20%3D%20L.tileLayer%28%0A%20%20%20%20%20%20%20%20%20%20%20%20%20%20%20%20%22https%3A//cartodb-basemaps-%7Bs%7D.global.ssl.fastly.net/light_all/%7Bz%7D/%7Bx%7D/%7By%7D.png%22%2C%0A%20%20%20%20%20%20%20%20%20%20%20%20%20%20%20%20%7B%22attribution%22%3A%20%22%5Cu0026copy%3B%20%5Cu003ca%20href%3D%5C%22http%3A//www.openstreetmap.org/copyright%5C%22%5Cu003eOpenStreetMap%5Cu003c/a%5Cu003e%20contributors%20%5Cu0026copy%3B%20%5Cu003ca%20href%3D%5C%22http%3A//cartodb.com/attributions%5C%22%5Cu003eCartoDB%5Cu003c/a%5Cu003e%2C%20CartoDB%20%5Cu003ca%20href%20%3D%5C%22http%3A//cartodb.com/attributions%5C%22%5Cu003eattributions%5Cu003c/a%5Cu003e%22%2C%20%22detectRetina%22%3A%20false%2C%20%22maxNativeZoom%22%3A%2018%2C%20%22maxZoom%22%3A%2018%2C%20%22minZoom%22%3A%200%2C%20%22noWrap%22%3A%20false%2C%20%22opacity%22%3A%201%2C%20%22subdomains%22%3A%20%22abc%22%2C%20%22tms%22%3A%20false%7D%0A%20%20%20%20%20%20%20%20%20%20%20%20%29.addTo%28map_cf50420fce1140aa998fc9a900468451%29%3B%0A%20%20%20%20%20%20%20%20%0A%20%20%20%20%0A%20%20%20%20%20%20%20%20%20%20%20%20var%20poly_line_3e2d098960564136abccf2b4596c13ab%20%3D%20L.polyline%28%0A%20%20%20%20%20%20%20%20%20%20%20%20%20%20%20%20%5B%5B-7.1004069%2C%20-34.8693835%5D%2C%20%5B-7.1006006%2C%20-34.8693106%5D%2C%20%5B-7.1009229%2C%20-34.8691797%5D%5D%2C%0A%20%20%20%20%20%20%20%20%20%20%20%20%20%20%20%20%7B%22bubblingMouseEvents%22%3A%20true%2C%20%22color%22%3A%20%22%233388ff%22%2C%20%22dashArray%22%3A%20null%2C%20%22dashOffset%22%3A%20null%2C%20%22fill%22%3A%20false%2C%20%22fillColor%22%3A%20%22%233388ff%22%2C%20%22fillOpacity%22%3A%200.2%2C%20%22fillRule%22%3A%20%22evenodd%22%2C%20%22lineCap%22%3A%20%22round%22%2C%20%22lineJoin%22%3A%20%22round%22%2C%20%22noClip%22%3A%20false%2C%20%22opacity%22%3A%201.0%2C%20%22smoothFactor%22%3A%201.0%2C%20%22stroke%22%3A%20true%2C%20%22weight%22%3A%203%7D%0A%20%20%20%20%20%20%20%20%20%20%20%20%29.addTo%28map_cf50420fce1140aa998fc9a900468451%29%3B%0A%20%20%20%20%20%20%20%20%0A%20%20%20%20%0A%20%20%20%20%20%20%20%20%20%20%20%20var%20poly_line_d9c7cde76fa845249b23a3504e16f550%20%3D%20L.polyline%28%0A%20%20%20%20%20%20%20%20%20%20%20%20%20%20%20%20%5B%5B-7.1009229%2C%20-34.8691797%5D%2C%20%5B-7.1009386%2C%20-34.8690907%5D%2C%20%5B-7.1009359%2C%20-34.8689103%5D%2C%20%5B-7.1009073%2C%20-34.8686998%5D%2C%20%5B-7.1008297%2C%20-34.8684555%5D%5D%2C%0A%20%20%20%20%20%20%20%20%20%20%20%20%20%20%20%20%7B%22bubblingMouseEvents%22%3A%20true%2C%20%22color%22%3A%20%22%233388ff%22%2C%20%22dashArray%22%3A%20null%2C%20%22dashOffset%22%3A%20null%2C%20%22fill%22%3A%20false%2C%20%22fillColor%22%3A%20%22%233388ff%22%2C%20%22fillOpacity%22%3A%200.2%2C%20%22fillRule%22%3A%20%22evenodd%22%2C%20%22lineCap%22%3A%20%22round%22%2C%20%22lineJoin%22%3A%20%22round%22%2C%20%22noClip%22%3A%20false%2C%20%22opacity%22%3A%201.0%2C%20%22smoothFactor%22%3A%201.0%2C%20%22stroke%22%3A%20true%2C%20%22weight%22%3A%203%7D%0A%20%20%20%20%20%20%20%20%20%20%20%20%29.addTo%28map_cf50420fce1140aa998fc9a900468451%29%3B%0A%20%20%20%20%20%20%20%20%0A%20%20%20%20%0A%20%20%20%20%20%20%20%20%20%20%20%20var%20poly_line_882c67398a2c4c2f86e56bb7aea125c1%20%3D%20L.polyline%28%0A%20%20%20%20%20%20%20%20%20%20%20%20%20%20%20%20%5B%5B-7.1008297%2C%20-34.8684555%5D%2C%20%5B-7.1006333%2C%20-34.8679675%5D%5D%2C%0A%20%20%20%20%20%20%20%20%20%20%20%20%20%20%20%20%7B%22bubblingMouseEvents%22%3A%20true%2C%20%22color%22%3A%20%22%233388ff%22%2C%20%22dashArray%22%3A%20null%2C%20%22dashOffset%22%3A%20null%2C%20%22fill%22%3A%20false%2C%20%22fillColor%22%3A%20%22%233388ff%22%2C%20%22fillOpacity%22%3A%200.2%2C%20%22fillRule%22%3A%20%22evenodd%22%2C%20%22lineCap%22%3A%20%22round%22%2C%20%22lineJoin%22%3A%20%22round%22%2C%20%22noClip%22%3A%20false%2C%20%22opacity%22%3A%201.0%2C%20%22smoothFactor%22%3A%201.0%2C%20%22stroke%22%3A%20true%2C%20%22weight%22%3A%203%7D%0A%20%20%20%20%20%20%20%20%20%20%20%20%29.addTo%28map_cf50420fce1140aa998fc9a900468451%29%3B%0A%20%20%20%20%20%20%20%20%0A%20%20%20%20%0A%20%20%20%20%20%20%20%20%20%20%20%20var%20poly_line_5997d1c65d434c869dbae24a14188b1f%20%3D%20L.polyline%28%0A%20%20%20%20%20%20%20%20%20%20%20%20%20%20%20%20%5B%5B-7.1006333%2C%20-34.8679675%5D%2C%20%5B-7.1004974%2C%20-34.8675991%5D%5D%2C%0A%20%20%20%20%20%20%20%20%20%20%20%20%20%20%20%20%7B%22bubblingMouseEvents%22%3A%20true%2C%20%22color%22%3A%20%22%233388ff%22%2C%20%22dashArray%22%3A%20null%2C%20%22dashOffset%22%3A%20null%2C%20%22fill%22%3A%20false%2C%20%22fillColor%22%3A%20%22%233388ff%22%2C%20%22fillOpacity%22%3A%200.2%2C%20%22fillRule%22%3A%20%22evenodd%22%2C%20%22lineCap%22%3A%20%22round%22%2C%20%22lineJoin%22%3A%20%22round%22%2C%20%22noClip%22%3A%20false%2C%20%22opacity%22%3A%201.0%2C%20%22smoothFactor%22%3A%201.0%2C%20%22stroke%22%3A%20true%2C%20%22weight%22%3A%203%7D%0A%20%20%20%20%20%20%20%20%20%20%20%20%29.addTo%28map_cf50420fce1140aa998fc9a900468451%29%3B%0A%20%20%20%20%20%20%20%20%0A%20%20%20%20%0A%20%20%20%20%20%20%20%20%20%20%20%20var%20poly_line_18622ffcd8594f9fbae3a9bb9a1bd4ff%20%3D%20L.polyline%28%0A%20%20%20%20%20%20%20%20%20%20%20%20%20%20%20%20%5B%5B-7.1004974%2C%20-34.8675991%5D%2C%20%5B-7.1003165%2C%20-34.8671412%5D%5D%2C%0A%20%20%20%20%20%20%20%20%20%20%20%20%20%20%20%20%7B%22bubblingMouseEvents%22%3A%20true%2C%20%22color%22%3A%20%22%233388ff%22%2C%20%22dashArray%22%3A%20null%2C%20%22dashOffset%22%3A%20null%2C%20%22fill%22%3A%20false%2C%20%22fillColor%22%3A%20%22%233388ff%22%2C%20%22fillOpacity%22%3A%200.2%2C%20%22fillRule%22%3A%20%22evenodd%22%2C%20%22lineCap%22%3A%20%22round%22%2C%20%22lineJoin%22%3A%20%22round%22%2C%20%22noClip%22%3A%20false%2C%20%22opacity%22%3A%201.0%2C%20%22smoothFactor%22%3A%201.0%2C%20%22stroke%22%3A%20true%2C%20%22weight%22%3A%203%7D%0A%20%20%20%20%20%20%20%20%20%20%20%20%29.addTo%28map_cf50420fce1140aa998fc9a900468451%29%3B%0A%20%20%20%20%20%20%20%20%0A%20%20%20%20%0A%20%20%20%20%20%20%20%20%20%20%20%20var%20poly_line_c8f08e3c81964bf2905082847cbf5c5b%20%3D%20L.polyline%28%0A%20%20%20%20%20%20%20%20%20%20%20%20%20%20%20%20%5B%5B-7.1003165%2C%20-34.8671412%5D%2C%20%5B-7.1002144%2C%20-34.8668986%5D%5D%2C%0A%20%20%20%20%20%20%20%20%20%20%20%20%20%20%20%20%7B%22bubblingMouseEvents%22%3A%20true%2C%20%22color%22%3A%20%22%233388ff%22%2C%20%22dashArray%22%3A%20null%2C%20%22dashOffset%22%3A%20null%2C%20%22fill%22%3A%20false%2C%20%22fillColor%22%3A%20%22%233388ff%22%2C%20%22fillOpacity%22%3A%200.2%2C%20%22fillRule%22%3A%20%22evenodd%22%2C%20%22lineCap%22%3A%20%22round%22%2C%20%22lineJoin%22%3A%20%22round%22%2C%20%22noClip%22%3A%20false%2C%20%22opacity%22%3A%201.0%2C%20%22smoothFactor%22%3A%201.0%2C%20%22stroke%22%3A%20true%2C%20%22weight%22%3A%203%7D%0A%20%20%20%20%20%20%20%20%20%20%20%20%29.addTo%28map_cf50420fce1140aa998fc9a900468451%29%3B%0A%20%20%20%20%20%20%20%20%0A%20%20%20%20%0A%20%20%20%20%20%20%20%20%20%20%20%20var%20poly_line_faf672554d5e4517a6375ebce543fa54%20%3D%20L.polyline%28%0A%20%20%20%20%20%20%20%20%20%20%20%20%20%20%20%20%5B%5B-7.1002144%2C%20-34.8668986%5D%2C%20%5B-7.1000388%2C%20-34.86645%5D%5D%2C%0A%20%20%20%20%20%20%20%20%20%20%20%20%20%20%20%20%7B%22bubblingMouseEvents%22%3A%20true%2C%20%22color%22%3A%20%22%233388ff%22%2C%20%22dashArray%22%3A%20null%2C%20%22dashOffset%22%3A%20null%2C%20%22fill%22%3A%20false%2C%20%22fillColor%22%3A%20%22%233388ff%22%2C%20%22fillOpacity%22%3A%200.2%2C%20%22fillRule%22%3A%20%22evenodd%22%2C%20%22lineCap%22%3A%20%22round%22%2C%20%22lineJoin%22%3A%20%22round%22%2C%20%22noClip%22%3A%20false%2C%20%22opacity%22%3A%201.0%2C%20%22smoothFactor%22%3A%201.0%2C%20%22stroke%22%3A%20true%2C%20%22weight%22%3A%203%7D%0A%20%20%20%20%20%20%20%20%20%20%20%20%29.addTo%28map_cf50420fce1140aa998fc9a900468451%29%3B%0A%20%20%20%20%20%20%20%20%0A%20%20%20%20%0A%20%20%20%20%20%20%20%20%20%20%20%20var%20poly_line_45b836eb736940a693c99349e3f22727%20%3D%20L.polyline%28%0A%20%20%20%20%20%20%20%20%20%20%20%20%20%20%20%20%5B%5B-7.1000388%2C%20-34.86645%5D%2C%20%5B-7.0999195%2C%20-34.8661155%5D%5D%2C%0A%20%20%20%20%20%20%20%20%20%20%20%20%20%20%20%20%7B%22bubblingMouseEvents%22%3A%20true%2C%20%22color%22%3A%20%22%233388ff%22%2C%20%22dashArray%22%3A%20null%2C%20%22dashOffset%22%3A%20null%2C%20%22fill%22%3A%20false%2C%20%22fillColor%22%3A%20%22%233388ff%22%2C%20%22fillOpacity%22%3A%200.2%2C%20%22fillRule%22%3A%20%22evenodd%22%2C%20%22lineCap%22%3A%20%22round%22%2C%20%22lineJoin%22%3A%20%22round%22%2C%20%22noClip%22%3A%20false%2C%20%22opacity%22%3A%201.0%2C%20%22smoothFactor%22%3A%201.0%2C%20%22stroke%22%3A%20true%2C%20%22weight%22%3A%203%7D%0A%20%20%20%20%20%20%20%20%20%20%20%20%29.addTo%28map_cf50420fce1140aa998fc9a900468451%29%3B%0A%20%20%20%20%20%20%20%20%0A%20%20%20%20%0A%20%20%20%20%20%20%20%20%20%20%20%20var%20poly_line_006fa2a3658e4f3398380e90e3d62082%20%3D%20L.polyline%28%0A%20%20%20%20%20%20%20%20%20%20%20%20%20%20%20%20%5B%5B-7.0999195%2C%20-34.8661155%5D%2C%20%5B-7.0996996%2C%20-34.8655651%5D%5D%2C%0A%20%20%20%20%20%20%20%20%20%20%20%20%20%20%20%20%7B%22bubblingMouseEvents%22%3A%20true%2C%20%22color%22%3A%20%22%233388ff%22%2C%20%22dashArray%22%3A%20null%2C%20%22dashOffset%22%3A%20null%2C%20%22fill%22%3A%20false%2C%20%22fillColor%22%3A%20%22%233388ff%22%2C%20%22fillOpacity%22%3A%200.2%2C%20%22fillRule%22%3A%20%22evenodd%22%2C%20%22lineCap%22%3A%20%22round%22%2C%20%22lineJoin%22%3A%20%22round%22%2C%20%22noClip%22%3A%20false%2C%20%22opacity%22%3A%201.0%2C%20%22smoothFactor%22%3A%201.0%2C%20%22stroke%22%3A%20true%2C%20%22weight%22%3A%203%7D%0A%20%20%20%20%20%20%20%20%20%20%20%20%29.addTo%28map_cf50420fce1140aa998fc9a900468451%29%3B%0A%20%20%20%20%20%20%20%20%0A%20%20%20%20%0A%20%20%20%20%20%20%20%20%20%20%20%20var%20poly_line_927511b6f6a34cc89d9ed8eefb4c3fbe%20%3D%20L.polyline%28%0A%20%20%20%20%20%20%20%20%20%20%20%20%20%20%20%20%5B%5B-7.0996996%2C%20-34.8655651%5D%2C%20%5B-7.1005615%2C%20-34.8652191%5D%5D%2C%0A%20%20%20%20%20%20%20%20%20%20%20%20%20%20%20%20%7B%22bubblingMouseEvents%22%3A%20true%2C%20%22color%22%3A%20%22%233388ff%22%2C%20%22dashArray%22%3A%20null%2C%20%22dashOffset%22%3A%20null%2C%20%22fill%22%3A%20false%2C%20%22fillColor%22%3A%20%22%233388ff%22%2C%20%22fillOpacity%22%3A%200.2%2C%20%22fillRule%22%3A%20%22evenodd%22%2C%20%22lineCap%22%3A%20%22round%22%2C%20%22lineJoin%22%3A%20%22round%22%2C%20%22noClip%22%3A%20false%2C%20%22opacity%22%3A%201.0%2C%20%22smoothFactor%22%3A%201.0%2C%20%22stroke%22%3A%20true%2C%20%22weight%22%3A%203%7D%0A%20%20%20%20%20%20%20%20%20%20%20%20%29.addTo%28map_cf50420fce1140aa998fc9a900468451%29%3B%0A%20%20%20%20%20%20%20%20%0A%20%20%20%20%0A%20%20%20%20%20%20%20%20%20%20%20%20var%20poly_line_1d7a44dc3c0a49e893b8eadeade3bcd2%20%3D%20L.polyline%28%0A%20%20%20%20%20%20%20%20%20%20%20%20%20%20%20%20%5B%5B-7.1005615%2C%20-34.8652191%5D%2C%20%5B-7.1006479%2C%20-34.86518%5D%2C%20%5B-7.1007576%2C%20-34.8651452%5D%5D%2C%0A%20%20%20%20%20%20%20%20%20%20%20%20%20%20%20%20%7B%22bubblingMouseEvents%22%3A%20true%2C%20%22color%22%3A%20%22%233388ff%22%2C%20%22dashArray%22%3A%20null%2C%20%22dashOffset%22%3A%20null%2C%20%22fill%22%3A%20false%2C%20%22fillColor%22%3A%20%22%233388ff%22%2C%20%22fillOpacity%22%3A%200.2%2C%20%22fillRule%22%3A%20%22evenodd%22%2C%20%22lineCap%22%3A%20%22round%22%2C%20%22lineJoin%22%3A%20%22round%22%2C%20%22noClip%22%3A%20false%2C%20%22opacity%22%3A%201.0%2C%20%22smoothFactor%22%3A%201.0%2C%20%22stroke%22%3A%20true%2C%20%22weight%22%3A%203%7D%0A%20%20%20%20%20%20%20%20%20%20%20%20%29.addTo%28map_cf50420fce1140aa998fc9a900468451%29%3B%0A%20%20%20%20%20%20%20%20%0A%20%20%20%20%0A%20%20%20%20%20%20%20%20%20%20%20%20var%20poly_line_e1959949687141398b5927289e25fa2d%20%3D%20L.polyline%28%0A%20%20%20%20%20%20%20%20%20%20%20%20%20%20%20%20%5B%5B-7.1007576%2C%20-34.8651452%5D%2C%20%5B-7.1010471%2C%20-34.865033%5D%2C%20%5B-7.1012261%2C%20-34.8649655%5D%5D%2C%0A%20%20%20%20%20%20%20%20%20%20%20%20%20%20%20%20%7B%22bubblingMouseEvents%22%3A%20true%2C%20%22color%22%3A%20%22%233388ff%22%2C%20%22dashArray%22%3A%20null%2C%20%22dashOffset%22%3A%20null%2C%20%22fill%22%3A%20false%2C%20%22fillColor%22%3A%20%22%233388ff%22%2C%20%22fillOpacity%22%3A%200.2%2C%20%22fillRule%22%3A%20%22evenodd%22%2C%20%22lineCap%22%3A%20%22round%22%2C%20%22lineJoin%22%3A%20%22round%22%2C%20%22noClip%22%3A%20false%2C%20%22opacity%22%3A%201.0%2C%20%22smoothFactor%22%3A%201.0%2C%20%22stroke%22%3A%20true%2C%20%22weight%22%3A%203%7D%0A%20%20%20%20%20%20%20%20%20%20%20%20%29.addTo%28map_cf50420fce1140aa998fc9a900468451%29%3B%0A%20%20%20%20%20%20%20%20%0A%20%20%20%20%0A%20%20%20%20%20%20%20%20%20%20%20%20var%20poly_line_b13473d4b7664117b759e24a8ef60947%20%3D%20L.polyline%28%0A%20%20%20%20%20%20%20%20%20%20%20%20%20%20%20%20%5B%5B-7.1012261%2C%20-34.8649655%5D%2C%20%5B-7.1012866%2C%20-34.8649462%5D%5D%2C%0A%20%20%20%20%20%20%20%20%20%20%20%20%20%20%20%20%7B%22bubblingMouseEvents%22%3A%20true%2C%20%22color%22%3A%20%22%233388ff%22%2C%20%22dashArray%22%3A%20null%2C%20%22dashOffset%22%3A%20null%2C%20%22fill%22%3A%20false%2C%20%22fillColor%22%3A%20%22%233388ff%22%2C%20%22fillOpacity%22%3A%200.2%2C%20%22fillRule%22%3A%20%22evenodd%22%2C%20%22lineCap%22%3A%20%22round%22%2C%20%22lineJoin%22%3A%20%22round%22%2C%20%22noClip%22%3A%20false%2C%20%22opacity%22%3A%201.0%2C%20%22smoothFactor%22%3A%201.0%2C%20%22stroke%22%3A%20true%2C%20%22weight%22%3A%203%7D%0A%20%20%20%20%20%20%20%20%20%20%20%20%29.addTo%28map_cf50420fce1140aa998fc9a900468451%29%3B%0A%20%20%20%20%20%20%20%20%0A%20%20%20%20%0A%20%20%20%20%20%20%20%20%20%20%20%20var%20poly_line_45cbdf45a53c456ca7449e6efafcbaa3%20%3D%20L.polyline%28%0A%20%20%20%20%20%20%20%20%20%20%20%20%20%20%20%20%5B%5B-7.1012866%2C%20-34.8649462%5D%2C%20%5B-7.1017749%2C%20-34.864759%5D%5D%2C%0A%20%20%20%20%20%20%20%20%20%20%20%20%20%20%20%20%7B%22bubblingMouseEvents%22%3A%20true%2C%20%22color%22%3A%20%22%233388ff%22%2C%20%22dashArray%22%3A%20null%2C%20%22dashOffset%22%3A%20null%2C%20%22fill%22%3A%20false%2C%20%22fillColor%22%3A%20%22%233388ff%22%2C%20%22fillOpacity%22%3A%200.2%2C%20%22fillRule%22%3A%20%22evenodd%22%2C%20%22lineCap%22%3A%20%22round%22%2C%20%22lineJoin%22%3A%20%22round%22%2C%20%22noClip%22%3A%20false%2C%20%22opacity%22%3A%201.0%2C%20%22smoothFactor%22%3A%201.0%2C%20%22stroke%22%3A%20true%2C%20%22weight%22%3A%203%7D%0A%20%20%20%20%20%20%20%20%20%20%20%20%29.addTo%28map_cf50420fce1140aa998fc9a900468451%29%3B%0A%20%20%20%20%20%20%20%20%0A%20%20%20%20%0A%20%20%20%20%20%20%20%20%20%20%20%20var%20poly_line_c36e3d4800cc4408a8a5c5f4f884b5f3%20%3D%20L.polyline%28%0A%20%20%20%20%20%20%20%20%20%20%20%20%20%20%20%20%5B%5B-7.1017749%2C%20-34.864759%5D%2C%20%5B-7.1023595%2C%20-34.8644813%5D%5D%2C%0A%20%20%20%20%20%20%20%20%20%20%20%20%20%20%20%20%7B%22bubblingMouseEvents%22%3A%20true%2C%20%22color%22%3A%20%22%233388ff%22%2C%20%22dashArray%22%3A%20null%2C%20%22dashOffset%22%3A%20null%2C%20%22fill%22%3A%20false%2C%20%22fillColor%22%3A%20%22%233388ff%22%2C%20%22fillOpacity%22%3A%200.2%2C%20%22fillRule%22%3A%20%22evenodd%22%2C%20%22lineCap%22%3A%20%22round%22%2C%20%22lineJoin%22%3A%20%22round%22%2C%20%22noClip%22%3A%20false%2C%20%22opacity%22%3A%201.0%2C%20%22smoothFactor%22%3A%201.0%2C%20%22stroke%22%3A%20true%2C%20%22weight%22%3A%203%7D%0A%20%20%20%20%20%20%20%20%20%20%20%20%29.addTo%28map_cf50420fce1140aa998fc9a900468451%29%3B%0A%20%20%20%20%20%20%20%20%0A%20%20%20%20%0A%20%20%20%20%20%20%20%20%20%20%20%20var%20poly_line_b1ca846b135f42918a3821c73a127c43%20%3D%20L.polyline%28%0A%20%20%20%20%20%20%20%20%20%20%20%20%20%20%20%20%5B%5B-7.1023595%2C%20-34.8644813%5D%2C%20%5B-7.1029516%2C%20-34.8641903%5D%5D%2C%0A%20%20%20%20%20%20%20%20%20%20%20%20%20%20%20%20%7B%22bubblingMouseEvents%22%3A%20true%2C%20%22color%22%3A%20%22%233388ff%22%2C%20%22dashArray%22%3A%20null%2C%20%22dashOffset%22%3A%20null%2C%20%22fill%22%3A%20false%2C%20%22fillColor%22%3A%20%22%233388ff%22%2C%20%22fillOpacity%22%3A%200.2%2C%20%22fillRule%22%3A%20%22evenodd%22%2C%20%22lineCap%22%3A%20%22round%22%2C%20%22lineJoin%22%3A%20%22round%22%2C%20%22noClip%22%3A%20false%2C%20%22opacity%22%3A%201.0%2C%20%22smoothFactor%22%3A%201.0%2C%20%22stroke%22%3A%20true%2C%20%22weight%22%3A%203%7D%0A%20%20%20%20%20%20%20%20%20%20%20%20%29.addTo%28map_cf50420fce1140aa998fc9a900468451%29%3B%0A%20%20%20%20%20%20%20%20%0A%20%20%20%20%0A%20%20%20%20%20%20%20%20%20%20%20%20var%20poly_line_015245365e3349f484120c3ee7001fe3%20%3D%20L.polyline%28%0A%20%20%20%20%20%20%20%20%20%20%20%20%20%20%20%20%5B%5B-7.1029516%2C%20-34.8641903%5D%2C%20%5B-7.1031541%2C%20-34.864084%5D%5D%2C%0A%20%20%20%20%20%20%20%20%20%20%20%20%20%20%20%20%7B%22bubblingMouseEvents%22%3A%20true%2C%20%22color%22%3A%20%22%233388ff%22%2C%20%22dashArray%22%3A%20null%2C%20%22dashOffset%22%3A%20null%2C%20%22fill%22%3A%20false%2C%20%22fillColor%22%3A%20%22%233388ff%22%2C%20%22fillOpacity%22%3A%200.2%2C%20%22fillRule%22%3A%20%22evenodd%22%2C%20%22lineCap%22%3A%20%22round%22%2C%20%22lineJoin%22%3A%20%22round%22%2C%20%22noClip%22%3A%20false%2C%20%22opacity%22%3A%201.0%2C%20%22smoothFactor%22%3A%201.0%2C%20%22stroke%22%3A%20true%2C%20%22weight%22%3A%203%7D%0A%20%20%20%20%20%20%20%20%20%20%20%20%29.addTo%28map_cf50420fce1140aa998fc9a900468451%29%3B%0A%20%20%20%20%20%20%20%20%0A%20%20%20%20%0A%20%20%20%20%20%20%20%20%20%20%20%20var%20poly_line_2ab6fd242ffd4de68b060ba295e35839%20%3D%20L.polyline%28%0A%20%20%20%20%20%20%20%20%20%20%20%20%20%20%20%20%5B%5B-7.1031541%2C%20-34.864084%5D%2C%20%5B-7.1032685%2C%20-34.8639992%5D%2C%20%5B-7.1033081%2C%20-34.8639606%5D%2C%20%5B-7.1033297%2C%20-34.8639227%5D%2C%20%5B-7.1033514%2C%20-34.8638812%5D%2C%20%5B-7.1033773%2C%20-34.8638255%5D%5D%2C%0A%20%20%20%20%20%20%20%20%20%20%20%20%20%20%20%20%7B%22bubblingMouseEvents%22%3A%20true%2C%20%22color%22%3A%20%22%233388ff%22%2C%20%22dashArray%22%3A%20null%2C%20%22dashOffset%22%3A%20null%2C%20%22fill%22%3A%20false%2C%20%22fillColor%22%3A%20%22%233388ff%22%2C%20%22fillOpacity%22%3A%200.2%2C%20%22fillRule%22%3A%20%22evenodd%22%2C%20%22lineCap%22%3A%20%22round%22%2C%20%22lineJoin%22%3A%20%22round%22%2C%20%22noClip%22%3A%20false%2C%20%22opacity%22%3A%201.0%2C%20%22smoothFactor%22%3A%201.0%2C%20%22stroke%22%3A%20true%2C%20%22weight%22%3A%203%7D%0A%20%20%20%20%20%20%20%20%20%20%20%20%29.addTo%28map_cf50420fce1140aa998fc9a900468451%29%3B%0A%20%20%20%20%20%20%20%20%0A%20%20%20%20%0A%20%20%20%20%20%20%20%20%20%20%20%20var%20poly_line_5b5dd6676a694e45b32443313ef6bf85%20%3D%20L.polyline%28%0A%20%20%20%20%20%20%20%20%20%20%20%20%20%20%20%20%5B%5B-7.1033773%2C%20-34.8638255%5D%2C%20%5B-7.1031211%2C%20-34.8636046%5D%2C%20%5B-7.1029468%2C%20-34.8634178%5D%2C%20%5B-7.1026976%2C%20-34.8630956%5D%5D%2C%0A%20%20%20%20%20%20%20%20%20%20%20%20%20%20%20%20%7B%22bubblingMouseEvents%22%3A%20true%2C%20%22color%22%3A%20%22%233388ff%22%2C%20%22dashArray%22%3A%20null%2C%20%22dashOffset%22%3A%20null%2C%20%22fill%22%3A%20false%2C%20%22fillColor%22%3A%20%22%233388ff%22%2C%20%22fillOpacity%22%3A%200.2%2C%20%22fillRule%22%3A%20%22evenodd%22%2C%20%22lineCap%22%3A%20%22round%22%2C%20%22lineJoin%22%3A%20%22round%22%2C%20%22noClip%22%3A%20false%2C%20%22opacity%22%3A%201.0%2C%20%22smoothFactor%22%3A%201.0%2C%20%22stroke%22%3A%20true%2C%20%22weight%22%3A%203%7D%0A%20%20%20%20%20%20%20%20%20%20%20%20%29.addTo%28map_cf50420fce1140aa998fc9a900468451%29%3B%0A%20%20%20%20%20%20%20%20%0A%20%20%20%20%0A%20%20%20%20%20%20%20%20%20%20%20%20var%20poly_line_1a64afa37d2740d6845c5dcce0c574a9%20%3D%20L.polyline%28%0A%20%20%20%20%20%20%20%20%20%20%20%20%20%20%20%20%5B%5B-7.1026976%2C%20-34.8630956%5D%2C%20%5B-7.1027744%2C%20-34.8630557%5D%2C%20%5B-7.1028756%2C%20-34.8630255%5D%2C%20%5B-7.1032429%2C%20-34.8629746%5D%2C%20%5B-7.1040347%2C%20-34.8628794%5D%5D%2C%0A%20%20%20%20%20%20%20%20%20%20%20%20%20%20%20%20%7B%22bubblingMouseEvents%22%3A%20true%2C%20%22color%22%3A%20%22%233388ff%22%2C%20%22dashArray%22%3A%20null%2C%20%22dashOffset%22%3A%20null%2C%20%22fill%22%3A%20false%2C%20%22fillColor%22%3A%20%22%233388ff%22%2C%20%22fillOpacity%22%3A%200.2%2C%20%22fillRule%22%3A%20%22evenodd%22%2C%20%22lineCap%22%3A%20%22round%22%2C%20%22lineJoin%22%3A%20%22round%22%2C%20%22noClip%22%3A%20false%2C%20%22opacity%22%3A%201.0%2C%20%22smoothFactor%22%3A%201.0%2C%20%22stroke%22%3A%20true%2C%20%22weight%22%3A%203%7D%0A%20%20%20%20%20%20%20%20%20%20%20%20%29.addTo%28map_cf50420fce1140aa998fc9a900468451%29%3B%0A%20%20%20%20%20%20%20%20%0A%20%20%20%20%0A%20%20%20%20%20%20%20%20%20%20%20%20var%20poly_line_36de909d0fa54adaa2a3d3c4e586bb5b%20%3D%20L.polyline%28%0A%20%20%20%20%20%20%20%20%20%20%20%20%20%20%20%20%5B%5B-7.1040347%2C%20-34.8628794%5D%2C%20%5B-7.1039668%2C%20-34.8623118%5D%2C%20%5B-7.1039103%2C%20-34.8618854%5D%5D%2C%0A%20%20%20%20%20%20%20%20%20%20%20%20%20%20%20%20%7B%22bubblingMouseEvents%22%3A%20true%2C%20%22color%22%3A%20%22%233388ff%22%2C%20%22dashArray%22%3A%20null%2C%20%22dashOffset%22%3A%20null%2C%20%22fill%22%3A%20false%2C%20%22fillColor%22%3A%20%22%233388ff%22%2C%20%22fillOpacity%22%3A%200.2%2C%20%22fillRule%22%3A%20%22evenodd%22%2C%20%22lineCap%22%3A%20%22round%22%2C%20%22lineJoin%22%3A%20%22round%22%2C%20%22noClip%22%3A%20false%2C%20%22opacity%22%3A%201.0%2C%20%22smoothFactor%22%3A%201.0%2C%20%22stroke%22%3A%20true%2C%20%22weight%22%3A%203%7D%0A%20%20%20%20%20%20%20%20%20%20%20%20%29.addTo%28map_cf50420fce1140aa998fc9a900468451%29%3B%0A%20%20%20%20%20%20%20%20%0A%20%20%20%20%0A%20%20%20%20%20%20%20%20%20%20%20%20var%20poly_line_08b406864db041f5af8c8bb23f263c89%20%3D%20L.polyline%28%0A%20%20%20%20%20%20%20%20%20%20%20%20%20%20%20%20%5B%5B-7.1039103%2C%20-34.8618854%5D%2C%20%5B-7.1058247%2C%20-34.8616616%5D%5D%2C%0A%20%20%20%20%20%20%20%20%20%20%20%20%20%20%20%20%7B%22bubblingMouseEvents%22%3A%20true%2C%20%22color%22%3A%20%22%233388ff%22%2C%20%22dashArray%22%3A%20null%2C%20%22dashOffset%22%3A%20null%2C%20%22fill%22%3A%20false%2C%20%22fillColor%22%3A%20%22%233388ff%22%2C%20%22fillOpacity%22%3A%200.2%2C%20%22fillRule%22%3A%20%22evenodd%22%2C%20%22lineCap%22%3A%20%22round%22%2C%20%22lineJoin%22%3A%20%22round%22%2C%20%22noClip%22%3A%20false%2C%20%22opacity%22%3A%201.0%2C%20%22smoothFactor%22%3A%201.0%2C%20%22stroke%22%3A%20true%2C%20%22weight%22%3A%203%7D%0A%20%20%20%20%20%20%20%20%20%20%20%20%29.addTo%28map_cf50420fce1140aa998fc9a900468451%29%3B%0A%20%20%20%20%20%20%20%20%0A%20%20%20%20%0A%20%20%20%20%20%20%20%20%20%20%20%20var%20poly_line_1542404930a54c36bc6adfa11e3a444c%20%3D%20L.polyline%28%0A%20%20%20%20%20%20%20%20%20%20%20%20%20%20%20%20%5B%5B-7.1058247%2C%20-34.8616616%5D%2C%20%5B-7.1072843%2C%20-34.8614815%5D%5D%2C%0A%20%20%20%20%20%20%20%20%20%20%20%20%20%20%20%20%7B%22bubblingMouseEvents%22%3A%20true%2C%20%22color%22%3A%20%22%233388ff%22%2C%20%22dashArray%22%3A%20null%2C%20%22dashOffset%22%3A%20null%2C%20%22fill%22%3A%20false%2C%20%22fillColor%22%3A%20%22%233388ff%22%2C%20%22fillOpacity%22%3A%200.2%2C%20%22fillRule%22%3A%20%22evenodd%22%2C%20%22lineCap%22%3A%20%22round%22%2C%20%22lineJoin%22%3A%20%22round%22%2C%20%22noClip%22%3A%20false%2C%20%22opacity%22%3A%201.0%2C%20%22smoothFactor%22%3A%201.0%2C%20%22stroke%22%3A%20true%2C%20%22weight%22%3A%203%7D%0A%20%20%20%20%20%20%20%20%20%20%20%20%29.addTo%28map_cf50420fce1140aa998fc9a900468451%29%3B%0A%20%20%20%20%20%20%20%20%0A%20%20%20%20%0A%20%20%20%20%20%20%20%20%20%20%20%20var%20poly_line_177dbdc19d2f4f2ca28b4c90380c2bc5%20%3D%20L.polyline%28%0A%20%20%20%20%20%20%20%20%20%20%20%20%20%20%20%20%5B%5B-7.1072843%2C%20-34.8614815%5D%2C%20%5B-7.1078827%2C%20-34.8614122%5D%2C%20%5B-7.1082121%2C%20-34.8613894%5D%2C%20%5B-7.1084503%2C%20-34.861384%5D%2C%20%5B-7.1085368%2C%20-34.8613881%5D%2C%20%5B-7.1086207%2C%20-34.8614028%5D%5D%2C%0A%20%20%20%20%20%20%20%20%20%20%20%20%20%20%20%20%7B%22bubblingMouseEvents%22%3A%20true%2C%20%22color%22%3A%20%22%233388ff%22%2C%20%22dashArray%22%3A%20null%2C%20%22dashOffset%22%3A%20null%2C%20%22fill%22%3A%20false%2C%20%22fillColor%22%3A%20%22%233388ff%22%2C%20%22fillOpacity%22%3A%200.2%2C%20%22fillRule%22%3A%20%22evenodd%22%2C%20%22lineCap%22%3A%20%22round%22%2C%20%22lineJoin%22%3A%20%22round%22%2C%20%22noClip%22%3A%20false%2C%20%22opacity%22%3A%201.0%2C%20%22smoothFactor%22%3A%201.0%2C%20%22stroke%22%3A%20true%2C%20%22weight%22%3A%203%7D%0A%20%20%20%20%20%20%20%20%20%20%20%20%29.addTo%28map_cf50420fce1140aa998fc9a900468451%29%3B%0A%20%20%20%20%20%20%20%20%0A%20%20%20%20%0A%20%20%20%20%20%20%20%20%20%20%20%20var%20poly_line_b8ac5e3e728147b3937ebf583c82106b%20%3D%20L.polyline%28%0A%20%20%20%20%20%20%20%20%20%20%20%20%20%20%20%20%5B%5B-7.1086207%2C%20-34.8614028%5D%2C%20%5B-7.1087052%2C%20-34.8612191%5D%2C%20%5B-7.1088382%2C%20-34.8608659%5D%5D%2C%0A%20%20%20%20%20%20%20%20%20%20%20%20%20%20%20%20%7B%22bubblingMouseEvents%22%3A%20true%2C%20%22color%22%3A%20%22%233388ff%22%2C%20%22dashArray%22%3A%20null%2C%20%22dashOffset%22%3A%20null%2C%20%22fill%22%3A%20false%2C%20%22fillColor%22%3A%20%22%233388ff%22%2C%20%22fillOpacity%22%3A%200.2%2C%20%22fillRule%22%3A%20%22evenodd%22%2C%20%22lineCap%22%3A%20%22round%22%2C%20%22lineJoin%22%3A%20%22round%22%2C%20%22noClip%22%3A%20false%2C%20%22opacity%22%3A%201.0%2C%20%22smoothFactor%22%3A%201.0%2C%20%22stroke%22%3A%20true%2C%20%22weight%22%3A%203%7D%0A%20%20%20%20%20%20%20%20%20%20%20%20%29.addTo%28map_cf50420fce1140aa998fc9a900468451%29%3B%0A%20%20%20%20%20%20%20%20%0A%20%20%20%20%0A%20%20%20%20%20%20%20%20%20%20%20%20var%20poly_line_1aec35cbfc63470b92435c3de2d3aeaa%20%3D%20L.polyline%28%0A%20%20%20%20%20%20%20%20%20%20%20%20%20%20%20%20%5B%5B-7.1088382%2C%20-34.8608659%5D%2C%20%5B-7.1090851%2C%20-34.8603433%5D%5D%2C%0A%20%20%20%20%20%20%20%20%20%20%20%20%20%20%20%20%7B%22bubblingMouseEvents%22%3A%20true%2C%20%22color%22%3A%20%22%233388ff%22%2C%20%22dashArray%22%3A%20null%2C%20%22dashOffset%22%3A%20null%2C%20%22fill%22%3A%20false%2C%20%22fillColor%22%3A%20%22%233388ff%22%2C%20%22fillOpacity%22%3A%200.2%2C%20%22fillRule%22%3A%20%22evenodd%22%2C%20%22lineCap%22%3A%20%22round%22%2C%20%22lineJoin%22%3A%20%22round%22%2C%20%22noClip%22%3A%20false%2C%20%22opacity%22%3A%201.0%2C%20%22smoothFactor%22%3A%201.0%2C%20%22stroke%22%3A%20true%2C%20%22weight%22%3A%203%7D%0A%20%20%20%20%20%20%20%20%20%20%20%20%29.addTo%28map_cf50420fce1140aa998fc9a900468451%29%3B%0A%20%20%20%20%20%20%20%20%0A%20%20%20%20%0A%20%20%20%20%20%20%20%20%20%20%20%20var%20poly_line_cfeac0a92b444493958e6d77281e469d%20%3D%20L.polyline%28%0A%20%20%20%20%20%20%20%20%20%20%20%20%20%20%20%20%5B%5B-7.1090851%2C%20-34.8603433%5D%2C%20%5B-7.1092155%2C%20-34.8601529%5D%2C%20%5B-7.1094098%2C%20-34.8599061%5D%2C%20%5B-7.1095559%2C%20-34.859717%5D%5D%2C%0A%20%20%20%20%20%20%20%20%20%20%20%20%20%20%20%20%7B%22bubblingMouseEvents%22%3A%20true%2C%20%22color%22%3A%20%22%233388ff%22%2C%20%22dashArray%22%3A%20null%2C%20%22dashOffset%22%3A%20null%2C%20%22fill%22%3A%20false%2C%20%22fillColor%22%3A%20%22%233388ff%22%2C%20%22fillOpacity%22%3A%200.2%2C%20%22fillRule%22%3A%20%22evenodd%22%2C%20%22lineCap%22%3A%20%22round%22%2C%20%22lineJoin%22%3A%20%22round%22%2C%20%22noClip%22%3A%20false%2C%20%22opacity%22%3A%201.0%2C%20%22smoothFactor%22%3A%201.0%2C%20%22stroke%22%3A%20true%2C%20%22weight%22%3A%203%7D%0A%20%20%20%20%20%20%20%20%20%20%20%20%29.addTo%28map_cf50420fce1140aa998fc9a900468451%29%3B%0A%20%20%20%20%20%20%20%20%0A%20%20%20%20%0A%20%20%20%20%20%20%20%20%20%20%20%20var%20poly_line_3ad87035e5d347738b2a34a4a0ce6920%20%3D%20L.polyline%28%0A%20%20%20%20%20%20%20%20%20%20%20%20%20%20%20%20%5B%5B-7.1095559%2C%20-34.859717%5D%2C%20%5B-7.1096747%2C%20-34.8596279%5D%2C%20%5B-7.1097758%2C%20-34.8595648%5D%2C%20%5B-7.1099515%2C%20-34.859477%5D%2C%20%5B-7.1102083%2C%20-34.8594012%5D%2C%20%5B-7.1105343%2C%20-34.8593147%5D%5D%2C%0A%20%20%20%20%20%20%20%20%20%20%20%20%20%20%20%20%7B%22bubblingMouseEvents%22%3A%20true%2C%20%22color%22%3A%20%22%233388ff%22%2C%20%22dashArray%22%3A%20null%2C%20%22dashOffset%22%3A%20null%2C%20%22fill%22%3A%20false%2C%20%22fillColor%22%3A%20%22%233388ff%22%2C%20%22fillOpacity%22%3A%200.2%2C%20%22fillRule%22%3A%20%22evenodd%22%2C%20%22lineCap%22%3A%20%22round%22%2C%20%22lineJoin%22%3A%20%22round%22%2C%20%22noClip%22%3A%20false%2C%20%22opacity%22%3A%201.0%2C%20%22smoothFactor%22%3A%201.0%2C%20%22stroke%22%3A%20true%2C%20%22weight%22%3A%203%7D%0A%20%20%20%20%20%20%20%20%20%20%20%20%29.addTo%28map_cf50420fce1140aa998fc9a900468451%29%3B%0A%20%20%20%20%20%20%20%20%0A%20%20%20%20%0A%20%20%20%20%20%20%20%20%20%20%20%20var%20poly_line_d533723732ba493990b127db281697fa%20%3D%20L.polyline%28%0A%20%20%20%20%20%20%20%20%20%20%20%20%20%20%20%20%5B%5B-7.1105343%2C%20-34.8593147%5D%2C%20%5B-7.1104362%2C%20-34.8584093%5D%5D%2C%0A%20%20%20%20%20%20%20%20%20%20%20%20%20%20%20%20%7B%22bubblingMouseEvents%22%3A%20true%2C%20%22color%22%3A%20%22%233388ff%22%2C%20%22dashArray%22%3A%20null%2C%20%22dashOffset%22%3A%20null%2C%20%22fill%22%3A%20false%2C%20%22fillColor%22%3A%20%22%233388ff%22%2C%20%22fillOpacity%22%3A%200.2%2C%20%22fillRule%22%3A%20%22evenodd%22%2C%20%22lineCap%22%3A%20%22round%22%2C%20%22lineJoin%22%3A%20%22round%22%2C%20%22noClip%22%3A%20false%2C%20%22opacity%22%3A%201.0%2C%20%22smoothFactor%22%3A%201.0%2C%20%22stroke%22%3A%20true%2C%20%22weight%22%3A%203%7D%0A%20%20%20%20%20%20%20%20%20%20%20%20%29.addTo%28map_cf50420fce1140aa998fc9a900468451%29%3B%0A%20%20%20%20%20%20%20%20%0A%20%20%20%20%0A%20%20%20%20%20%20%20%20%20%20%20%20var%20poly_line_2cc4fa7d9c71492db49e46d9daf0dbd3%20%3D%20L.polyline%28%0A%20%20%20%20%20%20%20%20%20%20%20%20%20%20%20%20%5B%5B-7.1104362%2C%20-34.8584093%5D%2C%20%5B-7.1103001%2C%20-34.8576277%5D%5D%2C%0A%20%20%20%20%20%20%20%20%20%20%20%20%20%20%20%20%7B%22bubblingMouseEvents%22%3A%20true%2C%20%22color%22%3A%20%22%233388ff%22%2C%20%22dashArray%22%3A%20null%2C%20%22dashOffset%22%3A%20null%2C%20%22fill%22%3A%20false%2C%20%22fillColor%22%3A%20%22%233388ff%22%2C%20%22fillOpacity%22%3A%200.2%2C%20%22fillRule%22%3A%20%22evenodd%22%2C%20%22lineCap%22%3A%20%22round%22%2C%20%22lineJoin%22%3A%20%22round%22%2C%20%22noClip%22%3A%20false%2C%20%22opacity%22%3A%201.0%2C%20%22smoothFactor%22%3A%201.0%2C%20%22stroke%22%3A%20true%2C%20%22weight%22%3A%203%7D%0A%20%20%20%20%20%20%20%20%20%20%20%20%29.addTo%28map_cf50420fce1140aa998fc9a900468451%29%3B%0A%20%20%20%20%20%20%20%20%0A%20%20%20%20%0A%20%20%20%20%20%20%20%20%20%20%20%20var%20poly_line_3f4d22c431064b738bb84b06966acd2c%20%3D%20L.polyline%28%0A%20%20%20%20%20%20%20%20%20%20%20%20%20%20%20%20%5B%5B-7.1103001%2C%20-34.8576277%5D%2C%20%5B-7.1102382%2C%20-34.8564765%5D%5D%2C%0A%20%20%20%20%20%20%20%20%20%20%20%20%20%20%20%20%7B%22bubblingMouseEvents%22%3A%20true%2C%20%22color%22%3A%20%22%233388ff%22%2C%20%22dashArray%22%3A%20null%2C%20%22dashOffset%22%3A%20null%2C%20%22fill%22%3A%20false%2C%20%22fillColor%22%3A%20%22%233388ff%22%2C%20%22fillOpacity%22%3A%200.2%2C%20%22fillRule%22%3A%20%22evenodd%22%2C%20%22lineCap%22%3A%20%22round%22%2C%20%22lineJoin%22%3A%20%22round%22%2C%20%22noClip%22%3A%20false%2C%20%22opacity%22%3A%201.0%2C%20%22smoothFactor%22%3A%201.0%2C%20%22stroke%22%3A%20true%2C%20%22weight%22%3A%203%7D%0A%20%20%20%20%20%20%20%20%20%20%20%20%29.addTo%28map_cf50420fce1140aa998fc9a900468451%29%3B%0A%20%20%20%20%20%20%20%20%0A%20%20%20%20%0A%20%20%20%20%20%20%20%20%20%20%20%20var%20poly_line_97e1a11cec564f898613e03354cd62b0%20%3D%20L.polyline%28%0A%20%20%20%20%20%20%20%20%20%20%20%20%20%20%20%20%5B%5B-7.1102382%2C%20-34.8564765%5D%2C%20%5B-7.1103475%2C%20-34.8564682%5D%5D%2C%0A%20%20%20%20%20%20%20%20%20%20%20%20%20%20%20%20%7B%22bubblingMouseEvents%22%3A%20true%2C%20%22color%22%3A%20%22%233388ff%22%2C%20%22dashArray%22%3A%20null%2C%20%22dashOffset%22%3A%20null%2C%20%22fill%22%3A%20false%2C%20%22fillColor%22%3A%20%22%233388ff%22%2C%20%22fillOpacity%22%3A%200.2%2C%20%22fillRule%22%3A%20%22evenodd%22%2C%20%22lineCap%22%3A%20%22round%22%2C%20%22lineJoin%22%3A%20%22round%22%2C%20%22noClip%22%3A%20false%2C%20%22opacity%22%3A%201.0%2C%20%22smoothFactor%22%3A%201.0%2C%20%22stroke%22%3A%20true%2C%20%22weight%22%3A%203%7D%0A%20%20%20%20%20%20%20%20%20%20%20%20%29.addTo%28map_cf50420fce1140aa998fc9a900468451%29%3B%0A%20%20%20%20%20%20%20%20%0A%20%20%20%20%0A%20%20%20%20%20%20%20%20%20%20%20%20var%20poly_line_eb68eaa751b344ec973d9b4a112525a3%20%3D%20L.polyline%28%0A%20%20%20%20%20%20%20%20%20%20%20%20%20%20%20%20%5B%5B-7.1103475%2C%20-34.8564682%5D%2C%20%5B-7.1115665%2C%20-34.8561013%5D%5D%2C%0A%20%20%20%20%20%20%20%20%20%20%20%20%20%20%20%20%7B%22bubblingMouseEvents%22%3A%20true%2C%20%22color%22%3A%20%22%233388ff%22%2C%20%22dashArray%22%3A%20null%2C%20%22dashOffset%22%3A%20null%2C%20%22fill%22%3A%20false%2C%20%22fillColor%22%3A%20%22%233388ff%22%2C%20%22fillOpacity%22%3A%200.2%2C%20%22fillRule%22%3A%20%22evenodd%22%2C%20%22lineCap%22%3A%20%22round%22%2C%20%22lineJoin%22%3A%20%22round%22%2C%20%22noClip%22%3A%20false%2C%20%22opacity%22%3A%201.0%2C%20%22smoothFactor%22%3A%201.0%2C%20%22stroke%22%3A%20true%2C%20%22weight%22%3A%203%7D%0A%20%20%20%20%20%20%20%20%20%20%20%20%29.addTo%28map_cf50420fce1140aa998fc9a900468451%29%3B%0A%20%20%20%20%20%20%20%20%0A%20%20%20%20%0A%20%20%20%20%20%20%20%20%20%20%20%20var%20poly_line_cb9a8b3045084aa7b23454f6f07929cd%20%3D%20L.polyline%28%0A%20%20%20%20%20%20%20%20%20%20%20%20%20%20%20%20%5B%5B-7.1115665%2C%20-34.8561013%5D%2C%20%5B-7.1117606%2C%20-34.8554338%5D%5D%2C%0A%20%20%20%20%20%20%20%20%20%20%20%20%20%20%20%20%7B%22bubblingMouseEvents%22%3A%20true%2C%20%22color%22%3A%20%22%233388ff%22%2C%20%22dashArray%22%3A%20null%2C%20%22dashOffset%22%3A%20null%2C%20%22fill%22%3A%20false%2C%20%22fillColor%22%3A%20%22%233388ff%22%2C%20%22fillOpacity%22%3A%200.2%2C%20%22fillRule%22%3A%20%22evenodd%22%2C%20%22lineCap%22%3A%20%22round%22%2C%20%22lineJoin%22%3A%20%22round%22%2C%20%22noClip%22%3A%20false%2C%20%22opacity%22%3A%201.0%2C%20%22smoothFactor%22%3A%201.0%2C%20%22stroke%22%3A%20true%2C%20%22weight%22%3A%203%7D%0A%20%20%20%20%20%20%20%20%20%20%20%20%29.addTo%28map_cf50420fce1140aa998fc9a900468451%29%3B%0A%20%20%20%20%20%20%20%20%0A%20%20%20%20%0A%20%20%20%20%20%20%20%20%20%20%20%20var%20poly_line_f3e7140e119e46a6bb353b878503465f%20%3D%20L.polyline%28%0A%20%20%20%20%20%20%20%20%20%20%20%20%20%20%20%20%5B%5B-7.1117606%2C%20-34.8554338%5D%2C%20%5B-7.1119118%2C%20-34.8554009%5D%5D%2C%0A%20%20%20%20%20%20%20%20%20%20%20%20%20%20%20%20%7B%22bubblingMouseEvents%22%3A%20true%2C%20%22color%22%3A%20%22%233388ff%22%2C%20%22dashArray%22%3A%20null%2C%20%22dashOffset%22%3A%20null%2C%20%22fill%22%3A%20false%2C%20%22fillColor%22%3A%20%22%233388ff%22%2C%20%22fillOpacity%22%3A%200.2%2C%20%22fillRule%22%3A%20%22evenodd%22%2C%20%22lineCap%22%3A%20%22round%22%2C%20%22lineJoin%22%3A%20%22round%22%2C%20%22noClip%22%3A%20false%2C%20%22opacity%22%3A%201.0%2C%20%22smoothFactor%22%3A%201.0%2C%20%22stroke%22%3A%20true%2C%20%22weight%22%3A%203%7D%0A%20%20%20%20%20%20%20%20%20%20%20%20%29.addTo%28map_cf50420fce1140aa998fc9a900468451%29%3B%0A%20%20%20%20%20%20%20%20%0A%20%20%20%20%0A%20%20%20%20%20%20%20%20%20%20%20%20var%20poly_line_e443748427cc43cd995c10d35c4042a5%20%3D%20L.polyline%28%0A%20%20%20%20%20%20%20%20%20%20%20%20%20%20%20%20%5B%5B-7.1119118%2C%20-34.8554009%5D%2C%20%5B-7.1122163%2C%20-34.8553108%5D%5D%2C%0A%20%20%20%20%20%20%20%20%20%20%20%20%20%20%20%20%7B%22bubblingMouseEvents%22%3A%20true%2C%20%22color%22%3A%20%22%233388ff%22%2C%20%22dashArray%22%3A%20null%2C%20%22dashOffset%22%3A%20null%2C%20%22fill%22%3A%20false%2C%20%22fillColor%22%3A%20%22%233388ff%22%2C%20%22fillOpacity%22%3A%200.2%2C%20%22fillRule%22%3A%20%22evenodd%22%2C%20%22lineCap%22%3A%20%22round%22%2C%20%22lineJoin%22%3A%20%22round%22%2C%20%22noClip%22%3A%20false%2C%20%22opacity%22%3A%201.0%2C%20%22smoothFactor%22%3A%201.0%2C%20%22stroke%22%3A%20true%2C%20%22weight%22%3A%203%7D%0A%20%20%20%20%20%20%20%20%20%20%20%20%29.addTo%28map_cf50420fce1140aa998fc9a900468451%29%3B%0A%20%20%20%20%20%20%20%20%0A%20%20%20%20%0A%20%20%20%20%20%20%20%20%20%20%20%20var%20poly_line_ed000781903f44bf830973e4fa8ed160%20%3D%20L.polyline%28%0A%20%20%20%20%20%20%20%20%20%20%20%20%20%20%20%20%5B%5B-7.1122163%2C%20-34.8553108%5D%2C%20%5B-7.1124908%2C%20-34.8552963%5D%5D%2C%0A%20%20%20%20%20%20%20%20%20%20%20%20%20%20%20%20%7B%22bubblingMouseEvents%22%3A%20true%2C%20%22color%22%3A%20%22%233388ff%22%2C%20%22dashArray%22%3A%20null%2C%20%22dashOffset%22%3A%20null%2C%20%22fill%22%3A%20false%2C%20%22fillColor%22%3A%20%22%233388ff%22%2C%20%22fillOpacity%22%3A%200.2%2C%20%22fillRule%22%3A%20%22evenodd%22%2C%20%22lineCap%22%3A%20%22round%22%2C%20%22lineJoin%22%3A%20%22round%22%2C%20%22noClip%22%3A%20false%2C%20%22opacity%22%3A%201.0%2C%20%22smoothFactor%22%3A%201.0%2C%20%22stroke%22%3A%20true%2C%20%22weight%22%3A%203%7D%0A%20%20%20%20%20%20%20%20%20%20%20%20%29.addTo%28map_cf50420fce1140aa998fc9a900468451%29%3B%0A%20%20%20%20%20%20%20%20%0A%20%20%20%20%0A%20%20%20%20%20%20%20%20%20%20%20%20var%20poly_line_ac6bbffefd92431dad2b33cbe8a9d100%20%3D%20L.polyline%28%0A%20%20%20%20%20%20%20%20%20%20%20%20%20%20%20%20%5B%5B-7.1124908%2C%20-34.8552963%5D%2C%20%5B-7.1130111%2C%20-34.855301%5D%5D%2C%0A%20%20%20%20%20%20%20%20%20%20%20%20%20%20%20%20%7B%22bubblingMouseEvents%22%3A%20true%2C%20%22color%22%3A%20%22%233388ff%22%2C%20%22dashArray%22%3A%20null%2C%20%22dashOffset%22%3A%20null%2C%20%22fill%22%3A%20false%2C%20%22fillColor%22%3A%20%22%233388ff%22%2C%20%22fillOpacity%22%3A%200.2%2C%20%22fillRule%22%3A%20%22evenodd%22%2C%20%22lineCap%22%3A%20%22round%22%2C%20%22lineJoin%22%3A%20%22round%22%2C%20%22noClip%22%3A%20false%2C%20%22opacity%22%3A%201.0%2C%20%22smoothFactor%22%3A%201.0%2C%20%22stroke%22%3A%20true%2C%20%22weight%22%3A%203%7D%0A%20%20%20%20%20%20%20%20%20%20%20%20%29.addTo%28map_cf50420fce1140aa998fc9a900468451%29%3B%0A%20%20%20%20%20%20%20%20%0A%20%20%20%20%0A%20%20%20%20%20%20%20%20%20%20%20%20var%20poly_line_17883546305e437d91653d4f47c253a5%20%3D%20L.polyline%28%0A%20%20%20%20%20%20%20%20%20%20%20%20%20%20%20%20%5B%5B-7.1130111%2C%20-34.855301%5D%2C%20%5B-7.1135432%2C%20-34.8552808%5D%5D%2C%0A%20%20%20%20%20%20%20%20%20%20%20%20%20%20%20%20%7B%22bubblingMouseEvents%22%3A%20true%2C%20%22color%22%3A%20%22%233388ff%22%2C%20%22dashArray%22%3A%20null%2C%20%22dashOffset%22%3A%20null%2C%20%22fill%22%3A%20false%2C%20%22fillColor%22%3A%20%22%233388ff%22%2C%20%22fillOpacity%22%3A%200.2%2C%20%22fillRule%22%3A%20%22evenodd%22%2C%20%22lineCap%22%3A%20%22round%22%2C%20%22lineJoin%22%3A%20%22round%22%2C%20%22noClip%22%3A%20false%2C%20%22opacity%22%3A%201.0%2C%20%22smoothFactor%22%3A%201.0%2C%20%22stroke%22%3A%20true%2C%20%22weight%22%3A%203%7D%0A%20%20%20%20%20%20%20%20%20%20%20%20%29.addTo%28map_cf50420fce1140aa998fc9a900468451%29%3B%0A%20%20%20%20%20%20%20%20%0A%20%20%20%20%0A%20%20%20%20%20%20%20%20%20%20%20%20var%20poly_line_1c2b14e8c85848509f5836a24781fc38%20%3D%20L.polyline%28%0A%20%20%20%20%20%20%20%20%20%20%20%20%20%20%20%20%5B%5B-7.1135432%2C%20-34.8552808%5D%2C%20%5B-7.1145489%2C%20-34.8552791%5D%5D%2C%0A%20%20%20%20%20%20%20%20%20%20%20%20%20%20%20%20%7B%22bubblingMouseEvents%22%3A%20true%2C%20%22color%22%3A%20%22%233388ff%22%2C%20%22dashArray%22%3A%20null%2C%20%22dashOffset%22%3A%20null%2C%20%22fill%22%3A%20false%2C%20%22fillColor%22%3A%20%22%233388ff%22%2C%20%22fillOpacity%22%3A%200.2%2C%20%22fillRule%22%3A%20%22evenodd%22%2C%20%22lineCap%22%3A%20%22round%22%2C%20%22lineJoin%22%3A%20%22round%22%2C%20%22noClip%22%3A%20false%2C%20%22opacity%22%3A%201.0%2C%20%22smoothFactor%22%3A%201.0%2C%20%22stroke%22%3A%20true%2C%20%22weight%22%3A%203%7D%0A%20%20%20%20%20%20%20%20%20%20%20%20%29.addTo%28map_cf50420fce1140aa998fc9a900468451%29%3B%0A%20%20%20%20%20%20%20%20%0A%20%20%20%20%0A%20%20%20%20%20%20%20%20%20%20%20%20var%20poly_line_a32a114f048d4e319e3f63b6256bed0c%20%3D%20L.polyline%28%0A%20%20%20%20%20%20%20%20%20%20%20%20%20%20%20%20%5B%5B-7.1145489%2C%20-34.8552791%5D%2C%20%5B-7.1155762%2C%20-34.8552682%5D%5D%2C%0A%20%20%20%20%20%20%20%20%20%20%20%20%20%20%20%20%7B%22bubblingMouseEvents%22%3A%20true%2C%20%22color%22%3A%20%22%233388ff%22%2C%20%22dashArray%22%3A%20null%2C%20%22dashOffset%22%3A%20null%2C%20%22fill%22%3A%20false%2C%20%22fillColor%22%3A%20%22%233388ff%22%2C%20%22fillOpacity%22%3A%200.2%2C%20%22fillRule%22%3A%20%22evenodd%22%2C%20%22lineCap%22%3A%20%22round%22%2C%20%22lineJoin%22%3A%20%22round%22%2C%20%22noClip%22%3A%20false%2C%20%22opacity%22%3A%201.0%2C%20%22smoothFactor%22%3A%201.0%2C%20%22stroke%22%3A%20true%2C%20%22weight%22%3A%203%7D%0A%20%20%20%20%20%20%20%20%20%20%20%20%29.addTo%28map_cf50420fce1140aa998fc9a900468451%29%3B%0A%20%20%20%20%20%20%20%20%0A%20%20%20%20%0A%20%20%20%20%20%20%20%20%20%20%20%20var%20poly_line_a6276ef550d0423f89c50e8dc1d943b3%20%3D%20L.polyline%28%0A%20%20%20%20%20%20%20%20%20%20%20%20%20%20%20%20%5B%5B-7.1155762%2C%20-34.8552682%5D%2C%20%5B-7.1165792%2C%20-34.855269%5D%5D%2C%0A%20%20%20%20%20%20%20%20%20%20%20%20%20%20%20%20%7B%22bubblingMouseEvents%22%3A%20true%2C%20%22color%22%3A%20%22%233388ff%22%2C%20%22dashArray%22%3A%20null%2C%20%22dashOffset%22%3A%20null%2C%20%22fill%22%3A%20false%2C%20%22fillColor%22%3A%20%22%233388ff%22%2C%20%22fillOpacity%22%3A%200.2%2C%20%22fillRule%22%3A%20%22evenodd%22%2C%20%22lineCap%22%3A%20%22round%22%2C%20%22lineJoin%22%3A%20%22round%22%2C%20%22noClip%22%3A%20false%2C%20%22opacity%22%3A%201.0%2C%20%22smoothFactor%22%3A%201.0%2C%20%22stroke%22%3A%20true%2C%20%22weight%22%3A%203%7D%0A%20%20%20%20%20%20%20%20%20%20%20%20%29.addTo%28map_cf50420fce1140aa998fc9a900468451%29%3B%0A%20%20%20%20%20%20%20%20%0A%20%20%20%20%0A%20%20%20%20%20%20%20%20%20%20%20%20var%20poly_line_9bfea60697d04895a352bd02f678ac80%20%3D%20L.polyline%28%0A%20%20%20%20%20%20%20%20%20%20%20%20%20%20%20%20%5B%5B-7.1165792%2C%20-34.855269%5D%2C%20%5B-7.1176067%2C%20-34.8552682%5D%5D%2C%0A%20%20%20%20%20%20%20%20%20%20%20%20%20%20%20%20%7B%22bubblingMouseEvents%22%3A%20true%2C%20%22color%22%3A%20%22%233388ff%22%2C%20%22dashArray%22%3A%20null%2C%20%22dashOffset%22%3A%20null%2C%20%22fill%22%3A%20false%2C%20%22fillColor%22%3A%20%22%233388ff%22%2C%20%22fillOpacity%22%3A%200.2%2C%20%22fillRule%22%3A%20%22evenodd%22%2C%20%22lineCap%22%3A%20%22round%22%2C%20%22lineJoin%22%3A%20%22round%22%2C%20%22noClip%22%3A%20false%2C%20%22opacity%22%3A%201.0%2C%20%22smoothFactor%22%3A%201.0%2C%20%22stroke%22%3A%20true%2C%20%22weight%22%3A%203%7D%0A%20%20%20%20%20%20%20%20%20%20%20%20%29.addTo%28map_cf50420fce1140aa998fc9a900468451%29%3B%0A%20%20%20%20%20%20%20%20%0A%20%20%20%20%0A%20%20%20%20%20%20%20%20%20%20%20%20var%20poly_line_055375747fcb4681a56e73254da2f98e%20%3D%20L.polyline%28%0A%20%20%20%20%20%20%20%20%20%20%20%20%20%20%20%20%5B%5B-7.1176067%2C%20-34.8552682%5D%2C%20%5B-7.1186246%2C%20-34.8552484%5D%5D%2C%0A%20%20%20%20%20%20%20%20%20%20%20%20%20%20%20%20%7B%22bubblingMouseEvents%22%3A%20true%2C%20%22color%22%3A%20%22%233388ff%22%2C%20%22dashArray%22%3A%20null%2C%20%22dashOffset%22%3A%20null%2C%20%22fill%22%3A%20false%2C%20%22fillColor%22%3A%20%22%233388ff%22%2C%20%22fillOpacity%22%3A%200.2%2C%20%22fillRule%22%3A%20%22evenodd%22%2C%20%22lineCap%22%3A%20%22round%22%2C%20%22lineJoin%22%3A%20%22round%22%2C%20%22noClip%22%3A%20false%2C%20%22opacity%22%3A%201.0%2C%20%22smoothFactor%22%3A%201.0%2C%20%22stroke%22%3A%20true%2C%20%22weight%22%3A%203%7D%0A%20%20%20%20%20%20%20%20%20%20%20%20%29.addTo%28map_cf50420fce1140aa998fc9a900468451%29%3B%0A%20%20%20%20%20%20%20%20%0A%20%20%20%20%0A%20%20%20%20%20%20%20%20%20%20%20%20var%20poly_line_68a0cbd80ca542b39254d93c827db89a%20%3D%20L.polyline%28%0A%20%20%20%20%20%20%20%20%20%20%20%20%20%20%20%20%5B%5B-7.1186246%2C%20-34.8552484%5D%2C%20%5B-7.1196362%2C%20-34.8552444%5D%5D%2C%0A%20%20%20%20%20%20%20%20%20%20%20%20%20%20%20%20%7B%22bubblingMouseEvents%22%3A%20true%2C%20%22color%22%3A%20%22%233388ff%22%2C%20%22dashArray%22%3A%20null%2C%20%22dashOffset%22%3A%20null%2C%20%22fill%22%3A%20false%2C%20%22fillColor%22%3A%20%22%233388ff%22%2C%20%22fillOpacity%22%3A%200.2%2C%20%22fillRule%22%3A%20%22evenodd%22%2C%20%22lineCap%22%3A%20%22round%22%2C%20%22lineJoin%22%3A%20%22round%22%2C%20%22noClip%22%3A%20false%2C%20%22opacity%22%3A%201.0%2C%20%22smoothFactor%22%3A%201.0%2C%20%22stroke%22%3A%20true%2C%20%22weight%22%3A%203%7D%0A%20%20%20%20%20%20%20%20%20%20%20%20%29.addTo%28map_cf50420fce1140aa998fc9a900468451%29%3B%0A%20%20%20%20%20%20%20%20%0A%20%20%20%20%0A%20%20%20%20%20%20%20%20%20%20%20%20var%20poly_line_25ad415d244b449db6ab6aee18f2c0fb%20%3D%20L.polyline%28%0A%20%20%20%20%20%20%20%20%20%20%20%20%20%20%20%20%5B%5B-7.1196362%2C%20-34.8552444%5D%2C%20%5B-7.1197572%2C%20-34.8552409%5D%5D%2C%0A%20%20%20%20%20%20%20%20%20%20%20%20%20%20%20%20%7B%22bubblingMouseEvents%22%3A%20true%2C%20%22color%22%3A%20%22%233388ff%22%2C%20%22dashArray%22%3A%20null%2C%20%22dashOffset%22%3A%20null%2C%20%22fill%22%3A%20false%2C%20%22fillColor%22%3A%20%22%233388ff%22%2C%20%22fillOpacity%22%3A%200.2%2C%20%22fillRule%22%3A%20%22evenodd%22%2C%20%22lineCap%22%3A%20%22round%22%2C%20%22lineJoin%22%3A%20%22round%22%2C%20%22noClip%22%3A%20false%2C%20%22opacity%22%3A%201.0%2C%20%22smoothFactor%22%3A%201.0%2C%20%22stroke%22%3A%20true%2C%20%22weight%22%3A%203%7D%0A%20%20%20%20%20%20%20%20%20%20%20%20%29.addTo%28map_cf50420fce1140aa998fc9a900468451%29%3B%0A%20%20%20%20%20%20%20%20%0A%20%20%20%20%0A%20%20%20%20%20%20%20%20%20%20%20%20var%20poly_line_be506afbbaa0493e88c8e86715e29aef%20%3D%20L.polyline%28%0A%20%20%20%20%20%20%20%20%20%20%20%20%20%20%20%20%5B%5B-7.1197572%2C%20-34.8552409%5D%2C%20%5B-7.1197515%2C%20-34.8533215%5D%5D%2C%0A%20%20%20%20%20%20%20%20%20%20%20%20%20%20%20%20%7B%22bubblingMouseEvents%22%3A%20true%2C%20%22color%22%3A%20%22%233388ff%22%2C%20%22dashArray%22%3A%20null%2C%20%22dashOffset%22%3A%20null%2C%20%22fill%22%3A%20false%2C%20%22fillColor%22%3A%20%22%233388ff%22%2C%20%22fillOpacity%22%3A%200.2%2C%20%22fillRule%22%3A%20%22evenodd%22%2C%20%22lineCap%22%3A%20%22round%22%2C%20%22lineJoin%22%3A%20%22round%22%2C%20%22noClip%22%3A%20false%2C%20%22opacity%22%3A%201.0%2C%20%22smoothFactor%22%3A%201.0%2C%20%22stroke%22%3A%20true%2C%20%22weight%22%3A%203%7D%0A%20%20%20%20%20%20%20%20%20%20%20%20%29.addTo%28map_cf50420fce1140aa998fc9a900468451%29%3B%0A%20%20%20%20%20%20%20%20%0A%20%20%20%20%0A%20%20%20%20%20%20%20%20%20%20%20%20var%20poly_line_03d2bded4eff43a495b54c36e64bdba9%20%3D%20L.polyline%28%0A%20%20%20%20%20%20%20%20%20%20%20%20%20%20%20%20%5B%5B-7.1197515%2C%20-34.8533215%5D%2C%20%5B-7.1197233%2C%20-34.8514195%5D%5D%2C%0A%20%20%20%20%20%20%20%20%20%20%20%20%20%20%20%20%7B%22bubblingMouseEvents%22%3A%20true%2C%20%22color%22%3A%20%22%233388ff%22%2C%20%22dashArray%22%3A%20null%2C%20%22dashOffset%22%3A%20null%2C%20%22fill%22%3A%20false%2C%20%22fillColor%22%3A%20%22%233388ff%22%2C%20%22fillOpacity%22%3A%200.2%2C%20%22fillRule%22%3A%20%22evenodd%22%2C%20%22lineCap%22%3A%20%22round%22%2C%20%22lineJoin%22%3A%20%22round%22%2C%20%22noClip%22%3A%20false%2C%20%22opacity%22%3A%201.0%2C%20%22smoothFactor%22%3A%201.0%2C%20%22stroke%22%3A%20true%2C%20%22weight%22%3A%203%7D%0A%20%20%20%20%20%20%20%20%20%20%20%20%29.addTo%28map_cf50420fce1140aa998fc9a900468451%29%3B%0A%20%20%20%20%20%20%20%20%0A%20%20%20%20%0A%20%20%20%20%20%20%20%20%20%20%20%20var%20poly_line_03e7f24c5b574bc1b2a93e8673df7321%20%3D%20L.polyline%28%0A%20%20%20%20%20%20%20%20%20%20%20%20%20%20%20%20%5B%5B-7.1197233%2C%20-34.8514195%5D%2C%20%5B-7.1197303%2C%20-34.850798%5D%5D%2C%0A%20%20%20%20%20%20%20%20%20%20%20%20%20%20%20%20%7B%22bubblingMouseEvents%22%3A%20true%2C%20%22color%22%3A%20%22%233388ff%22%2C%20%22dashArray%22%3A%20null%2C%20%22dashOffset%22%3A%20null%2C%20%22fill%22%3A%20false%2C%20%22fillColor%22%3A%20%22%233388ff%22%2C%20%22fillOpacity%22%3A%200.2%2C%20%22fillRule%22%3A%20%22evenodd%22%2C%20%22lineCap%22%3A%20%22round%22%2C%20%22lineJoin%22%3A%20%22round%22%2C%20%22noClip%22%3A%20false%2C%20%22opacity%22%3A%201.0%2C%20%22smoothFactor%22%3A%201.0%2C%20%22stroke%22%3A%20true%2C%20%22weight%22%3A%203%7D%0A%20%20%20%20%20%20%20%20%20%20%20%20%29.addTo%28map_cf50420fce1140aa998fc9a900468451%29%3B%0A%20%20%20%20%20%20%20%20%0A%20%20%20%20%0A%20%20%20%20%20%20%20%20%20%20%20%20var%20poly_line_dbea7cfe4ea04ae18c0962c3e3528956%20%3D%20L.polyline%28%0A%20%20%20%20%20%20%20%20%20%20%20%20%20%20%20%20%5B%5B-7.1197303%2C%20-34.850798%5D%2C%20%5B-7.119723%2C%20-34.8506781%5D%2C%20%5B-7.119721%2C%20-34.8505692%5D%2C%20%5B-7.1197353%2C%20-34.8494908%5D%5D%2C%0A%20%20%20%20%20%20%20%20%20%20%20%20%20%20%20%20%7B%22bubblingMouseEvents%22%3A%20true%2C%20%22color%22%3A%20%22%233388ff%22%2C%20%22dashArray%22%3A%20null%2C%20%22dashOffset%22%3A%20null%2C%20%22fill%22%3A%20false%2C%20%22fillColor%22%3A%20%22%233388ff%22%2C%20%22fillOpacity%22%3A%200.2%2C%20%22fillRule%22%3A%20%22evenodd%22%2C%20%22lineCap%22%3A%20%22round%22%2C%20%22lineJoin%22%3A%20%22round%22%2C%20%22noClip%22%3A%20false%2C%20%22opacity%22%3A%201.0%2C%20%22smoothFactor%22%3A%201.0%2C%20%22stroke%22%3A%20true%2C%20%22weight%22%3A%203%7D%0A%20%20%20%20%20%20%20%20%20%20%20%20%29.addTo%28map_cf50420fce1140aa998fc9a900468451%29%3B%0A%20%20%20%20%20%20%20%20%0A%20%20%20%20%0A%20%20%20%20%20%20%20%20%20%20%20%20var%20poly_line_f25314f7485948c6b8287bbdecb39c65%20%3D%20L.polyline%28%0A%20%20%20%20%20%20%20%20%20%20%20%20%20%20%20%20%5B%5B-7.1197353%2C%20-34.8494908%5D%2C%20%5B-7.1197176%2C%20-34.8488857%5D%5D%2C%0A%20%20%20%20%20%20%20%20%20%20%20%20%20%20%20%20%7B%22bubblingMouseEvents%22%3A%20true%2C%20%22color%22%3A%20%22%233388ff%22%2C%20%22dashArray%22%3A%20null%2C%20%22dashOffset%22%3A%20null%2C%20%22fill%22%3A%20false%2C%20%22fillColor%22%3A%20%22%233388ff%22%2C%20%22fillOpacity%22%3A%200.2%2C%20%22fillRule%22%3A%20%22evenodd%22%2C%20%22lineCap%22%3A%20%22round%22%2C%20%22lineJoin%22%3A%20%22round%22%2C%20%22noClip%22%3A%20false%2C%20%22opacity%22%3A%201.0%2C%20%22smoothFactor%22%3A%201.0%2C%20%22stroke%22%3A%20true%2C%20%22weight%22%3A%203%7D%0A%20%20%20%20%20%20%20%20%20%20%20%20%29.addTo%28map_cf50420fce1140aa998fc9a900468451%29%3B%0A%20%20%20%20%20%20%20%20%0A%20%20%20%20%0A%20%20%20%20%20%20%20%20%20%20%20%20var%20poly_line_8aa1c091171746d581c7e9355391f378%20%3D%20L.polyline%28%0A%20%20%20%20%20%20%20%20%20%20%20%20%20%20%20%20%5B%5B-7.1197176%2C%20-34.8488857%5D%2C%20%5B-7.1196935%2C%20-34.8469843%5D%5D%2C%0A%20%20%20%20%20%20%20%20%20%20%20%20%20%20%20%20%7B%22bubblingMouseEvents%22%3A%20true%2C%20%22color%22%3A%20%22%233388ff%22%2C%20%22dashArray%22%3A%20null%2C%20%22dashOffset%22%3A%20null%2C%20%22fill%22%3A%20false%2C%20%22fillColor%22%3A%20%22%233388ff%22%2C%20%22fillOpacity%22%3A%200.2%2C%20%22fillRule%22%3A%20%22evenodd%22%2C%20%22lineCap%22%3A%20%22round%22%2C%20%22lineJoin%22%3A%20%22round%22%2C%20%22noClip%22%3A%20false%2C%20%22opacity%22%3A%201.0%2C%20%22smoothFactor%22%3A%201.0%2C%20%22stroke%22%3A%20true%2C%20%22weight%22%3A%203%7D%0A%20%20%20%20%20%20%20%20%20%20%20%20%29.addTo%28map_cf50420fce1140aa998fc9a900468451%29%3B%0A%20%20%20%20%20%20%20%20%0A%20%20%20%20%0A%20%20%20%20%20%20%20%20%20%20%20%20var%20poly_line_40c418d342af432ca4bd126d4c64543d%20%3D%20L.polyline%28%0A%20%20%20%20%20%20%20%20%20%20%20%20%20%20%20%20%5B%5B-7.1196935%2C%20-34.8469843%5D%2C%20%5B-7.1196811%2C%20-34.845304%5D%5D%2C%0A%20%20%20%20%20%20%20%20%20%20%20%20%20%20%20%20%7B%22bubblingMouseEvents%22%3A%20true%2C%20%22color%22%3A%20%22%233388ff%22%2C%20%22dashArray%22%3A%20null%2C%20%22dashOffset%22%3A%20null%2C%20%22fill%22%3A%20false%2C%20%22fillColor%22%3A%20%22%233388ff%22%2C%20%22fillOpacity%22%3A%200.2%2C%20%22fillRule%22%3A%20%22evenodd%22%2C%20%22lineCap%22%3A%20%22round%22%2C%20%22lineJoin%22%3A%20%22round%22%2C%20%22noClip%22%3A%20false%2C%20%22opacity%22%3A%201.0%2C%20%22smoothFactor%22%3A%201.0%2C%20%22stroke%22%3A%20true%2C%20%22weight%22%3A%203%7D%0A%20%20%20%20%20%20%20%20%20%20%20%20%29.addTo%28map_cf50420fce1140aa998fc9a900468451%29%3B%0A%20%20%20%20%20%20%20%20%0A%20%20%20%20%0A%20%20%20%20%20%20%20%20%20%20%20%20var%20poly_line_e7b2763d17a44074b5100d8ea7ea2d15%20%3D%20L.polyline%28%0A%20%20%20%20%20%20%20%20%20%20%20%20%20%20%20%20%5B%5B-7.1196811%2C%20-34.845304%5D%2C%20%5B-7.1196755%2C%20-34.8450534%5D%2C%20%5B-7.1196753%2C%20-34.8450373%5D%5D%2C%0A%20%20%20%20%20%20%20%20%20%20%20%20%20%20%20%20%7B%22bubblingMouseEvents%22%3A%20true%2C%20%22color%22%3A%20%22%233388ff%22%2C%20%22dashArray%22%3A%20null%2C%20%22dashOffset%22%3A%20null%2C%20%22fill%22%3A%20false%2C%20%22fillColor%22%3A%20%22%233388ff%22%2C%20%22fillOpacity%22%3A%200.2%2C%20%22fillRule%22%3A%20%22evenodd%22%2C%20%22lineCap%22%3A%20%22round%22%2C%20%22lineJoin%22%3A%20%22round%22%2C%20%22noClip%22%3A%20false%2C%20%22opacity%22%3A%201.0%2C%20%22smoothFactor%22%3A%201.0%2C%20%22stroke%22%3A%20true%2C%20%22weight%22%3A%203%7D%0A%20%20%20%20%20%20%20%20%20%20%20%20%29.addTo%28map_cf50420fce1140aa998fc9a900468451%29%3B%0A%20%20%20%20%20%20%20%20%0A%20%20%20%20%0A%20%20%20%20%20%20%20%20%20%20%20%20var%20poly_line_a561e0538ad645e1ba9f3532ef715204%20%3D%20L.polyline%28%0A%20%20%20%20%20%20%20%20%20%20%20%20%20%20%20%20%5B%5B-7.1196753%2C%20-34.8450373%5D%2C%20%5B-7.1196502%2C%20-34.8432208%5D%2C%20%5B-7.119649%2C%20-34.8432071%5D%5D%2C%0A%20%20%20%20%20%20%20%20%20%20%20%20%20%20%20%20%7B%22bubblingMouseEvents%22%3A%20true%2C%20%22color%22%3A%20%22%233388ff%22%2C%20%22dashArray%22%3A%20null%2C%20%22dashOffset%22%3A%20null%2C%20%22fill%22%3A%20false%2C%20%22fillColor%22%3A%20%22%233388ff%22%2C%20%22fillOpacity%22%3A%200.2%2C%20%22fillRule%22%3A%20%22evenodd%22%2C%20%22lineCap%22%3A%20%22round%22%2C%20%22lineJoin%22%3A%20%22round%22%2C%20%22noClip%22%3A%20false%2C%20%22opacity%22%3A%201.0%2C%20%22smoothFactor%22%3A%201.0%2C%20%22stroke%22%3A%20true%2C%20%22weight%22%3A%203%7D%0A%20%20%20%20%20%20%20%20%20%20%20%20%29.addTo%28map_cf50420fce1140aa998fc9a900468451%29%3B%0A%20%20%20%20%20%20%20%20%0A%20%20%20%20%0A%20%20%20%20%20%20%20%20%20%20%20%20var%20poly_line_4ef21dab590c4e2b969733225531c12b%20%3D%20L.polyline%28%0A%20%20%20%20%20%20%20%20%20%20%20%20%20%20%20%20%5B%5B-7.119649%2C%20-34.8432071%5D%2C%20%5B-7.1196468%2C%20-34.8429982%5D%5D%2C%0A%20%20%20%20%20%20%20%20%20%20%20%20%20%20%20%20%7B%22bubblingMouseEvents%22%3A%20true%2C%20%22color%22%3A%20%22%233388ff%22%2C%20%22dashArray%22%3A%20null%2C%20%22dashOffset%22%3A%20null%2C%20%22fill%22%3A%20false%2C%20%22fillColor%22%3A%20%22%233388ff%22%2C%20%22fillOpacity%22%3A%200.2%2C%20%22fillRule%22%3A%20%22evenodd%22%2C%20%22lineCap%22%3A%20%22round%22%2C%20%22lineJoin%22%3A%20%22round%22%2C%20%22noClip%22%3A%20false%2C%20%22opacity%22%3A%201.0%2C%20%22smoothFactor%22%3A%201.0%2C%20%22stroke%22%3A%20true%2C%20%22weight%22%3A%203%7D%0A%20%20%20%20%20%20%20%20%20%20%20%20%29.addTo%28map_cf50420fce1140aa998fc9a900468451%29%3B%0A%20%20%20%20%20%20%20%20%0A%20%20%20%20%0A%20%20%20%20%20%20%20%20%20%20%20%20var%20poly_line_1756cded763d46de89dcbebe9497d835%20%3D%20L.polyline%28%0A%20%20%20%20%20%20%20%20%20%20%20%20%20%20%20%20%5B%5B-7.1196468%2C%20-34.8429982%5D%2C%20%5B-7.1196475%2C%20-34.8419897%5D%2C%20%5B-7.1196357%2C%20-34.8411404%5D%5D%2C%0A%20%20%20%20%20%20%20%20%20%20%20%20%20%20%20%20%7B%22bubblingMouseEvents%22%3A%20true%2C%20%22color%22%3A%20%22%233388ff%22%2C%20%22dashArray%22%3A%20null%2C%20%22dashOffset%22%3A%20null%2C%20%22fill%22%3A%20false%2C%20%22fillColor%22%3A%20%22%233388ff%22%2C%20%22fillOpacity%22%3A%200.2%2C%20%22fillRule%22%3A%20%22evenodd%22%2C%20%22lineCap%22%3A%20%22round%22%2C%20%22lineJoin%22%3A%20%22round%22%2C%20%22noClip%22%3A%20false%2C%20%22opacity%22%3A%201.0%2C%20%22smoothFactor%22%3A%201.0%2C%20%22stroke%22%3A%20true%2C%20%22weight%22%3A%203%7D%0A%20%20%20%20%20%20%20%20%20%20%20%20%29.addTo%28map_cf50420fce1140aa998fc9a900468451%29%3B%0A%20%20%20%20%20%20%20%20%0A%20%20%20%20%0A%20%20%20%20%20%20%20%20%20%20%20%20var%20poly_line_590bd02f867f411ba9027a39e606fbaa%20%3D%20L.polyline%28%0A%20%20%20%20%20%20%20%20%20%20%20%20%20%20%20%20%5B%5B-7.1196357%2C%20-34.8411404%5D%2C%20%5B-7.1196348%2C%20-34.8410733%5D%5D%2C%0A%20%20%20%20%20%20%20%20%20%20%20%20%20%20%20%20%7B%22bubblingMouseEvents%22%3A%20true%2C%20%22color%22%3A%20%22%233388ff%22%2C%20%22dashArray%22%3A%20null%2C%20%22dashOffset%22%3A%20null%2C%20%22fill%22%3A%20false%2C%20%22fillColor%22%3A%20%22%233388ff%22%2C%20%22fillOpacity%22%3A%200.2%2C%20%22fillRule%22%3A%20%22evenodd%22%2C%20%22lineCap%22%3A%20%22round%22%2C%20%22lineJoin%22%3A%20%22round%22%2C%20%22noClip%22%3A%20false%2C%20%22opacity%22%3A%201.0%2C%20%22smoothFactor%22%3A%201.0%2C%20%22stroke%22%3A%20true%2C%20%22weight%22%3A%203%7D%0A%20%20%20%20%20%20%20%20%20%20%20%20%29.addTo%28map_cf50420fce1140aa998fc9a900468451%29%3B%0A%20%20%20%20%20%20%20%20%0A%20%20%20%20%0A%20%20%20%20%20%20%20%20%20%20%20%20var%20poly_line_3a2d5b7d141b49bebce85330806a216f%20%3D%20L.polyline%28%0A%20%20%20%20%20%20%20%20%20%20%20%20%20%20%20%20%5B%5B-7.1196348%2C%20-34.8410733%5D%2C%20%5B-7.1196333%2C%20-34.8394126%5D%2C%20%5B-7.11964%2C%20-34.8392411%5D%2C%20%5B-7.1196362%2C%20-34.8390386%5D%5D%2C%0A%20%20%20%20%20%20%20%20%20%20%20%20%20%20%20%20%7B%22bubblingMouseEvents%22%3A%20true%2C%20%22color%22%3A%20%22%233388ff%22%2C%20%22dashArray%22%3A%20null%2C%20%22dashOffset%22%3A%20null%2C%20%22fill%22%3A%20false%2C%20%22fillColor%22%3A%20%22%233388ff%22%2C%20%22fillOpacity%22%3A%200.2%2C%20%22fillRule%22%3A%20%22evenodd%22%2C%20%22lineCap%22%3A%20%22round%22%2C%20%22lineJoin%22%3A%20%22round%22%2C%20%22noClip%22%3A%20false%2C%20%22opacity%22%3A%201.0%2C%20%22smoothFactor%22%3A%201.0%2C%20%22stroke%22%3A%20true%2C%20%22weight%22%3A%203%7D%0A%20%20%20%20%20%20%20%20%20%20%20%20%29.addTo%28map_cf50420fce1140aa998fc9a900468451%29%3B%0A%20%20%20%20%20%20%20%20%0A%20%20%20%20%0A%20%20%20%20%20%20%20%20%20%20%20%20var%20poly_line_2a57d4bbe9014c7285ae433392fb329f%20%3D%20L.polyline%28%0A%20%20%20%20%20%20%20%20%20%20%20%20%20%20%20%20%5B%5B-7.1196362%2C%20-34.8390386%5D%2C%20%5B-7.12036%2C%20-34.8389549%5D%5D%2C%0A%20%20%20%20%20%20%20%20%20%20%20%20%20%20%20%20%7B%22bubblingMouseEvents%22%3A%20true%2C%20%22color%22%3A%20%22%233388ff%22%2C%20%22dashArray%22%3A%20null%2C%20%22dashOffset%22%3A%20null%2C%20%22fill%22%3A%20false%2C%20%22fillColor%22%3A%20%22%233388ff%22%2C%20%22fillOpacity%22%3A%200.2%2C%20%22fillRule%22%3A%20%22evenodd%22%2C%20%22lineCap%22%3A%20%22round%22%2C%20%22lineJoin%22%3A%20%22round%22%2C%20%22noClip%22%3A%20false%2C%20%22opacity%22%3A%201.0%2C%20%22smoothFactor%22%3A%201.0%2C%20%22stroke%22%3A%20true%2C%20%22weight%22%3A%203%7D%0A%20%20%20%20%20%20%20%20%20%20%20%20%29.addTo%28map_cf50420fce1140aa998fc9a900468451%29%3B%0A%20%20%20%20%20%20%20%20%0A%20%20%20%20%0A%20%20%20%20%20%20%20%20%20%20%20%20var%20poly_line_282eff38cadb47928fab134e756373bf%20%3D%20L.polyline%28%0A%20%20%20%20%20%20%20%20%20%20%20%20%20%20%20%20%5B%5B-7.12036%2C%20-34.8389549%5D%2C%20%5B-7.1209959%2C%20-34.8388762%5D%5D%2C%0A%20%20%20%20%20%20%20%20%20%20%20%20%20%20%20%20%7B%22bubblingMouseEvents%22%3A%20true%2C%20%22color%22%3A%20%22%233388ff%22%2C%20%22dashArray%22%3A%20null%2C%20%22dashOffset%22%3A%20null%2C%20%22fill%22%3A%20false%2C%20%22fillColor%22%3A%20%22%233388ff%22%2C%20%22fillOpacity%22%3A%200.2%2C%20%22fillRule%22%3A%20%22evenodd%22%2C%20%22lineCap%22%3A%20%22round%22%2C%20%22lineJoin%22%3A%20%22round%22%2C%20%22noClip%22%3A%20false%2C%20%22opacity%22%3A%201.0%2C%20%22smoothFactor%22%3A%201.0%2C%20%22stroke%22%3A%20true%2C%20%22weight%22%3A%203%7D%0A%20%20%20%20%20%20%20%20%20%20%20%20%29.addTo%28map_cf50420fce1140aa998fc9a900468451%29%3B%0A%20%20%20%20%20%20%20%20%0A%20%20%20%20%0A%20%20%20%20%20%20%20%20%20%20%20%20var%20poly_line_5f33dc1e64b642c5ba9bc15be8912a9d%20%3D%20L.polyline%28%0A%20%20%20%20%20%20%20%20%20%20%20%20%20%20%20%20%5B%5B-7.1209959%2C%20-34.8388762%5D%2C%20%5B-7.1216113%2C%20-34.8388075%5D%5D%2C%0A%20%20%20%20%20%20%20%20%20%20%20%20%20%20%20%20%7B%22bubblingMouseEvents%22%3A%20true%2C%20%22color%22%3A%20%22%233388ff%22%2C%20%22dashArray%22%3A%20null%2C%20%22dashOffset%22%3A%20null%2C%20%22fill%22%3A%20false%2C%20%22fillColor%22%3A%20%22%233388ff%22%2C%20%22fillOpacity%22%3A%200.2%2C%20%22fillRule%22%3A%20%22evenodd%22%2C%20%22lineCap%22%3A%20%22round%22%2C%20%22lineJoin%22%3A%20%22round%22%2C%20%22noClip%22%3A%20false%2C%20%22opacity%22%3A%201.0%2C%20%22smoothFactor%22%3A%201.0%2C%20%22stroke%22%3A%20true%2C%20%22weight%22%3A%203%7D%0A%20%20%20%20%20%20%20%20%20%20%20%20%29.addTo%28map_cf50420fce1140aa998fc9a900468451%29%3B%0A%20%20%20%20%20%20%20%20%0A%20%20%20%20%0A%20%20%20%20%20%20%20%20%20%20%20%20var%20poly_line_a43134bbb71f49ab9af927d0d19b53d3%20%3D%20L.polyline%28%0A%20%20%20%20%20%20%20%20%20%20%20%20%20%20%20%20%5B%5B-7.1216113%2C%20-34.8388075%5D%2C%20%5B-7.1220493%2C%20-34.8387601%5D%2C%20%5B-7.1222365%2C%20-34.8387454%5D%5D%2C%0A%20%20%20%20%20%20%20%20%20%20%20%20%20%20%20%20%7B%22bubblingMouseEvents%22%3A%20true%2C%20%22color%22%3A%20%22%233388ff%22%2C%20%22dashArray%22%3A%20null%2C%20%22dashOffset%22%3A%20null%2C%20%22fill%22%3A%20false%2C%20%22fillColor%22%3A%20%22%233388ff%22%2C%20%22fillOpacity%22%3A%200.2%2C%20%22fillRule%22%3A%20%22evenodd%22%2C%20%22lineCap%22%3A%20%22round%22%2C%20%22lineJoin%22%3A%20%22round%22%2C%20%22noClip%22%3A%20false%2C%20%22opacity%22%3A%201.0%2C%20%22smoothFactor%22%3A%201.0%2C%20%22stroke%22%3A%20true%2C%20%22weight%22%3A%203%7D%0A%20%20%20%20%20%20%20%20%20%20%20%20%29.addTo%28map_cf50420fce1140aa998fc9a900468451%29%3B%0A%20%20%20%20%20%20%20%20%0A%20%20%20%20%0A%20%20%20%20%20%20%20%20%20%20%20%20var%20poly_line_b719ca6bfe46482a8f2d16296a24563a%20%3D%20L.polyline%28%0A%20%20%20%20%20%20%20%20%20%20%20%20%20%20%20%20%5B%5B-7.1222365%2C%20-34.8387454%5D%2C%20%5B-7.1228679%2C%20-34.8386681%5D%5D%2C%0A%20%20%20%20%20%20%20%20%20%20%20%20%20%20%20%20%7B%22bubblingMouseEvents%22%3A%20true%2C%20%22color%22%3A%20%22%233388ff%22%2C%20%22dashArray%22%3A%20null%2C%20%22dashOffset%22%3A%20null%2C%20%22fill%22%3A%20false%2C%20%22fillColor%22%3A%20%22%233388ff%22%2C%20%22fillOpacity%22%3A%200.2%2C%20%22fillRule%22%3A%20%22evenodd%22%2C%20%22lineCap%22%3A%20%22round%22%2C%20%22lineJoin%22%3A%20%22round%22%2C%20%22noClip%22%3A%20false%2C%20%22opacity%22%3A%201.0%2C%20%22smoothFactor%22%3A%201.0%2C%20%22stroke%22%3A%20true%2C%20%22weight%22%3A%203%7D%0A%20%20%20%20%20%20%20%20%20%20%20%20%29.addTo%28map_cf50420fce1140aa998fc9a900468451%29%3B%0A%20%20%20%20%20%20%20%20%0A%20%20%20%20%0A%20%20%20%20%20%20%20%20%20%20%20%20var%20poly_line_fed815cf6372463e90248a9ed83ee282%20%3D%20L.polyline%28%0A%20%20%20%20%20%20%20%20%20%20%20%20%20%20%20%20%5B%5B-7.1228679%2C%20-34.8386681%5D%2C%20%5B-7.1234863%2C%20-34.8385854%5D%5D%2C%0A%20%20%20%20%20%20%20%20%20%20%20%20%20%20%20%20%7B%22bubblingMouseEvents%22%3A%20true%2C%20%22color%22%3A%20%22%233388ff%22%2C%20%22dashArray%22%3A%20null%2C%20%22dashOffset%22%3A%20null%2C%20%22fill%22%3A%20false%2C%20%22fillColor%22%3A%20%22%233388ff%22%2C%20%22fillOpacity%22%3A%200.2%2C%20%22fillRule%22%3A%20%22evenodd%22%2C%20%22lineCap%22%3A%20%22round%22%2C%20%22lineJoin%22%3A%20%22round%22%2C%20%22noClip%22%3A%20false%2C%20%22opacity%22%3A%201.0%2C%20%22smoothFactor%22%3A%201.0%2C%20%22stroke%22%3A%20true%2C%20%22weight%22%3A%203%7D%0A%20%20%20%20%20%20%20%20%20%20%20%20%29.addTo%28map_cf50420fce1140aa998fc9a900468451%29%3B%0A%20%20%20%20%20%20%20%20%0A%20%20%20%20%0A%20%20%20%20%20%20%20%20%20%20%20%20var%20poly_line_12d20ac751094e9e9c1193c24e75eb4c%20%3D%20L.polyline%28%0A%20%20%20%20%20%20%20%20%20%20%20%20%20%20%20%20%5B%5B-7.1234863%2C%20-34.8385854%5D%2C%20%5B-7.1234831%2C%20-34.8379306%5D%5D%2C%0A%20%20%20%20%20%20%20%20%20%20%20%20%20%20%20%20%7B%22bubblingMouseEvents%22%3A%20true%2C%20%22color%22%3A%20%22%233388ff%22%2C%20%22dashArray%22%3A%20null%2C%20%22dashOffset%22%3A%20null%2C%20%22fill%22%3A%20false%2C%20%22fillColor%22%3A%20%22%233388ff%22%2C%20%22fillOpacity%22%3A%200.2%2C%20%22fillRule%22%3A%20%22evenodd%22%2C%20%22lineCap%22%3A%20%22round%22%2C%20%22lineJoin%22%3A%20%22round%22%2C%20%22noClip%22%3A%20false%2C%20%22opacity%22%3A%201.0%2C%20%22smoothFactor%22%3A%201.0%2C%20%22stroke%22%3A%20true%2C%20%22weight%22%3A%203%7D%0A%20%20%20%20%20%20%20%20%20%20%20%20%29.addTo%28map_cf50420fce1140aa998fc9a900468451%29%3B%0A%20%20%20%20%20%20%20%20%0A%20%20%20%20%0A%20%20%20%20%20%20%20%20%20%20%20%20map_cf50420fce1140aa998fc9a900468451.fitBounds%28%0A%20%20%20%20%20%20%20%20%20%20%20%20%20%20%20%20%5B%5B-7.1234863%2C%20-34.8693835%5D%2C%20%5B-7.0996996%2C%20-34.8379306%5D%5D%2C%0A%20%20%20%20%20%20%20%20%20%20%20%20%20%20%20%20%7B%7D%0A%20%20%20%20%20%20%20%20%20%20%20%20%29%3B%0A%20%20%20%20%20%20%20%20%0A%3C/script%3E onload=\"this.contentDocument.open();this.contentDocument.write(    decodeURIComponent(this.getAttribute('data-html')));this.contentDocument.close();\" allowfullscreen webkitallowfullscreen mozallowfullscreen></iframe></div></div>"
      ],
      "text/plain": [
       "<folium.folium.Map at 0x1df36632a08>"
      ]
     },
     "execution_count": 201,
     "metadata": {},
     "output_type": "execute_result"
    }
   ],
   "source": [
    "teste = ox.folium.plot_route_folium(G, trajeto, route_map=None, popup_attribute=None, tiles='cartodbpositron', zoom=1, fit_bounds=True, route_color=None, route_width=None, route_opacity=None);\n",
    "teste\n",
    "\n",
    "#relação de coordenadas por nós! Como conseguir?\n",
    "\n",
    "#trajeto\n",
    "\n",
    "#traj = ox.utils_graph.get_route_edge_attributes(G, trajeto, attribute=None, minimize_key='length', retrieve_default=None);\n",
    "#trajeto"
   ]
  },
  {
   "cell_type": "code",
   "execution_count": 97,
   "id": "f7676be2",
   "metadata": {},
   "outputs": [],
   "source": [
    "id9 = ox.distance.nearest_nodes(G, -34.86964, -7.10046, return_dist=False);\n",
    "\n",
    "\n",
    "\n",
    "id10 = ox.distance.nearest_nodes(G, -34.83823, -7.12371, return_dist=False);"
   ]
  },
  {
   "cell_type": "code",
   "execution_count": 58,
   "id": "97f74e99",
   "metadata": {},
   "outputs": [
    {
     "ename": "TypeError",
     "evalue": "'module' object is not callable",
     "output_type": "error",
     "traceback": [
      "\u001b[1;31m---------------------------------------------------------------------------\u001b[0m",
      "\u001b[1;31mTypeError\u001b[0m                                 Traceback (most recent call last)",
      "\u001b[1;32m~\\AppData\\Local\\Temp/ipykernel_2100/3073265129.py\u001b[0m in \u001b[0;36m<module>\u001b[1;34m\u001b[0m\n\u001b[0;32m      1\u001b[0m \u001b[0mteste\u001b[0m \u001b[1;33m=\u001b[0m \u001b[0mnx\u001b[0m\u001b[1;33m.\u001b[0m\u001b[0malgorithms\u001b[0m\u001b[1;33m.\u001b[0m\u001b[0msimple_paths\u001b[0m\u001b[1;33m.\u001b[0m\u001b[0mshortest_simple_paths\u001b[0m\u001b[1;33m(\u001b[0m\u001b[0mG2\u001b[0m\u001b[1;33m,\u001b[0m \u001b[0mid1\u001b[0m\u001b[1;33m,\u001b[0m \u001b[0mid2\u001b[0m\u001b[1;33m,\u001b[0m \u001b[0mweight\u001b[0m \u001b[1;33m=\u001b[0m \u001b[1;32mNone\u001b[0m\u001b[1;33m)\u001b[0m\u001b[1;33m;\u001b[0m\u001b[1;33m\u001b[0m\u001b[1;33m\u001b[0m\u001b[0m\n\u001b[1;32m----> 2\u001b[1;33m \u001b[0mplot\u001b[0m\u001b[1;33m(\u001b[0m\u001b[0mteste\u001b[0m\u001b[1;33m)\u001b[0m\u001b[1;33m\u001b[0m\u001b[1;33m\u001b[0m\u001b[0m\n\u001b[0m",
      "\u001b[1;31mTypeError\u001b[0m: 'module' object is not callable"
     ]
    }
   ],
   "source": [
    "teste = nx.algorithms.simple_paths.shortest_simple_paths(G2, id1, id2, weight = None);\n"
   ]
  },
  {
   "cell_type": "code",
   "execution_count": 203,
   "id": "1fc9830b",
   "metadata": {},
   "outputs": [
    {
     "data": {
      "image/png": "[encoded data removed]",
      "text/plain": [
       "<Figure size 576x576 with 1 Axes>"
      ]
     },
     "metadata": {},
     "output_type": "display_data"
    }
   ],
   "source": [
    "fig, ax = ox.plot_graph_route(G, trajeto, route_color='r', route_linewidth=4, route_alpha=0.5, orig_dest_size=100, ax=None);"
   ]
  },
  {
   "cell_type": "code",
   "execution_count": 199,
   "id": "3649a6b0",
   "metadata": {},
   "outputs": [
    {
     "ename": "TypeError",
     "evalue": "unhashable type: 'slice'",
     "output_type": "error",
     "traceback": [
      "\u001b[1;31m---------------------------------------------------------------------------\u001b[0m",
      "\u001b[1;31mTypeError\u001b[0m                                 Traceback (most recent call last)",
      "\u001b[1;32m~\\AppData\\Local\\Temp/ipykernel_2100/3035536136.py\u001b[0m in \u001b[0;36m<module>\u001b[1;34m\u001b[0m\n\u001b[1;32m----> 1\u001b[1;33m \u001b[0mteste2\u001b[0m \u001b[1;33m=\u001b[0m \u001b[0mox\u001b[0m\u001b[1;33m.\u001b[0m\u001b[0mfolium\u001b[0m\u001b[1;33m.\u001b[0m\u001b[0mplot_route_folium\u001b[0m\u001b[1;33m(\u001b[0m\u001b[0mG\u001b[0m\u001b[1;33m,\u001b[0m \u001b[0mF\u001b[0m\u001b[1;33m,\u001b[0m \u001b[0mroute_map\u001b[0m\u001b[1;33m=\u001b[0m\u001b[1;32mNone\u001b[0m\u001b[1;33m,\u001b[0m \u001b[0mpopup_attribute\u001b[0m\u001b[1;33m=\u001b[0m\u001b[1;32mNone\u001b[0m\u001b[1;33m,\u001b[0m \u001b[0mtiles\u001b[0m\u001b[1;33m=\u001b[0m\u001b[1;34m'cartodbpositron'\u001b[0m\u001b[1;33m,\u001b[0m \u001b[0mzoom\u001b[0m\u001b[1;33m=\u001b[0m\u001b[1;36m1\u001b[0m\u001b[1;33m,\u001b[0m \u001b[0mfit_bounds\u001b[0m\u001b[1;33m=\u001b[0m\u001b[1;32mTrue\u001b[0m\u001b[1;33m,\u001b[0m \u001b[0mroute_color\u001b[0m\u001b[1;33m=\u001b[0m\u001b[1;32mNone\u001b[0m\u001b[1;33m,\u001b[0m \u001b[0mroute_width\u001b[0m\u001b[1;33m=\u001b[0m\u001b[1;32mNone\u001b[0m\u001b[1;33m,\u001b[0m \u001b[0mroute_opacity\u001b[0m\u001b[1;33m=\u001b[0m\u001b[1;32mNone\u001b[0m\u001b[1;33m)\u001b[0m\u001b[1;33m;\u001b[0m\u001b[1;33m\u001b[0m\u001b[1;33m\u001b[0m\u001b[0m\n\u001b[0m\u001b[0;32m      2\u001b[0m \u001b[0mteste2\u001b[0m\u001b[1;33m\u001b[0m\u001b[1;33m\u001b[0m\u001b[0m\n",
      "\u001b[1;32m~\\anaconda3\\envs\\ox\\lib\\site-packages\\osmnx\\folium.py\u001b[0m in \u001b[0;36mplot_route_folium\u001b[1;34m(G, route, route_map, popup_attribute, tiles, zoom, fit_bounds, route_color, route_width, route_opacity, **kwargs)\u001b[0m\n\u001b[0;32m    133\u001b[0m \u001b[1;33m\u001b[0m\u001b[0m\n\u001b[0;32m    134\u001b[0m     \u001b[1;31m# create gdf of the route edges in order\u001b[0m\u001b[1;33m\u001b[0m\u001b[1;33m\u001b[0m\u001b[1;33m\u001b[0m\u001b[0m\n\u001b[1;32m--> 135\u001b[1;33m     \u001b[0mnode_pairs\u001b[0m \u001b[1;33m=\u001b[0m \u001b[0mzip\u001b[0m\u001b[1;33m(\u001b[0m\u001b[0mroute\u001b[0m\u001b[1;33m[\u001b[0m\u001b[1;33m:\u001b[0m\u001b[1;33m-\u001b[0m\u001b[1;36m1\u001b[0m\u001b[1;33m]\u001b[0m\u001b[1;33m,\u001b[0m \u001b[0mroute\u001b[0m\u001b[1;33m[\u001b[0m\u001b[1;36m1\u001b[0m\u001b[1;33m:\u001b[0m\u001b[1;33m]\u001b[0m\u001b[1;33m)\u001b[0m\u001b[1;33m\u001b[0m\u001b[1;33m\u001b[0m\u001b[0m\n\u001b[0m\u001b[0;32m    136\u001b[0m     \u001b[0muvk\u001b[0m \u001b[1;33m=\u001b[0m \u001b[1;33m(\u001b[0m\u001b[1;33m(\u001b[0m\u001b[0mu\u001b[0m\u001b[1;33m,\u001b[0m \u001b[0mv\u001b[0m\u001b[1;33m,\u001b[0m \u001b[0mmin\u001b[0m\u001b[1;33m(\u001b[0m\u001b[0mG\u001b[0m\u001b[1;33m[\u001b[0m\u001b[0mu\u001b[0m\u001b[1;33m]\u001b[0m\u001b[1;33m[\u001b[0m\u001b[0mv\u001b[0m\u001b[1;33m]\u001b[0m\u001b[1;33m,\u001b[0m \u001b[0mkey\u001b[0m\u001b[1;33m=\u001b[0m\u001b[1;32mlambda\u001b[0m \u001b[0mk\u001b[0m\u001b[1;33m:\u001b[0m \u001b[0mG\u001b[0m\u001b[1;33m[\u001b[0m\u001b[0mu\u001b[0m\u001b[1;33m]\u001b[0m\u001b[1;33m[\u001b[0m\u001b[0mv\u001b[0m\u001b[1;33m]\u001b[0m\u001b[1;33m[\u001b[0m\u001b[0mk\u001b[0m\u001b[1;33m]\u001b[0m\u001b[1;33m[\u001b[0m\u001b[1;34m\"length\"\u001b[0m\u001b[1;33m]\u001b[0m\u001b[1;33m)\u001b[0m\u001b[1;33m)\u001b[0m \u001b[1;32mfor\u001b[0m \u001b[0mu\u001b[0m\u001b[1;33m,\u001b[0m \u001b[0mv\u001b[0m \u001b[1;32min\u001b[0m \u001b[0mnode_pairs\u001b[0m\u001b[1;33m)\u001b[0m\u001b[1;33m\u001b[0m\u001b[1;33m\u001b[0m\u001b[0m\n\u001b[0;32m    137\u001b[0m     \u001b[0mgdf_edges\u001b[0m \u001b[1;33m=\u001b[0m \u001b[0mutils_graph\u001b[0m\u001b[1;33m.\u001b[0m\u001b[0mgraph_to_gdfs\u001b[0m\u001b[1;33m(\u001b[0m\u001b[0mG\u001b[0m\u001b[1;33m.\u001b[0m\u001b[0msubgraph\u001b[0m\u001b[1;33m(\u001b[0m\u001b[0mroute\u001b[0m\u001b[1;33m)\u001b[0m\u001b[1;33m,\u001b[0m \u001b[0mnodes\u001b[0m\u001b[1;33m=\u001b[0m\u001b[1;32mFalse\u001b[0m\u001b[1;33m)\u001b[0m\u001b[1;33m.\u001b[0m\u001b[0mloc\u001b[0m\u001b[1;33m[\u001b[0m\u001b[0muvk\u001b[0m\u001b[1;33m]\u001b[0m\u001b[1;33m\u001b[0m\u001b[1;33m\u001b[0m\u001b[0m\n",
      "\u001b[1;32m~\\anaconda3\\envs\\ox\\lib\\site-packages\\networkx\\classes\\graph.py\u001b[0m in \u001b[0;36m__getitem__\u001b[1;34m(self, n)\u001b[0m\n\u001b[0;32m    470\u001b[0m         \u001b[0mAtlasView\u001b[0m\u001b[1;33m(\u001b[0m\u001b[1;33m{\u001b[0m\u001b[1;36m1\u001b[0m\u001b[1;33m:\u001b[0m \u001b[1;33m{\u001b[0m\u001b[1;33m}\u001b[0m\u001b[1;33m}\u001b[0m\u001b[1;33m)\u001b[0m\u001b[1;33m\u001b[0m\u001b[1;33m\u001b[0m\u001b[0m\n\u001b[0;32m    471\u001b[0m         \"\"\"\n\u001b[1;32m--> 472\u001b[1;33m         \u001b[1;32mreturn\u001b[0m \u001b[0mself\u001b[0m\u001b[1;33m.\u001b[0m\u001b[0madj\u001b[0m\u001b[1;33m[\u001b[0m\u001b[0mn\u001b[0m\u001b[1;33m]\u001b[0m\u001b[1;33m\u001b[0m\u001b[1;33m\u001b[0m\u001b[0m\n\u001b[0m\u001b[0;32m    473\u001b[0m \u001b[1;33m\u001b[0m\u001b[0m\n\u001b[0;32m    474\u001b[0m     \u001b[1;32mdef\u001b[0m \u001b[0madd_node\u001b[0m\u001b[1;33m(\u001b[0m\u001b[0mself\u001b[0m\u001b[1;33m,\u001b[0m \u001b[0mnode_for_adding\u001b[0m\u001b[1;33m,\u001b[0m \u001b[1;33m**\u001b[0m\u001b[0mattr\u001b[0m\u001b[1;33m)\u001b[0m\u001b[1;33m:\u001b[0m\u001b[1;33m\u001b[0m\u001b[1;33m\u001b[0m\u001b[0m\n",
      "\u001b[1;32m~\\anaconda3\\envs\\ox\\lib\\site-packages\\networkx\\classes\\coreviews.py\u001b[0m in \u001b[0;36m__getitem__\u001b[1;34m(self, name)\u001b[0m\n\u001b[0;32m    100\u001b[0m \u001b[1;33m\u001b[0m\u001b[0m\n\u001b[0;32m    101\u001b[0m     \u001b[1;32mdef\u001b[0m \u001b[0m__getitem__\u001b[0m\u001b[1;33m(\u001b[0m\u001b[0mself\u001b[0m\u001b[1;33m,\u001b[0m \u001b[0mname\u001b[0m\u001b[1;33m)\u001b[0m\u001b[1;33m:\u001b[0m\u001b[1;33m\u001b[0m\u001b[1;33m\u001b[0m\u001b[0m\n\u001b[1;32m--> 102\u001b[1;33m         \u001b[1;32mreturn\u001b[0m \u001b[0mAdjacencyView\u001b[0m\u001b[1;33m(\u001b[0m\u001b[0mself\u001b[0m\u001b[1;33m.\u001b[0m\u001b[0m_atlas\u001b[0m\u001b[1;33m[\u001b[0m\u001b[0mname\u001b[0m\u001b[1;33m]\u001b[0m\u001b[1;33m)\u001b[0m\u001b[1;33m\u001b[0m\u001b[1;33m\u001b[0m\u001b[0m\n\u001b[0m\u001b[0;32m    103\u001b[0m \u001b[1;33m\u001b[0m\u001b[0m\n\u001b[0;32m    104\u001b[0m     \u001b[1;32mdef\u001b[0m \u001b[0mcopy\u001b[0m\u001b[1;33m(\u001b[0m\u001b[0mself\u001b[0m\u001b[1;33m)\u001b[0m\u001b[1;33m:\u001b[0m\u001b[1;33m\u001b[0m\u001b[1;33m\u001b[0m\u001b[0m\n",
      "\u001b[1;31mTypeError\u001b[0m: unhashable type: 'slice'"
     ]
    }
   ],
   "source": [
    "\n",
    "teste2 = ox.folium.plot_route_folium(G, trajeto, route_map=None, popup_attribute=None, tiles='cartodbpositron', zoom=1, fit_bounds=True, route_color=None, route_width=None, route_opacity=None);\n",
    "teste2"
   ]
  },
  {
   "cell_type": "code",
   "execution_count": 39,
   "id": "c880bc04",
   "metadata": {},
   "outputs": [
    {
     "ename": "NameError",
     "evalue": "name 'route_colors' is not defined",
     "output_type": "error",
     "traceback": [
      "\u001b[1;31m---------------------------------------------------------------------------\u001b[0m",
      "\u001b[1;31mNameError\u001b[0m                                 Traceback (most recent call last)",
      "\u001b[1;32m~\\AppData\\Local\\Temp/ipykernel_2100/582113924.py\u001b[0m in \u001b[0;36m<module>\u001b[1;34m\u001b[0m\n\u001b[1;32m----> 1\u001b[1;33m \u001b[0mfig\u001b[0m\u001b[1;33m,\u001b[0m \u001b[0max\u001b[0m \u001b[1;33m=\u001b[0m \u001b[0mox\u001b[0m\u001b[1;33m.\u001b[0m\u001b[0mplot_graph_routes\u001b[0m\u001b[1;33m(\u001b[0m\u001b[0mG\u001b[0m\u001b[1;33m,\u001b[0m \u001b[0mtrajetos\u001b[0m\u001b[1;33m,\u001b[0m \u001b[0mroute_colors\u001b[0m\u001b[1;33m,\u001b[0m \u001b[0mnode_size\u001b[0m\u001b[1;33m=\u001b[0m\u001b[1;36m0\u001b[0m\u001b[1;33m)\u001b[0m\u001b[1;33m;\u001b[0m\u001b[1;33m\u001b[0m\u001b[1;33m\u001b[0m\u001b[0m\n\u001b[0m",
      "\u001b[1;31mNameError\u001b[0m: name 'route_colors' is not defined"
     ]
    }
   ],
   "source": []
  },
  {
   "cell_type": "code",
   "execution_count": 20,
   "id": "b5185825",
   "metadata": {},
   "outputs": [
    {
     "ename": "TypeError",
     "evalue": "'generator' object is not subscriptable",
     "output_type": "error",
     "traceback": [
      "\u001b[1;31m---------------------------------------------------------------------------\u001b[0m",
      "\u001b[1;31mTypeError\u001b[0m                                 Traceback (most recent call last)",
      "\u001b[1;32m~\\AppData\\Local\\Temp/ipykernel_2100/1404255745.py\u001b[0m in \u001b[0;36m<module>\u001b[1;34m\u001b[0m\n\u001b[1;32m----> 1\u001b[1;33m \u001b[0mmapa\u001b[0m \u001b[1;33m=\u001b[0m \u001b[0mox\u001b[0m\u001b[1;33m.\u001b[0m\u001b[0mfolium\u001b[0m\u001b[1;33m.\u001b[0m\u001b[0mplot_route_folium\u001b[0m\u001b[1;33m(\u001b[0m\u001b[0mG\u001b[0m\u001b[1;33m,\u001b[0m \u001b[0mtrajetos\u001b[0m\u001b[1;33m,\u001b[0m \u001b[0mroute_map\u001b[0m\u001b[1;33m=\u001b[0m\u001b[1;32mNone\u001b[0m\u001b[1;33m,\u001b[0m \u001b[0mpopup_attribute\u001b[0m\u001b[1;33m=\u001b[0m\u001b[1;32mNone\u001b[0m\u001b[1;33m,\u001b[0m \u001b[0mtiles\u001b[0m\u001b[1;33m=\u001b[0m\u001b[1;34m'cartodbpositron'\u001b[0m\u001b[1;33m,\u001b[0m \u001b[0mzoom\u001b[0m\u001b[1;33m=\u001b[0m\u001b[1;36m1\u001b[0m\u001b[1;33m,\u001b[0m \u001b[0mfit_bounds\u001b[0m\u001b[1;33m=\u001b[0m\u001b[1;32mTrue\u001b[0m\u001b[1;33m,\u001b[0m \u001b[0mroute_color\u001b[0m\u001b[1;33m=\u001b[0m\u001b[1;32mNone\u001b[0m\u001b[1;33m,\u001b[0m \u001b[0mroute_width\u001b[0m\u001b[1;33m=\u001b[0m\u001b[1;32mNone\u001b[0m\u001b[1;33m,\u001b[0m \u001b[0mroute_opacity\u001b[0m\u001b[1;33m=\u001b[0m\u001b[1;32mNone\u001b[0m\u001b[1;33m)\u001b[0m\u001b[1;33m;\u001b[0m\u001b[1;33m\u001b[0m\u001b[1;33m\u001b[0m\u001b[0m\n\u001b[0m\u001b[0;32m      2\u001b[0m \u001b[0mmapa\u001b[0m\u001b[1;33m\u001b[0m\u001b[1;33m\u001b[0m\u001b[0m\n",
      "\u001b[1;32m~\\anaconda3\\envs\\ox\\lib\\site-packages\\osmnx\\folium.py\u001b[0m in \u001b[0;36mplot_route_folium\u001b[1;34m(G, route, route_map, popup_attribute, tiles, zoom, fit_bounds, route_color, route_width, route_opacity, **kwargs)\u001b[0m\n\u001b[0;32m    133\u001b[0m \u001b[1;33m\u001b[0m\u001b[0m\n\u001b[0;32m    134\u001b[0m     \u001b[1;31m# create gdf of the route edges in order\u001b[0m\u001b[1;33m\u001b[0m\u001b[1;33m\u001b[0m\u001b[1;33m\u001b[0m\u001b[0m\n\u001b[1;32m--> 135\u001b[1;33m     \u001b[0mnode_pairs\u001b[0m \u001b[1;33m=\u001b[0m \u001b[0mzip\u001b[0m\u001b[1;33m(\u001b[0m\u001b[0mroute\u001b[0m\u001b[1;33m[\u001b[0m\u001b[1;33m:\u001b[0m\u001b[1;33m-\u001b[0m\u001b[1;36m1\u001b[0m\u001b[1;33m]\u001b[0m\u001b[1;33m,\u001b[0m \u001b[0mroute\u001b[0m\u001b[1;33m[\u001b[0m\u001b[1;36m1\u001b[0m\u001b[1;33m:\u001b[0m\u001b[1;33m]\u001b[0m\u001b[1;33m)\u001b[0m\u001b[1;33m\u001b[0m\u001b[1;33m\u001b[0m\u001b[0m\n\u001b[0m\u001b[0;32m    136\u001b[0m     \u001b[0muvk\u001b[0m \u001b[1;33m=\u001b[0m \u001b[1;33m(\u001b[0m\u001b[1;33m(\u001b[0m\u001b[0mu\u001b[0m\u001b[1;33m,\u001b[0m \u001b[0mv\u001b[0m\u001b[1;33m,\u001b[0m \u001b[0mmin\u001b[0m\u001b[1;33m(\u001b[0m\u001b[0mG\u001b[0m\u001b[1;33m[\u001b[0m\u001b[0mu\u001b[0m\u001b[1;33m]\u001b[0m\u001b[1;33m[\u001b[0m\u001b[0mv\u001b[0m\u001b[1;33m]\u001b[0m\u001b[1;33m,\u001b[0m \u001b[0mkey\u001b[0m\u001b[1;33m=\u001b[0m\u001b[1;32mlambda\u001b[0m \u001b[0mk\u001b[0m\u001b[1;33m:\u001b[0m \u001b[0mG\u001b[0m\u001b[1;33m[\u001b[0m\u001b[0mu\u001b[0m\u001b[1;33m]\u001b[0m\u001b[1;33m[\u001b[0m\u001b[0mv\u001b[0m\u001b[1;33m]\u001b[0m\u001b[1;33m[\u001b[0m\u001b[0mk\u001b[0m\u001b[1;33m]\u001b[0m\u001b[1;33m[\u001b[0m\u001b[1;34m\"length\"\u001b[0m\u001b[1;33m]\u001b[0m\u001b[1;33m)\u001b[0m\u001b[1;33m)\u001b[0m \u001b[1;32mfor\u001b[0m \u001b[0mu\u001b[0m\u001b[1;33m,\u001b[0m \u001b[0mv\u001b[0m \u001b[1;32min\u001b[0m \u001b[0mnode_pairs\u001b[0m\u001b[1;33m)\u001b[0m\u001b[1;33m\u001b[0m\u001b[1;33m\u001b[0m\u001b[0m\n\u001b[0;32m    137\u001b[0m     \u001b[0mgdf_edges\u001b[0m \u001b[1;33m=\u001b[0m \u001b[0mutils_graph\u001b[0m\u001b[1;33m.\u001b[0m\u001b[0mgraph_to_gdfs\u001b[0m\u001b[1;33m(\u001b[0m\u001b[0mG\u001b[0m\u001b[1;33m.\u001b[0m\u001b[0msubgraph\u001b[0m\u001b[1;33m(\u001b[0m\u001b[0mroute\u001b[0m\u001b[1;33m)\u001b[0m\u001b[1;33m,\u001b[0m \u001b[0mnodes\u001b[0m\u001b[1;33m=\u001b[0m\u001b[1;32mFalse\u001b[0m\u001b[1;33m)\u001b[0m\u001b[1;33m.\u001b[0m\u001b[0mloc\u001b[0m\u001b[1;33m[\u001b[0m\u001b[0muvk\u001b[0m\u001b[1;33m]\u001b[0m\u001b[1;33m\u001b[0m\u001b[1;33m\u001b[0m\u001b[0m\n",
      "\u001b[1;31mTypeError\u001b[0m: 'generator' object is not subscriptable"
     ]
    }
   ],
   "source": [
    "mapa = ox.folium.plot_route_folium(G, trajetos, route_map=None, popup_attribute=None, tiles='cartodbpositron', zoom=1, fit_bounds=True, route_color=None, route_width=None, route_opacity=None);\n",
    "mapa"
   ]
  },
  {
   "cell_type": "code",
   "execution_count": 15,
   "id": "9f07e94f",
   "metadata": {},
   "outputs": [
    {
     "data": {
      "text/plain": [
       "<networkx.classes.multidigraph.MultiDiGraph at 0x1df336aecc8>"
      ]
     },
     "execution_count": 15,
     "metadata": {},
     "output_type": "execute_result"
    }
   ],
   "source": []
  },
  {
   "cell_type": "code",
   "execution_count": 108,
   "id": "4d917318",
   "metadata": {
    "scrolled": true
   },
   "outputs": [
    {
     "data": {
      "text/plain": [
       "[{'osmid': 52907674,\n",
       "  'name': 'Rua José Gomes Júnior',\n",
       "  'highway': 'residential',\n",
       "  'oneway': False,\n",
       "  'length': 61.631,\n",
       "  'geometry': <shapely.geometry.linestring.LineString at 0x1df39a71ec8>},\n",
       " {'osmid': [52907675, 52907676],\n",
       "  'name': 'Rua General Antero de Brito',\n",
       "  'highway': 'residential',\n",
       "  'oneway': False,\n",
       "  'length': 81.63,\n",
       "  'geometry': <shapely.geometry.linestring.LineString at 0x1df39f2e448>},\n",
       " {'osmid': 52907675,\n",
       "  'name': 'Rua General Antero de Brito',\n",
       "  'highway': 'residential',\n",
       "  'oneway': False,\n",
       "  'length': 58.107},\n",
       " {'osmid': 52907675,\n",
       "  'name': 'Rua General Antero de Brito',\n",
       "  'highway': 'residential',\n",
       "  'oneway': False,\n",
       "  'length': 43.368},\n",
       " {'osmid': 52907675,\n",
       "  'name': 'Rua General Antero de Brito',\n",
       "  'highway': 'residential',\n",
       "  'oneway': False,\n",
       "  'length': 54.383},\n",
       " {'osmid': 52907675,\n",
       "  'name': 'Rua General Antero de Brito',\n",
       "  'highway': 'residential',\n",
       "  'oneway': False,\n",
       "  'length': 29.077},\n",
       " {'osmid': 52907675,\n",
       "  'name': 'Rua General Antero de Brito',\n",
       "  'highway': 'residential',\n",
       "  'oneway': False,\n",
       "  'length': 53.212},\n",
       " {'osmid': 52907675,\n",
       "  'name': 'Rua General Antero de Brito',\n",
       "  'highway': 'residential',\n",
       "  'oneway': False,\n",
       "  'length': 39.221},\n",
       " {'osmid': 247135615,\n",
       "  'name': 'Rua General Antero de Brito',\n",
       "  'highway': 'residential',\n",
       "  'oneway': False,\n",
       "  'length': 65.47},\n",
       " {'osmid': 247135622,\n",
       "  'name': 'Rua João de Brito Lima Moura',\n",
       "  'highway': 'residential',\n",
       "  'oneway': False,\n",
       "  'length': 103.164},\n",
       " {'osmid': [77769418, 247135622],\n",
       "  'name': ['Rua João Brito de Lima Moura', 'Rua João de Brito Lima Moura'],\n",
       "  'highway': 'residential',\n",
       "  'oneway': False,\n",
       "  'length': 23.32,\n",
       "  'geometry': <shapely.geometry.linestring.LineString at 0x1df39cdd188>},\n",
       " {'osmid': 77769418,\n",
       "  'name': 'Rua João Brito de Lima Moura',\n",
       "  'highway': 'residential',\n",
       "  'oneway': False,\n",
       "  'length': 55.742000000000004,\n",
       "  'geometry': <shapely.geometry.linestring.LineString at 0x1df39afdc88>},\n",
       " {'osmid': 77769418,\n",
       "  'name': 'Rua João Brito de Lima Moura',\n",
       "  'highway': 'residential',\n",
       "  'oneway': False,\n",
       "  'length': 7.056},\n",
       " {'osmid': 77769418,\n",
       "  'name': 'Rua João Brito de Lima Moura',\n",
       "  'highway': 'residential',\n",
       "  'oneway': False,\n",
       "  'length': 58.093},\n",
       " {'osmid': 241253810,\n",
       "  'oneway': True,\n",
       "  'name': 'Rua João Brito de Lima Moura',\n",
       "  'highway': 'primary',\n",
       "  'length': 71.865},\n",
       " {'osmid': 241253810,\n",
       "  'oneway': True,\n",
       "  'name': 'Rua João Brito de Lima Moura',\n",
       "  'highway': 'primary',\n",
       "  'length': 73.251},\n",
       " {'osmid': 77769410,\n",
       "  'oneway': True,\n",
       "  'name': 'Rua João Brito de Lima Moura',\n",
       "  'highway': 'primary',\n",
       "  'length': 25.389},\n",
       " {'osmid': 247135638,\n",
       "  'oneway': True,\n",
       "  'name': 'Rua João Brito de Lima Moura',\n",
       "  'highway': 'primary_link',\n",
       "  'length': 38.703,\n",
       "  'geometry': <shapely.geometry.linestring.LineString at 0x1df399c6d08>},\n",
       " {'osmid': 247138147,\n",
       "  'oneway': True,\n",
       "  'name': 'Rua Sérgio Meira',\n",
       "  'highway': 'primary',\n",
       "  'length': 110.861,\n",
       "  'geometry': <shapely.geometry.linestring.LineString at 0x1df399c6788>},\n",
       " {'osmid': 46916504,\n",
       "  'name': 'Avenida Celerina Paiva',\n",
       "  'highway': 'residential',\n",
       "  'oneway': False,\n",
       "  'length': 151.239,\n",
       "  'geometry': <shapely.geometry.linestring.LineString at 0x1df3a258a08>},\n",
       " {'osmid': 52907673,\n",
       "  'name': 'Rua Conselheiro Júlio da Silva Coutinho',\n",
       "  'highway': 'residential',\n",
       "  'oneway': False,\n",
       "  'length': 110.55,\n",
       "  'geometry': <shapely.geometry.linestring.LineString at 0x1df39a71688>},\n",
       " {'osmid': 48728494,\n",
       "  'name': 'Avenida Caramuru',\n",
       "  'highway': 'residential',\n",
       "  'oneway': False,\n",
       "  'length': 214.299},\n",
       " {'osmid': 48728494,\n",
       "  'name': 'Avenida Caramuru',\n",
       "  'highway': 'residential',\n",
       "  'oneway': False,\n",
       "  'length': 163.512},\n",
       " {'osmid': 48728494,\n",
       "  'name': 'Avenida Caramuru',\n",
       "  'highway': 'residential',\n",
       "  'oneway': False,\n",
       "  'length': 149.28199999999998,\n",
       "  'geometry': <shapely.geometry.linestring.LineString at 0x1df39fa5848>},\n",
       " {'osmid': 666803746,\n",
       "  'name': 'Rua General Rego Barros',\n",
       "  'highway': 'residential',\n",
       "  'oneway': False,\n",
       "  'length': 64.025,\n",
       "  'geometry': <shapely.geometry.linestring.LineString at 0x1df39fa5908>},\n",
       " {'osmid': 666803746,\n",
       "  'name': 'Rua General Rego Barros',\n",
       "  'highway': 'residential',\n",
       "  'oneway': False,\n",
       "  'length': 63.866},\n",
       " {'osmid': 48728499,\n",
       "  'name': 'Rua Pedro Fortunato Alves',\n",
       "  'highway': 'residential',\n",
       "  'oneway': False,\n",
       "  'length': 86.733,\n",
       "  'geometry': <shapely.geometry.linestring.LineString at 0x1df39fa5b48>},\n",
       " {'osmid': 48728499,\n",
       "  'name': 'Rua Pedro Fortunato Alves',\n",
       "  'highway': 'residential',\n",
       "  'oneway': False,\n",
       "  'length': 118.737,\n",
       "  'geometry': <shapely.geometry.linestring.LineString at 0x1df39fa5e88>},\n",
       " {'osmid': 48728498,\n",
       "  'name': 'Rua Manoel Ferreira Machado',\n",
       "  'highway': 'residential',\n",
       "  'oneway': False,\n",
       "  'length': 100.496},\n",
       " {'osmid': 48728498,\n",
       "  'name': 'Rua Manoel Ferreira Machado',\n",
       "  'highway': 'residential',\n",
       "  'oneway': False,\n",
       "  'length': 87.559},\n",
       " {'osmid': 48728498,\n",
       "  'name': 'Rua Manoel Ferreira Machado',\n",
       "  'highway': 'residential',\n",
       "  'oneway': False,\n",
       "  'length': 127.21},\n",
       " {'osmid': 48728484,\n",
       "  'name': 'Rua San Juan',\n",
       "  'highway': 'residential',\n",
       "  'oneway': False,\n",
       "  'length': 12.188},\n",
       " {'osmid': 48728484,\n",
       "  'name': 'Rua San Juan',\n",
       "  'highway': 'residential',\n",
       "  'oneway': False,\n",
       "  'length': 141.463},\n",
       " {'osmid': 885686812,\n",
       "  'name': 'Avenida Santa Catarina',\n",
       "  'highway': 'tertiary',\n",
       "  'oneway': False,\n",
       "  'length': 76.749},\n",
       " {'osmid': 247140995,\n",
       "  'oneway': True,\n",
       "  'name': 'Rua Joaquim Pires',\n",
       "  'highway': 'tertiary',\n",
       "  'length': 17.2},\n",
       " {'osmid': 247140995,\n",
       "  'oneway': True,\n",
       "  'name': 'Rua Joaquim Pires',\n",
       "  'highway': 'tertiary',\n",
       "  'length': 35.288},\n",
       " {'osmid': 67757727,\n",
       "  'oneway': True,\n",
       "  'name': 'Avenida Maranhão',\n",
       "  'highway': 'tertiary',\n",
       "  'length': 30.565},\n",
       " {'osmid': 67757727,\n",
       "  'oneway': True,\n",
       "  'name': 'Avenida Maranhão',\n",
       "  'highway': 'tertiary',\n",
       "  'length': 57.857},\n",
       " {'osmid': 67757727,\n",
       "  'oneway': True,\n",
       "  'name': 'Avenida Maranhão',\n",
       "  'highway': 'tertiary',\n",
       "  'length': 59.209},\n",
       " {'osmid': 67757727,\n",
       "  'oneway': True,\n",
       "  'name': 'Avenida Maranhão',\n",
       "  'highway': 'tertiary',\n",
       "  'length': 111.829},\n",
       " {'osmid': 247142637,\n",
       "  'oneway': True,\n",
       "  'name': 'Avenida Maranhão',\n",
       "  'highway': 'tertiary',\n",
       "  'length': 114.237},\n",
       " {'osmid': 247142637,\n",
       "  'oneway': True,\n",
       "  'name': 'Avenida Maranhão',\n",
       "  'highway': 'tertiary',\n",
       "  'length': 111.529},\n",
       " {'osmid': 247142637,\n",
       "  'oneway': True,\n",
       "  'name': 'Avenida Maranhão',\n",
       "  'highway': 'tertiary',\n",
       "  'length': 114.253},\n",
       " {'osmid': 247142637,\n",
       "  'oneway': True,\n",
       "  'name': 'Avenida Maranhão',\n",
       "  'highway': 'tertiary',\n",
       "  'length': 113.207},\n",
       " {'osmid': 260285697,\n",
       "  'oneway': True,\n",
       "  'name': 'Avenida Maranhão',\n",
       "  'highway': 'tertiary',\n",
       "  'length': 112.486},\n",
       " {'osmid': 260285702,\n",
       "  'oneway': True,\n",
       "  'name': 'Avenida Maranhão',\n",
       "  'highway': 'tertiary',\n",
       "  'length': 13.46},\n",
       " {'osmid': 260382559,\n",
       "  'oneway': True,\n",
       "  'lanes': '3',\n",
       "  'name': 'Avenida Presidente Epitácio Pessoa',\n",
       "  'highway': 'primary',\n",
       "  'maxspeed': '50',\n",
       "  'length': 211.783},\n",
       " {'osmid': 260383071,\n",
       "  'oneway': True,\n",
       "  'lanes': '3',\n",
       "  'name': 'Avenida Presidente Epitácio Pessoa',\n",
       "  'highway': 'primary',\n",
       "  'maxspeed': '50',\n",
       "  'length': 209.886},\n",
       " {'osmid': 260383071,\n",
       "  'oneway': True,\n",
       "  'lanes': '3',\n",
       "  'name': 'Avenida Presidente Epitácio Pessoa',\n",
       "  'highway': 'primary',\n",
       "  'maxspeed': '50',\n",
       "  'length': 68.579},\n",
       " {'osmid': 260383071,\n",
       "  'oneway': True,\n",
       "  'lanes': '3',\n",
       "  'name': 'Avenida Presidente Epitácio Pessoa',\n",
       "  'highway': 'primary',\n",
       "  'maxspeed': '50',\n",
       "  'length': 144.271,\n",
       "  'geometry': <shapely.geometry.linestring.LineString at 0x1df39a651c8>},\n",
       " {'osmid': 260383071,\n",
       "  'oneway': True,\n",
       "  'lanes': '3',\n",
       "  'name': 'Avenida Presidente Epitácio Pessoa',\n",
       "  'highway': 'primary',\n",
       "  'maxspeed': '50',\n",
       "  'length': 66.794},\n",
       " {'osmid': 247142641,\n",
       "  'oneway': True,\n",
       "  'lanes': '3',\n",
       "  'name': 'Avenida Presidente Epitácio Pessoa',\n",
       "  'highway': 'primary',\n",
       "  'maxspeed': '50',\n",
       "  'length': 209.813},\n",
       " {'osmid': 260383091,\n",
       "  'oneway': True,\n",
       "  'lanes': '3',\n",
       "  'name': 'Avenida Presidente Epitácio Pessoa',\n",
       "  'highway': 'primary',\n",
       "  'maxspeed': '50',\n",
       "  'length': 185.406},\n",
       " {'osmid': [46551104, 30554038],\n",
       "  'bridge': 'viaduct',\n",
       "  'oneway': True,\n",
       "  'lanes': '3',\n",
       "  'name': 'Avenida Presidente Epitácio Pessoa',\n",
       "  'highway': 'primary',\n",
       "  'length': 29.435000000000002,\n",
       "  'maxspeed': '50',\n",
       "  'geometry': <shapely.geometry.linestring.LineString at 0x1df39a7b6c8>},\n",
       " {'osmid': [246031867, 30554038],\n",
       "  'oneway': True,\n",
       "  'name': 'Avenida Presidente Epitácio Pessoa',\n",
       "  'highway': 'primary',\n",
       "  'maxspeed': '50',\n",
       "  'length': 201.966,\n",
       "  'lanes': '3',\n",
       "  'geometry': <shapely.geometry.linestring.LineString at 0x1df39f97608>},\n",
       " {'osmid': 321704062,\n",
       "  'oneway': True,\n",
       "  'lanes': '3',\n",
       "  'name': 'Avenida Presidente Epitácio Pessoa',\n",
       "  'highway': 'primary',\n",
       "  'maxspeed': '50',\n",
       "  'length': 23.051},\n",
       " {'osmid': 321704062,\n",
       "  'oneway': True,\n",
       "  'lanes': '3',\n",
       "  'name': 'Avenida Presidente Epitácio Pessoa',\n",
       "  'highway': 'primary',\n",
       "  'maxspeed': '50',\n",
       "  'length': 204.995,\n",
       "  'geometry': <shapely.geometry.linestring.LineString at 0x1df398ec4c8>},\n",
       " {'osmid': 321704062,\n",
       "  'oneway': True,\n",
       "  'lanes': '3',\n",
       "  'name': 'Avenida Presidente Epitácio Pessoa',\n",
       "  'highway': 'primary',\n",
       "  'maxspeed': '50',\n",
       "  'length': 7.404},\n",
       " {'osmid': 321704062,\n",
       "  'oneway': True,\n",
       "  'lanes': '3',\n",
       "  'name': 'Avenida Presidente Epitácio Pessoa',\n",
       "  'highway': 'primary',\n",
       "  'maxspeed': '50',\n",
       "  'length': 224.523,\n",
       "  'geometry': <shapely.geometry.linestring.LineString at 0x1df39f97148>},\n",
       " {'osmid': 245982670,\n",
       "  'oneway': True,\n",
       "  'name': 'Rua João Domingos',\n",
       "  'highway': 'tertiary',\n",
       "  'length': 81.011},\n",
       " {'osmid': 245982670,\n",
       "  'oneway': True,\n",
       "  'name': 'Rua João Domingos',\n",
       "  'highway': 'tertiary',\n",
       "  'length': 71.24},\n",
       " {'osmid': 245982670,\n",
       "  'oneway': True,\n",
       "  'name': 'Rua João Domingos',\n",
       "  'highway': 'tertiary',\n",
       "  'length': 68.848},\n",
       " {'osmid': 245982670,\n",
       "  'oneway': True,\n",
       "  'name': 'Rua João Domingos',\n",
       "  'highway': 'tertiary',\n",
       "  'length': 69.862,\n",
       "  'geometry': <shapely.geometry.linestring.LineString at 0x1df39f7bb48>},\n",
       " {'osmid': 244952177,\n",
       "  'oneway': False,\n",
       "  'name': 'Rua João Domingos',\n",
       "  'highway': 'tertiary',\n",
       "  'length': 70.725},\n",
       " {'osmid': 247081331,\n",
       "  'oneway': False,\n",
       "  'name': 'Rua João Domingos',\n",
       "  'highway': 'residential',\n",
       "  'length': 69.366},\n",
       " {'osmid': 200756362,\n",
       "  'name': 'Rua Doutor Hermance Paiva',\n",
       "  'highway': 'residential',\n",
       "  'oneway': False,\n",
       "  'length': 72.249}]"
      ]
     },
     "execution_count": 108,
     "metadata": {},
     "output_type": "execute_result"
    }
   ],
   "source": [
    "rota = ox.utils_graph.get_route_edge_attributes(G, trajeto, attribute=None, minimize_key='length', retrieve_default=None);\n",
    "\n",
    "rota"
   ]
  },
  {
   "cell_type": "code",
   "execution_count": 111,
   "id": "ce264e97",
   "metadata": {},
   "outputs": [
    {
     "data": {
      "text/plain": [
       "list"
      ]
     },
     "execution_count": 111,
     "metadata": {},
     "output_type": "execute_result"
    }
   ],
   "source": [
    "type(trajeto)"
   ]
  },
  {
   "cell_type": "code",
   "execution_count": 47,
   "id": "9782f576",
   "metadata": {},
   "outputs": [
    {
     "data": {
      "text/plain": [
       "{0: 670602798,\n",
       " 1: 7218056348,\n",
       " 2: 914627434,\n",
       " 3: 670602688,\n",
       " 4: 914627445,\n",
       " 5: 914627455,\n",
       " 6: 670602683,\n",
       " 7: 2765960112,\n",
       " 8: 914627578,\n",
       " 9: 914627889,\n",
       " 10: 2540728293,\n",
       " 11: 914627765,\n",
       " 12: 7217797202,\n",
       " 13: 914627728,\n",
       " 14: 914627704,\n",
       " 15: 914627642,\n",
       " 16: 914627665,\n",
       " 17: 2051903037,\n",
       " 18: 2051903009,\n",
       " 19: 1869443009,\n",
       " 20: 670602790,\n",
       " 21: 2051903044,\n",
       " 22: 618516881,\n",
       " 23: 618516883,\n",
       " 24: 618516882,\n",
       " 25: 618516872,\n",
       " 26: 618516912,\n",
       " 27: 618516904,\n",
       " 28: 618516898,\n",
       " 29: 7221488415,\n",
       " 30: 7185842513,\n",
       " 31: 618516847,\n",
       " 32: 7185842512,\n",
       " 33: 2106615024,\n",
       " 34: 598927459,\n",
       " 35: 598927460,\n",
       " 36: 337592897,\n",
       " 37: 598927452,\n",
       " 38: 598927453,\n",
       " 39: 598927448,\n",
       " 40: 598927380,\n",
       " 41: 598927367,\n",
       " 42: 598927359,\n",
       " 43: 598927360,\n",
       " 44: 508062190,\n",
       " 45: 2657589188,\n",
       " 46: 598927127,\n",
       " 47: 587649046,\n",
       " 48: 598927147,\n",
       " 49: 602379518,\n",
       " 50: 3089043388,\n",
       " 51: 602379493,\n",
       " 52: 602377327,\n",
       " 53: 595302045,\n",
       " 54: 7202427106,\n",
       " 55: 1869448535,\n",
       " 56: 1869448536,\n",
       " 57: 7202427102,\n",
       " 58: 7202427107,\n",
       " 59: 2538730221,\n",
       " 60: 458411573,\n",
       " 61: 1869448212,\n",
       " 62: 587649050,\n",
       " 63: 458403676,\n",
       " 64: 458399039,\n",
       " 65: 458409479,\n",
       " 66: 458409484}"
      ]
     },
     "execution_count": 47,
     "metadata": {},
     "output_type": "execute_result"
    }
   ],
   "source": [
    "trajeto_dict2 = dict(zip(range(len(trajeto)),trajeto));\n",
    "trajeto_dict2"
   ]
  },
  {
   "cell_type": "code",
   "execution_count": 48,
   "id": "6525cf58",
   "metadata": {},
   "outputs": [
    {
     "data": {
      "text/plain": [
       "'{\"0\": 670602798, \"1\": 7218056348, \"2\": 914627434, \"3\": 670602688, \"4\": 914627445, \"5\": 914627455, \"6\": 670602683, \"7\": 2765960112, \"8\": 914627578, \"9\": 914627889, \"10\": 2540728293, \"11\": 914627765, \"12\": 7217797202, \"13\": 914627728, \"14\": 914627704, \"15\": 914627642, \"16\": 914627665, \"17\": 2051903037, \"18\": 2051903009, \"19\": 1869443009, \"20\": 670602790, \"21\": 2051903044, \"22\": 618516881, \"23\": 618516883, \"24\": 618516882, \"25\": 618516872, \"26\": 618516912, \"27\": 618516904, \"28\": 618516898, \"29\": 7221488415, \"30\": 7185842513, \"31\": 618516847, \"32\": 7185842512, \"33\": 2106615024, \"34\": 598927459, \"35\": 598927460, \"36\": 337592897, \"37\": 598927452, \"38\": 598927453, \"39\": 598927448, \"40\": 598927380, \"41\": 598927367, \"42\": 598927359, \"43\": 598927360, \"44\": 508062190, \"45\": 2657589188, \"46\": 598927127, \"47\": 587649046, \"48\": 598927147, \"49\": 602379518, \"50\": 3089043388, \"51\": 602379493, \"52\": 602377327, \"53\": 595302045, \"54\": 7202427106, \"55\": 1869448535, \"56\": 1869448536, \"57\": 7202427102, \"58\": 7202427107, \"59\": 2538730221, \"60\": 458411573, \"61\": 1869448212, \"62\": 587649050, \"63\": 458403676, \"64\": 458399039, \"65\": 458409479, \"66\": 458409484}'"
      ]
     },
     "execution_count": 48,
     "metadata": {},
     "output_type": "execute_result"
    }
   ],
   "source": [
    "#import json;\n",
    "\n",
    "trajetofinal = json.dumps(trajeto_dict2, indent=None, sort_keys=True)\n",
    "\n",
    "trajetofinal"
   ]
  },
  {
   "cell_type": "code",
   "execution_count": 168,
   "id": "8c330ecb",
   "metadata": {},
   "outputs": [
    {
     "name": "stderr",
     "output_type": "stream",
     "text": [
      "C:\\Users\\firmi\\anaconda3\\envs\\ox\\lib\\site-packages\\geopandas\\_vectorized.py:142: DeprecationWarning: An exception was ignored while fetching the attribute `__array_interface__` from an object of type 'Polygon'.  With the exception of `AttributeError` NumPy will always raise this exception in the future.  Raise this deprecation warning to see the original exception. (Warning added NumPy 1.21)\n",
      "  aout[:] = out\n",
      "C:\\Users\\firmi\\anaconda3\\envs\\ox\\lib\\site-packages\\geopandas\\_vectorized.py:142: DeprecationWarning: An exception was ignored while fetching the attribute `__array_interface__` from an object of type 'MultiPolygon'.  With the exception of `AttributeError` NumPy will always raise this exception in the future.  Raise this deprecation warning to see the original exception. (Warning added NumPy 1.21)\n",
      "  aout[:] = out\n",
      "C:\\Users\\firmi\\anaconda3\\envs\\ox\\lib\\site-packages\\pandas\\core\\dtypes\\cast.py:1981: DeprecationWarning: An exception was ignored while fetching the attribute `__array_interface__` from an object of type 'Polygon'.  With the exception of `AttributeError` NumPy will always raise this exception in the future.  Raise this deprecation warning to see the original exception. (Warning added NumPy 1.21)\n",
      "  result[:] = values\n",
      "C:\\Users\\firmi\\anaconda3\\envs\\ox\\lib\\site-packages\\pandas\\core\\dtypes\\cast.py:1981: DeprecationWarning: An exception was ignored while fetching the attribute `__array_interface__` from an object of type 'MultiPolygon'.  With the exception of `AttributeError` NumPy will always raise this exception in the future.  Raise this deprecation warning to see the original exception. (Warning added NumPy 1.21)\n",
      "  result[:] = values\n",
      "C:\\Users\\firmi\\anaconda3\\envs\\ox\\lib\\site-packages\\ipykernel_launcher.py:12: UserWarning: Geometry is in a geographic CRS. Results from 'centroid' are likely incorrect. Use 'GeoSeries.to_crs()' to re-project geometries to a projected CRS before this operation.\n",
      "\n",
      "  if sys.path[0] == '':\n",
      "C:\\Users\\firmi\\anaconda3\\envs\\ox\\lib\\site-packages\\osmnx\\distance.py:426: UserWarning: The `get_nearest_nodes` function has been deprecated and will be removed in a future release. Use the more efficient `distance.nearest_nodes` instead.\n",
      "  warnings.warn(msg)\n"
     ]
    },
    {
     "data": {
      "text/plain": [
       "[630735322,\n",
       " 598159878,\n",
       " 644149558,\n",
       " 7127619427,\n",
       " 598159525,\n",
       " 1869452779,\n",
       " 617478137,\n",
       " 598926809,\n",
       " 616943453,\n",
       " 7199773050,\n",
       " 626243942,\n",
       " 2522213113,\n",
       " 2276169143,\n",
       " 1857999618,\n",
       " 3622963630,\n",
       " 2539860492,\n",
       " 830363244,\n",
       " 631813723,\n",
       " 603039927,\n",
       " 611061158,\n",
       " 603728392,\n",
       " 598927527,\n",
       " 638990433,\n",
       " 613099173,\n",
       " 603717799,\n",
       " 2789544991,\n",
       " 2573710489,\n",
       " 640380785,\n",
       " 1378911748,\n",
       " 613094502,\n",
       " 663117040,\n",
       " 2265494019,\n",
       " 4521090894,\n",
       " 611115901,\n",
       " 1388021428,\n",
       " 626243916,\n",
       " 921066795,\n",
       " 2541527296,\n",
       " 7211069706,\n",
       " 860625925,\n",
       " 885563823,\n",
       " 885563722,\n",
       " 885564129,\n",
       " 2770959780,\n",
       " 885564265,\n",
       " 7210802152,\n",
       " 613295670,\n",
       " 885530703,\n",
       " 799966499,\n",
       " 3217722890,\n",
       " 613316308,\n",
       " 640411362,\n",
       " 1869435161,\n",
       " 4521090894,\n",
       " 2545289906,\n",
       " 2740984658,\n",
       " 4640772366,\n",
       " 7364627063,\n",
       " 598159662,\n",
       " 598159756,\n",
       " 598159892,\n",
       " 598159896,\n",
       " 617438957,\n",
       " 644147839,\n",
       " 2022540448,\n",
       " 2022540276,\n",
       " 451374434,\n",
       " 6243424327,\n",
       " 671857956,\n",
       " 598159878,\n",
       " 1870771246,\n",
       " 1870771349,\n",
       " 598159753,\n",
       " 630743145,\n",
       " 598159876,\n",
       " 2631885802,\n",
       " 2551313066,\n",
       " 1869448211,\n",
       " 3276935354,\n",
       " 598159876,\n",
       " 598159707,\n",
       " 598159823,\n",
       " 613094545,\n",
       " 2572352825,\n",
       " 2522213113,\n",
       " 458398988,\n",
       " 2022129481,\n",
       " 7048664826,\n",
       " 1869467744,\n",
       " 598927126,\n",
       " 2660279709,\n",
       " 6243397904,\n",
       " 598926868,\n",
       " 2068809165,\n",
       " 1870771452,\n",
       " 598926832,\n",
       " 598927094,\n",
       " 598927094,\n",
       " 4352770904,\n",
       " 1870771309,\n",
       " 2531236037,\n",
       " 2051916373,\n",
       " 626243942,\n",
       " 601415964,\n",
       " 6243440249,\n",
       " 860625952,\n",
       " 598927106,\n",
       " 1872837347,\n",
       " 2569518611,\n",
       " 631799207,\n",
       " 598927147,\n",
       " 613297095,\n",
       " 598160007,\n",
       " 2022413618,\n",
       " 617445020,\n",
       " 639047352,\n",
       " 458399034,\n",
       " 458411573,\n",
       " 2050174420,\n",
       " 639047359,\n",
       " 458398982,\n",
       " 5183536290,\n",
       " 2052091994,\n",
       " 631782527,\n",
       " 598926832,\n",
       " 638990346,\n",
       " 2550055311,\n",
       " 611061158,\n",
       " 4410787044,\n",
       " 7217806986,\n",
       " 603718028,\n",
       " 617477636,\n",
       " 631747498,\n",
       " 631747513,\n",
       " 663117686,\n",
       " 6568228977,\n",
       " 7143821752,\n",
       " 7143821752,\n",
       " 7143821752,\n",
       " 7143821752,\n",
       " 7143821752,\n",
       " 613326109,\n",
       " 458398994,\n",
       " 458398994,\n",
       " 458398988,\n",
       " 3307943549,\n",
       " 2533629037,\n",
       " 601416285,\n",
       " 458399041,\n",
       " 458409442,\n",
       " 451374424,\n",
       " 1783985875,\n",
       " 458411574,\n",
       " 451374424,\n",
       " 1783985875,\n",
       " 458411579,\n",
       " 458411575,\n",
       " 458411575,\n",
       " 458411575,\n",
       " 458409448,\n",
       " 458409448,\n",
       " 3307943549,\n",
       " 3307943549,\n",
       " 3307943549,\n",
       " 3307943549,\n",
       " 458411579,\n",
       " 458409448,\n",
       " 458409448,\n",
       " 458398988,\n",
       " 458411577,\n",
       " 458398991,\n",
       " 601416283,\n",
       " 601416283,\n",
       " 458411576,\n",
       " 2542535739,\n",
       " 2146383263,\n",
       " 598159709,\n",
       " 2068572963,\n",
       " 1857999614,\n",
       " 598159815,\n",
       " 598159771,\n",
       " 598159764,\n",
       " 598159774,\n",
       " 7153126020,\n",
       " 3791472885,\n",
       " 601416209,\n",
       " 6243266633,\n",
       " 6231543447,\n",
       " 6243266633,\n",
       " 601416205,\n",
       " 601415682,\n",
       " 2264618757,\n",
       " 663114465,\n",
       " 921082677,\n",
       " 3775053132,\n",
       " 2546400264,\n",
       " 598927276,\n",
       " 7127357215,\n",
       " 638994781,\n",
       " 638994781,\n",
       " 638990407,\n",
       " 617439222,\n",
       " 7192314968,\n",
       " 617439804,\n",
       " 6243435676,\n",
       " 6243435676,\n",
       " 613316357,\n",
       " 613316357,\n",
       " 617439222,\n",
       " 7192314968,\n",
       " 2551313072,\n",
       " 7199440657,\n",
       " 6243429356,\n",
       " 6243429360,\n",
       " 7199440657,\n",
       " 7199440657,\n",
       " 617445116,\n",
       " 617445116,\n",
       " 617445116,\n",
       " 7127688136,\n",
       " 7127688136,\n",
       " 7127688136,\n",
       " 861458353,\n",
       " 861458353,\n",
       " 7161948021,\n",
       " 7161948021,\n",
       " 7161948021,\n",
       " 861335587,\n",
       " 861335587,\n",
       " 861335587,\n",
       " 861335587,\n",
       " 613094502,\n",
       " 613104508,\n",
       " 631799044,\n",
       " 601416040,\n",
       " 603707496,\n",
       " 603689559,\n",
       " 2569518610,\n",
       " 617477579,\n",
       " 663118512,\n",
       " 885564265,\n",
       " 885563823,\n",
       " 885563865,\n",
       " 601415968,\n",
       " 598159602,\n",
       " 2068809101,\n",
       " 639003750,\n",
       " 7210802153,\n",
       " 830363281,\n",
       " 921082669,\n",
       " 2531236037,\n",
       " 598159642,\n",
       " 7143821751,\n",
       " 3065011874]"
      ]
     },
     "execution_count": 168,
     "metadata": {},
     "output_type": "execute_result"
    }
   ],
   "source": [
    "import osmnx as ox\n",
    "ox.config(use_cache=True, log_console=True)\n",
    "\n",
    "place = 'João Pessoa, PB, Brasil'\n",
    "G = ox.graph_from_place(place, network_type='drive')\n",
    "\n",
    "tags = {'amenity' : ['hospital','university','school'],\n",
    "        'landuse' : ['retail', 'commercial'],\n",
    "        'shop' : ['water','bakery']}\n",
    "gdf = ox.geometries_from_place(place, tags)\n",
    "\n",
    "centroids = gdf.centroid\n",
    "X = centroids.x\n",
    "Y = centroids.y\n",
    "\n",
    "nn = ox.get_nearest_nodes(G, X, Y, method='balltree')\n",
    "nn"
   ]
  },
  {
   "cell_type": "code",
   "execution_count": 186,
   "id": "3ddbaa52",
   "metadata": {},
   "outputs": [
    {
     "name": "stderr",
     "output_type": "stream",
     "text": [
      "C:\\Users\\firmi\\anaconda3\\envs\\ox\\lib\\site-packages\\geopandas\\_vectorized.py:142: DeprecationWarning: An exception was ignored while fetching the attribute `__array_interface__` from an object of type 'Polygon'.  With the exception of `AttributeError` NumPy will always raise this exception in the future.  Raise this deprecation warning to see the original exception. (Warning added NumPy 1.21)\n",
      "  aout[:] = out\n",
      "C:\\Users\\firmi\\anaconda3\\envs\\ox\\lib\\site-packages\\geopandas\\_vectorized.py:142: DeprecationWarning: An exception was ignored while fetching the attribute `__array_interface__` from an object of type 'MultiPolygon'.  With the exception of `AttributeError` NumPy will always raise this exception in the future.  Raise this deprecation warning to see the original exception. (Warning added NumPy 1.21)\n",
      "  aout[:] = out\n",
      "C:\\Users\\firmi\\anaconda3\\envs\\ox\\lib\\site-packages\\pandas\\core\\dtypes\\cast.py:1981: DeprecationWarning: An exception was ignored while fetching the attribute `__array_interface__` from an object of type 'Polygon'.  With the exception of `AttributeError` NumPy will always raise this exception in the future.  Raise this deprecation warning to see the original exception. (Warning added NumPy 1.21)\n",
      "  result[:] = values\n",
      "C:\\Users\\firmi\\anaconda3\\envs\\ox\\lib\\site-packages\\pandas\\core\\dtypes\\cast.py:1981: DeprecationWarning: An exception was ignored while fetching the attribute `__array_interface__` from an object of type 'MultiPolygon'.  With the exception of `AttributeError` NumPy will always raise this exception in the future.  Raise this deprecation warning to see the original exception. (Warning added NumPy 1.21)\n",
      "  result[:] = values\n"
     ]
    },
    {
     "data": {
      "text/plain": [
       "Index(['amenity', 'name', 'geometry', 'addr:street', 'alt_name', 'addr:city',\n",
       "       'addr:suburb', 'addr:housenumber', 'website', 'addr:postcode',\n",
       "       'amenity_1', 'monastery:type', 'office', 'operator', 'religion',\n",
       "       'nodes', 'building', 'wheelchair', 'source', 'phone', 'landuse',\n",
       "       'operator:type', 'layer', 'long_name', 'ways', 'type'],\n",
       "      dtype='object')"
      ]
     },
     "execution_count": 186,
     "metadata": {},
     "output_type": "execute_result"
    }
   ],
   "source": [
    "\n",
    "\n",
    "escolas = ox.geometries_from_place(place, tags = {'amenity':'school'})\n",
    "escolas.columns"
   ]
  },
  {
   "cell_type": "code",
   "execution_count": 198,
   "id": "14a4a763",
   "metadata": {},
   "outputs": [
    {
     "data": {
      "text/plain": [
       "<networkx.classes.multidigraph.MultiDiGraph at 0x1df3480a8c8>"
      ]
     },
     "execution_count": 198,
     "metadata": {},
     "output_type": "execute_result"
    }
   ],
   "source": [
    "F = ox.graph.graph_from_address('Rua Nagib Arruda', dist=1000, dist_type='bbox', network_type='drive', simplify=True, retain_all=False, truncate_by_edge=False, return_coords=False, clean_periphery=True, custom_filter=None)\n",
    "F"
   ]
  },
  {
   "cell_type": "code",
   "execution_count": 197,
   "id": "afe34939",
   "metadata": {},
   "outputs": [
    {
     "name": "stdout",
     "output_type": "stream",
     "text": [
      "\n"
     ]
    }
   ],
   "source": []
  },
  {
   "cell_type": "code",
   "execution_count": 103,
   "id": "ac1bb8f3",
   "metadata": {},
   "outputs": [
    {
     "data": {
      "text/plain": [
       "[670602798,\n",
       " 7218056348,\n",
       " 914627434,\n",
       " 670602688,\n",
       " 914627445,\n",
       " 914627455,\n",
       " 670602683,\n",
       " 2765960112,\n",
       " 914627578,\n",
       " 914627889,\n",
       " 2540728293,\n",
       " 914627765,\n",
       " 7217797202,\n",
       " 914627728,\n",
       " 914627704,\n",
       " 914627642,\n",
       " 914627665,\n",
       " 2051903037,\n",
       " 2051903009,\n",
       " 1869443009,\n",
       " 670602790,\n",
       " 2051903044,\n",
       " 618516881,\n",
       " 618516883,\n",
       " 618516882,\n",
       " 618516872,\n",
       " 618516912,\n",
       " 618516904,\n",
       " 618516898,\n",
       " 7221488415,\n",
       " 7185842513,\n",
       " 618516847,\n",
       " 7185842512,\n",
       " 2106615024,\n",
       " 598927459,\n",
       " 598927460,\n",
       " 337592897,\n",
       " 598927452,\n",
       " 598927453,\n",
       " 598927448,\n",
       " 598927380,\n",
       " 598927367,\n",
       " 598927359,\n",
       " 598927360,\n",
       " 508062190,\n",
       " 2657589188,\n",
       " 598927127,\n",
       " 587649046,\n",
       " 598927147,\n",
       " 602379518,\n",
       " 3089043388,\n",
       " 602379493,\n",
       " 602377327,\n",
       " 595302045,\n",
       " 7202427106,\n",
       " 1869448535,\n",
       " 1869448536,\n",
       " 7202427102,\n",
       " 7202427107,\n",
       " 2538730221,\n",
       " 458411573,\n",
       " 1869448212,\n",
       " 587649050,\n",
       " 458403676,\n",
       " 458399039,\n",
       " 458409479,\n",
       " 458409484]"
      ]
     },
     "execution_count": 103,
     "metadata": {},
     "output_type": "execute_result"
    }
   ],
   "source": [
    "trajeto"
   ]
  },
  {
   "cell_type": "code",
   "execution_count": 50,
   "id": "fe2ce17a",
   "metadata": {},
   "outputs": [
    {
     "ename": "TypeError",
     "evalue": "string indices must be integers",
     "output_type": "error",
     "traceback": [
      "\u001b[1;31m---------------------------------------------------------------------------\u001b[0m",
      "\u001b[1;31mTypeError\u001b[0m                                 Traceback (most recent call last)",
      "\u001b[1;32m~\\AppData\\Local\\Temp/ipykernel_2648/1350050531.py\u001b[0m in \u001b[0;36m<module>\u001b[1;34m\u001b[0m\n\u001b[1;32m----> 1\u001b[1;33m \u001b[0mrota0\u001b[0m \u001b[1;33m=\u001b[0m \u001b[0mox\u001b[0m\u001b[1;33m.\u001b[0m\u001b[0mplot\u001b[0m\u001b[1;33m.\u001b[0m\u001b[0mplot_footprints\u001b[0m\u001b[1;33m(\u001b[0m\u001b[0mtrajetofinal\u001b[0m\u001b[1;33m,\u001b[0m \u001b[0max\u001b[0m\u001b[1;33m=\u001b[0m\u001b[1;32mNone\u001b[0m\u001b[1;33m,\u001b[0m \u001b[0mfigsize\u001b[0m\u001b[1;33m=\u001b[0m\u001b[1;33m(\u001b[0m\u001b[1;36m8\u001b[0m\u001b[1;33m,\u001b[0m \u001b[1;36m8\u001b[0m\u001b[1;33m)\u001b[0m\u001b[1;33m,\u001b[0m \u001b[0mcolor\u001b[0m\u001b[1;33m=\u001b[0m\u001b[1;34m'orange'\u001b[0m\u001b[1;33m,\u001b[0m \u001b[0malpha\u001b[0m\u001b[1;33m=\u001b[0m\u001b[1;32mNone\u001b[0m\u001b[1;33m,\u001b[0m \u001b[0mbgcolor\u001b[0m\u001b[1;33m=\u001b[0m\u001b[1;34m'#111111'\u001b[0m\u001b[1;33m,\u001b[0m \u001b[0mbbox\u001b[0m\u001b[1;33m=\u001b[0m\u001b[1;32mNone\u001b[0m\u001b[1;33m,\u001b[0m \u001b[0msave\u001b[0m\u001b[1;33m=\u001b[0m\u001b[1;32mFalse\u001b[0m\u001b[1;33m,\u001b[0m \u001b[0mshow\u001b[0m\u001b[1;33m=\u001b[0m\u001b[1;32mTrue\u001b[0m\u001b[1;33m,\u001b[0m \u001b[0mclose\u001b[0m\u001b[1;33m=\u001b[0m\u001b[1;32mFalse\u001b[0m\u001b[1;33m,\u001b[0m \u001b[0mfilepath\u001b[0m\u001b[1;33m=\u001b[0m\u001b[1;32mNone\u001b[0m\u001b[1;33m,\u001b[0m \u001b[0mdpi\u001b[0m\u001b[1;33m=\u001b[0m\u001b[1;36m600\u001b[0m\u001b[1;33m)\u001b[0m\u001b[1;33m\u001b[0m\u001b[1;33m\u001b[0m\u001b[0m\n\u001b[0m\u001b[0;32m      2\u001b[0m \u001b[1;33m\u001b[0m\u001b[0m\n",
      "\u001b[1;32m~\\anaconda3\\envs\\ox\\lib\\site-packages\\osmnx\\plot.py\u001b[0m in \u001b[0;36mplot_footprints\u001b[1;34m(gdf, ax, figsize, color, alpha, bgcolor, bbox, save, show, close, filepath, dpi)\u001b[0m\n\u001b[0;32m    614\u001b[0m \u001b[1;33m\u001b[0m\u001b[0m\n\u001b[0;32m    615\u001b[0m     \u001b[1;31m# retain only Polygons and MultiPolygons, then plot\u001b[0m\u001b[1;33m\u001b[0m\u001b[1;33m\u001b[0m\u001b[1;33m\u001b[0m\u001b[0m\n\u001b[1;32m--> 616\u001b[1;33m     \u001b[0mgdf\u001b[0m \u001b[1;33m=\u001b[0m \u001b[0mgdf\u001b[0m\u001b[1;33m[\u001b[0m\u001b[0mgdf\u001b[0m\u001b[1;33m[\u001b[0m\u001b[1;34m\"geometry\"\u001b[0m\u001b[1;33m]\u001b[0m\u001b[1;33m.\u001b[0m\u001b[0mtype\u001b[0m\u001b[1;33m.\u001b[0m\u001b[0misin\u001b[0m\u001b[1;33m(\u001b[0m\u001b[1;33m{\u001b[0m\u001b[1;34m\"Polygon\"\u001b[0m\u001b[1;33m,\u001b[0m \u001b[1;34m\"MultiPolygon\"\u001b[0m\u001b[1;33m}\u001b[0m\u001b[1;33m)\u001b[0m\u001b[1;33m]\u001b[0m\u001b[1;33m\u001b[0m\u001b[1;33m\u001b[0m\u001b[0m\n\u001b[0m\u001b[0;32m    617\u001b[0m     \u001b[0max\u001b[0m \u001b[1;33m=\u001b[0m \u001b[0mgdf\u001b[0m\u001b[1;33m.\u001b[0m\u001b[0mplot\u001b[0m\u001b[1;33m(\u001b[0m\u001b[0max\u001b[0m\u001b[1;33m=\u001b[0m\u001b[0max\u001b[0m\u001b[1;33m,\u001b[0m \u001b[0mfacecolor\u001b[0m\u001b[1;33m=\u001b[0m\u001b[0mcolor\u001b[0m\u001b[1;33m,\u001b[0m \u001b[0medgecolor\u001b[0m\u001b[1;33m=\u001b[0m\u001b[1;34m\"none\"\u001b[0m\u001b[1;33m,\u001b[0m \u001b[0mlinewidth\u001b[0m\u001b[1;33m=\u001b[0m\u001b[1;36m0\u001b[0m\u001b[1;33m,\u001b[0m \u001b[0malpha\u001b[0m\u001b[1;33m=\u001b[0m\u001b[0malpha\u001b[0m\u001b[1;33m)\u001b[0m\u001b[1;33m\u001b[0m\u001b[1;33m\u001b[0m\u001b[0m\n\u001b[0;32m    618\u001b[0m \u001b[1;33m\u001b[0m\u001b[0m\n",
      "\u001b[1;31mTypeError\u001b[0m: string indices must be integers"
     ]
    },
    {
     "data": {
      "image/png": "[encoded data removed]",
      "text/plain": [
       "<Figure size 576x576 with 1 Axes>"
      ]
     },
     "metadata": {},
     "output_type": "display_data"
    }
   ],
   "source": [
    "\n",
    "rota0 = ox.plot.plot_footprints(trajetofinal, ax=None, figsize=(8, 8), color='orange', alpha=None, bgcolor='#111111', bbox=None, save=False, show=True, close=False, filepath=None, dpi=600)\n",
    "\n"
   ]
  },
  {
   "cell_type": "code",
   "execution_count": 173,
   "id": "61c906f1",
   "metadata": {},
   "outputs": [
    {
     "ename": "NameError",
     "evalue": "name 'fig' is not defined",
     "output_type": "error",
     "traceback": [
      "\u001b[1;31m---------------------------------------------------------------------------\u001b[0m",
      "\u001b[1;31mNameError\u001b[0m                                 Traceback (most recent call last)",
      "\u001b[1;32m~\\AppData\\Local\\Temp/ipykernel_2100/2749824197.py\u001b[0m in \u001b[0;36m<module>\u001b[1;34m\u001b[0m\n\u001b[1;32m----> 1\u001b[1;33m \u001b[0mpointlist\u001b[0m \u001b[1;33m=\u001b[0m \u001b[0mlist\u001b[0m\u001b[1;33m(\u001b[0m\u001b[0mfig\u001b[0m\u001b[1;33m.\u001b[0m\u001b[0mgeometry\u001b[0m\u001b[1;33m.\u001b[0m\u001b[0mapply\u001b[0m\u001b[1;33m(\u001b[0m\u001b[1;32mlambda\u001b[0m \u001b[0mx\u001b[0m\u001b[1;33m:\u001b[0m \u001b[1;33m(\u001b[0m \u001b[0mx\u001b[0m\u001b[1;33m.\u001b[0m\u001b[0mx\u001b[0m\u001b[1;33m,\u001b[0m \u001b[0mx\u001b[0m\u001b[1;33m.\u001b[0m\u001b[0my\u001b[0m \u001b[1;33m)\u001b[0m\u001b[1;33m)\u001b[0m\u001b[1;33m)\u001b[0m\u001b[1;33m\u001b[0m\u001b[1;33m\u001b[0m\u001b[0m\n\u001b[0m",
      "\u001b[1;31mNameError\u001b[0m: name 'fig' is not defined"
     ]
    }
   ],
   "source": [
    "pointlist = list(fig.geometry.apply(lambda x: ( x.x, x.y )))"
   ]
  },
  {
   "cell_type": "code",
   "execution_count": 211,
   "id": "b2f59f4a",
   "metadata": {},
   "outputs": [
    {
     "name": "stderr",
     "output_type": "stream",
     "text": [
      "C:\\Users\\firmi\\anaconda3\\envs\\ox\\lib\\site-packages\\geopandas\\_vectorized.py:142: DeprecationWarning: An exception was ignored while fetching the attribute `__array_interface__` from an object of type 'Polygon'.  With the exception of `AttributeError` NumPy will always raise this exception in the future.  Raise this deprecation warning to see the original exception. (Warning added NumPy 1.21)\n",
      "  aout[:] = out\n",
      "C:\\Users\\firmi\\anaconda3\\envs\\ox\\lib\\site-packages\\geopandas\\_vectorized.py:142: DeprecationWarning: An exception was ignored while fetching the attribute `__array_interface__` from an object of type 'MultiPolygon'.  With the exception of `AttributeError` NumPy will always raise this exception in the future.  Raise this deprecation warning to see the original exception. (Warning added NumPy 1.21)\n",
      "  aout[:] = out\n"
     ]
    }
   ],
   "source": [
    "ox.graph.graph_from_place(place, network_type='drive', simplify=True, retain_all=False, truncate_by_edge=False, which_result=None, buffer_dist=None, clean_periphery=True, custom_filter=None);"
   ]
  },
  {
   "cell_type": "code",
   "execution_count": 212,
   "id": "01d2627d",
   "metadata": {},
   "outputs": [
    {
     "name": "stderr",
     "output_type": "stream",
     "text": [
      "C:\\Users\\firmi\\anaconda3\\envs\\ox\\lib\\site-packages\\osmnx\\osm_xml.py:182: UserWarning: In order for save_graph_xml to behave properly the graph must have been created with the `all_oneway` setting set to True.\n",
      "  warnings.warn(msg)\n"
     ]
    }
   ],
   "source": [
    "ox.save_graph_xml(G, filepath='./Documentos/graph.osm')"
   ]
  },
  {
   "cell_type": "code",
   "execution_count": 214,
   "id": "dce1bc43",
   "metadata": {},
   "outputs": [],
   "source": [
    "ox.save_graph_xml(G, filepath='C:/Users/firmi/OneDrive/Documentos/grafoteste.osm');"
   ]
  },
  {
   "cell_type": "code",
   "execution_count": 215,
   "id": "2d0abf42",
   "metadata": {},
   "outputs": [
    {
     "ename": "KeyError",
     "evalue": "'all edges must have `length` and `speed_kph` attributes.'",
     "output_type": "error",
     "traceback": [
      "\u001b[1;31m---------------------------------------------------------------------------\u001b[0m",
      "\u001b[1;31mKeyError\u001b[0m                                  Traceback (most recent call last)",
      "\u001b[1;32m~\\AppData\\Local\\Temp/ipykernel_2100/1235738397.py\u001b[0m in \u001b[0;36m<module>\u001b[1;34m\u001b[0m\n\u001b[1;32m----> 1\u001b[1;33m \u001b[0mTESTANDO\u001b[0m \u001b[1;33m=\u001b[0m \u001b[0mox\u001b[0m\u001b[1;33m.\u001b[0m\u001b[0mspeed\u001b[0m\u001b[1;33m.\u001b[0m\u001b[0madd_edge_travel_times\u001b[0m\u001b[1;33m(\u001b[0m\u001b[0mG\u001b[0m\u001b[1;33m,\u001b[0m \u001b[0mprecision\u001b[0m\u001b[1;33m=\u001b[0m\u001b[1;36m1\u001b[0m\u001b[1;33m)\u001b[0m\u001b[1;33m\u001b[0m\u001b[1;33m\u001b[0m\u001b[0m\n\u001b[0m\u001b[0;32m      2\u001b[0m \u001b[0mTESTANDO\u001b[0m\u001b[1;33m\u001b[0m\u001b[1;33m\u001b[0m\u001b[0m\n",
      "\u001b[1;32m~\\anaconda3\\envs\\ox\\lib\\site-packages\\osmnx\\speed.py\u001b[0m in \u001b[0;36madd_edge_travel_times\u001b[1;34m(G, precision)\u001b[0m\n\u001b[0;32m    141\u001b[0m     \u001b[1;31m# verify edge length and speed_kph attributes exist and contain no nulls\u001b[0m\u001b[1;33m\u001b[0m\u001b[1;33m\u001b[0m\u001b[1;33m\u001b[0m\u001b[0m\n\u001b[0;32m    142\u001b[0m     \u001b[1;32mif\u001b[0m \u001b[1;32mnot\u001b[0m \u001b[1;33m(\u001b[0m\u001b[1;34m\"length\"\u001b[0m \u001b[1;32min\u001b[0m \u001b[0medges\u001b[0m\u001b[1;33m.\u001b[0m\u001b[0mcolumns\u001b[0m \u001b[1;32mand\u001b[0m \u001b[1;34m\"speed_kph\"\u001b[0m \u001b[1;32min\u001b[0m \u001b[0medges\u001b[0m\u001b[1;33m.\u001b[0m\u001b[0mcolumns\u001b[0m\u001b[1;33m)\u001b[0m\u001b[1;33m:\u001b[0m  \u001b[1;31m# pragma: no cover\u001b[0m\u001b[1;33m\u001b[0m\u001b[1;33m\u001b[0m\u001b[0m\n\u001b[1;32m--> 143\u001b[1;33m         \u001b[1;32mraise\u001b[0m \u001b[0mKeyError\u001b[0m\u001b[1;33m(\u001b[0m\u001b[1;34m\"all edges must have `length` and `speed_kph` attributes.\"\u001b[0m\u001b[1;33m)\u001b[0m\u001b[1;33m\u001b[0m\u001b[1;33m\u001b[0m\u001b[0m\n\u001b[0m\u001b[0;32m    144\u001b[0m     \u001b[1;32melse\u001b[0m\u001b[1;33m:\u001b[0m\u001b[1;33m\u001b[0m\u001b[1;33m\u001b[0m\u001b[0m\n\u001b[0;32m    145\u001b[0m         if (\n",
      "\u001b[1;31mKeyError\u001b[0m: 'all edges must have `length` and `speed_kph` attributes.'"
     ]
    }
   ],
   "source": [
    "TESTANDO = ox.speed.add_edge_travel_times(G, precision=1)\n",
    "TESTANDO"
   ]
  },
  {
   "cell_type": "code",
   "execution_count": 37,
   "id": "66a23901",
   "metadata": {},
   "outputs": [
    {
     "ename": "ModuleNotFoundError",
     "evalue": "No module named 'pysal'",
     "output_type": "error",
     "traceback": [
      "\u001b[1;31m---------------------------------------------------------------------------\u001b[0m",
      "\u001b[1;31mModuleNotFoundError\u001b[0m                       Traceback (most recent call last)",
      "\u001b[1;32m~\\AppData\\Local\\Temp/ipykernel_2648/1530379815.py\u001b[0m in \u001b[0;36m<module>\u001b[1;34m\u001b[0m\n\u001b[0;32m      3\u001b[0m \u001b[1;32mimport\u001b[0m \u001b[0mmapclassify\u001b[0m \u001b[1;32mas\u001b[0m \u001b[0mmc\u001b[0m\u001b[1;33m;\u001b[0m\u001b[1;33m\u001b[0m\u001b[1;33m\u001b[0m\u001b[0m\n\u001b[0;32m      4\u001b[0m \u001b[1;32mimport\u001b[0m \u001b[0mgeoplot\u001b[0m \u001b[1;32mas\u001b[0m \u001b[0mgplot\u001b[0m\u001b[1;33m;\u001b[0m\u001b[1;33m\u001b[0m\u001b[1;33m\u001b[0m\u001b[0m\n\u001b[1;32m----> 5\u001b[1;33m \u001b[1;32mimport\u001b[0m \u001b[0mpysal\u001b[0m \u001b[1;32mas\u001b[0m \u001b[0mpl\u001b[0m\u001b[1;33m;\u001b[0m\u001b[1;33m\u001b[0m\u001b[1;33m\u001b[0m\u001b[0m\n\u001b[0m\u001b[0;32m      6\u001b[0m \u001b[1;32mimport\u001b[0m \u001b[0mrasterio\u001b[0m \u001b[1;32mas\u001b[0m \u001b[0mrtr\u001b[0m\u001b[1;33m;\u001b[0m\u001b[1;33m\u001b[0m\u001b[1;33m\u001b[0m\u001b[0m\n\u001b[0;32m      7\u001b[0m \u001b[1;32mimport\u001b[0m \u001b[0mrasterstats\u001b[0m \u001b[1;32mas\u001b[0m \u001b[0mrts\u001b[0m\u001b[1;33m;\u001b[0m\u001b[1;33m\u001b[0m\u001b[1;33m\u001b[0m\u001b[0m\n",
      "\u001b[1;31mModuleNotFoundError\u001b[0m: No module named 'pysal'"
     ]
    }
   ],
   "source": [
    "import geopandas as gpd;\n",
    "import matplotlib as plot;\n",
    "import mapclassify as mc;\n",
    "import geoplot as gplot;\n",
    "import pysal as pl;\n",
    "import rasterio as rtr;\n",
    "import rasterstats as rts;\n",
    "import pycrs as pc;\n",
    "import numpy as np;\n",
    "import scipy as sc;\n",
    "import cartopy;\n",
    "import osmnx;\n",
    "import folium;\n",
    "import dash;\n",
    "import contextily;\n",
    "import pandas as pd;\n",
    "import shapely as sh;"
   ]
  },
  {
   "cell_type": "code",
   "execution_count": null,
   "id": "772e275b",
   "metadata": {},
   "outputs": [],
   "source": [
    "geo = geocode(data['Rua Nagib Arruda, 222'], provider='nominatim', user_agent='joaogis', timeout=4);"
   ]
  },
  {
   "cell_type": "code",
   "execution_count": null,
   "id": "17dfe9de",
   "metadata": {},
   "outputs": [],
   "source": [
    "\n",
    "# Create the point representing Helsinki (in WGS84)\n",
    "hki_lon = 24.9417\n",
    "hki_lat = 60.1666\n",
    "\n",
    "# Create GeoDataFrame\n",
    "helsinki = gpd.GeoDataFrame([[Point(hki_lon, hki_lat)]], geometry='geometry', crs={'init': 'epsg:4326'}, columns=['geometry'])\n",
    "\n",
    "# Print\n",
    "print(helsinki)"
   ]
  },
  {
   "cell_type": "code",
   "execution_count": null,
   "id": "9b1c130d",
   "metadata": {},
   "outputs": [],
   "source": [
    "\n",
    "# Reproject to aeqd projection that we defined earlier\n",
    "europe_borders_aeqd = europe_borders_aeqd.to_crs(crs=aeqd)\n",
    "\n",
    "# Print\n",
    "print(europe_borders_aeqd.head(2))"
   ]
  },
  {
   "cell_type": "code",
   "execution_count": 2,
   "id": "235e9fd1",
   "metadata": {},
   "outputs": [],
   "source": [
    "import osmnx as ox\n",
    "import matplotlib.pyplot as plt\n",
    "%matplotlib inline"
   ]
  },
  {
   "cell_type": "code",
   "execution_count": 3,
   "id": "dcd7c093",
   "metadata": {},
   "outputs": [],
   "source": [
    "# Specify the name that is used to seach for the data\n",
    "place_name = \"João Pessoa, Paraíba, Brasil\"\n",
    "\n",
    "# Fetch OSM street network from the location\n",
    "graph = ox.graph_from_place(place_name)"
   ]
  },
  {
   "cell_type": "code",
   "execution_count": 5,
   "id": "1e25de6d",
   "metadata": {},
   "outputs": [
    {
     "data": {
      "text/plain": [
       "networkx.classes.multidigraph.MultiDiGraph"
      ]
     },
     "execution_count": 5,
     "metadata": {},
     "output_type": "execute_result"
    }
   ],
   "source": [
    "type(graph)"
   ]
  },
  {
   "cell_type": "code",
   "execution_count": 6,
   "id": "4849df93",
   "metadata": {},
   "outputs": [
    {
     "data": {
      "image/png": "[encoded data removed]",
      "text/plain": [
       "<Figure size 576x576 with 1 Axes>"
      ]
     },
     "metadata": {},
     "output_type": "display_data"
    }
   ],
   "source": [
    "fig, ax = ox.plot_graph(graph);"
   ]
  },
  {
   "cell_type": "code",
   "execution_count": 38,
   "id": "09f8d932",
   "metadata": {},
   "outputs": [],
   "source": [
    "import requests"
   ]
  },
  {
   "cell_type": "code",
   "execution_count": 67,
   "id": "75c045f4",
   "metadata": {},
   "outputs": [
    {
     "name": "stderr",
     "output_type": "stream",
     "text": [
      "C:\\Users\\firmi\\anaconda3\\envs\\ox\\lib\\site-packages\\geopandas\\_vectorized.py:142: DeprecationWarning: An exception was ignored while fetching the attribute `__array_interface__` from an object of type 'Polygon'.  With the exception of `AttributeError` NumPy will always raise this exception in the future.  Raise this deprecation warning to see the original exception. (Warning added NumPy 1.21)\n",
      "  aout[:] = out\n",
      "C:\\Users\\firmi\\anaconda3\\envs\\ox\\lib\\site-packages\\geopandas\\_vectorized.py:142: DeprecationWarning: An exception was ignored while fetching the attribute `__array_interface__` from an object of type 'MultiPolygon'.  With the exception of `AttributeError` NumPy will always raise this exception in the future.  Raise this deprecation warning to see the original exception. (Warning added NumPy 1.21)\n",
      "  aout[:] = out\n",
      "C:\\Users\\firmi\\anaconda3\\envs\\ox\\lib\\site-packages\\pandas\\core\\dtypes\\cast.py:1981: DeprecationWarning: An exception was ignored while fetching the attribute `__array_interface__` from an object of type 'Polygon'.  With the exception of `AttributeError` NumPy will always raise this exception in the future.  Raise this deprecation warning to see the original exception. (Warning added NumPy 1.21)\n",
      "  result[:] = values\n",
      "C:\\Users\\firmi\\anaconda3\\envs\\ox\\lib\\site-packages\\pandas\\core\\dtypes\\cast.py:1981: DeprecationWarning: An exception was ignored while fetching the attribute `__array_interface__` from an object of type 'MultiPolygon'.  With the exception of `AttributeError` NumPy will always raise this exception in the future.  Raise this deprecation warning to see the original exception. (Warning added NumPy 1.21)\n",
      "  result[:] = values\n"
     ]
    }
   ],
   "source": [
    "JOAOPESSOA = ox.geometries.geometries_from_place(query = {'city':'João Pessoa'}, tags = {'amenity':True}, which_result=None, buffer_dist=None);"
   ]
  },
  {
   "cell_type": "code",
   "execution_count": 68,
   "id": "4a69dc58",
   "metadata": {},
   "outputs": [
    {
     "data": {
      "text/html": [
       "<div>\n",
       "<style scoped>\n",
       "    .dataframe tbody tr th:only-of-type {\n",
       "        vertical-align: middle;\n",
       "    }\n",
       "\n",
       "    .dataframe tbody tr th {\n",
       "        vertical-align: top;\n",
       "    }\n",
       "\n",
       "    .dataframe thead th {\n",
       "        text-align: right;\n",
       "    }\n",
       "</style>\n",
       "<table border=\"1\" class=\"dataframe\">\n",
       "  <thead>\n",
       "    <tr style=\"text-align: right;\">\n",
       "      <th></th>\n",
       "      <th></th>\n",
       "      <th>amenity</th>\n",
       "      <th>name</th>\n",
       "      <th>geometry</th>\n",
       "      <th>healthcare</th>\n",
       "      <th>comment</th>\n",
       "      <th>wifi</th>\n",
       "      <th>addr:city</th>\n",
       "      <th>addr:street</th>\n",
       "      <th>brand</th>\n",
       "      <th>brand:wikidata</th>\n",
       "      <th>...</th>\n",
       "      <th>max_age</th>\n",
       "      <th>air_conditioning</th>\n",
       "      <th>fence_type</th>\n",
       "      <th>theatre:type</th>\n",
       "      <th>bar</th>\n",
       "      <th>long_name</th>\n",
       "      <th>opening_hours:covid19</th>\n",
       "      <th>ways</th>\n",
       "      <th>type</th>\n",
       "      <th>seamark:building:function</th>\n",
       "    </tr>\n",
       "    <tr>\n",
       "      <th>element_type</th>\n",
       "      <th>osmid</th>\n",
       "      <th></th>\n",
       "      <th></th>\n",
       "      <th></th>\n",
       "      <th></th>\n",
       "      <th></th>\n",
       "      <th></th>\n",
       "      <th></th>\n",
       "      <th></th>\n",
       "      <th></th>\n",
       "      <th></th>\n",
       "      <th></th>\n",
       "      <th></th>\n",
       "      <th></th>\n",
       "      <th></th>\n",
       "      <th></th>\n",
       "      <th></th>\n",
       "      <th></th>\n",
       "      <th></th>\n",
       "      <th></th>\n",
       "      <th></th>\n",
       "      <th></th>\n",
       "    </tr>\n",
       "  </thead>\n",
       "  <tbody>\n",
       "    <tr>\n",
       "      <th rowspan=\"5\" valign=\"top\">node</th>\n",
       "      <th>630743138</th>\n",
       "      <td>parking</td>\n",
       "      <td>Jardim Botânico Benjamin Maranhão</td>\n",
       "      <td>POINT (-34.86076 -7.13549)</td>\n",
       "      <td>NaN</td>\n",
       "      <td>NaN</td>\n",
       "      <td>NaN</td>\n",
       "      <td>NaN</td>\n",
       "      <td>NaN</td>\n",
       "      <td>NaN</td>\n",
       "      <td>NaN</td>\n",
       "      <td>...</td>\n",
       "      <td>NaN</td>\n",
       "      <td>NaN</td>\n",
       "      <td>NaN</td>\n",
       "      <td>NaN</td>\n",
       "      <td>NaN</td>\n",
       "      <td>NaN</td>\n",
       "      <td>NaN</td>\n",
       "      <td>NaN</td>\n",
       "      <td>NaN</td>\n",
       "      <td>NaN</td>\n",
       "    </tr>\n",
       "    <tr>\n",
       "      <th>631799017</th>\n",
       "      <td>fuel</td>\n",
       "      <td>NaN</td>\n",
       "      <td>POINT (-34.88845 -7.16662)</td>\n",
       "      <td>NaN</td>\n",
       "      <td>NaN</td>\n",
       "      <td>NaN</td>\n",
       "      <td>NaN</td>\n",
       "      <td>NaN</td>\n",
       "      <td>NaN</td>\n",
       "      <td>NaN</td>\n",
       "      <td>...</td>\n",
       "      <td>NaN</td>\n",
       "      <td>NaN</td>\n",
       "      <td>NaN</td>\n",
       "      <td>NaN</td>\n",
       "      <td>NaN</td>\n",
       "      <td>NaN</td>\n",
       "      <td>NaN</td>\n",
       "      <td>NaN</td>\n",
       "      <td>NaN</td>\n",
       "      <td>NaN</td>\n",
       "    </tr>\n",
       "    <tr>\n",
       "      <th>845009397</th>\n",
       "      <td>hospital</td>\n",
       "      <td>Sta. Thereza</td>\n",
       "      <td>POINT (-34.85848 -7.12930)</td>\n",
       "      <td>hospital</td>\n",
       "      <td>NaN</td>\n",
       "      <td>NaN</td>\n",
       "      <td>NaN</td>\n",
       "      <td>NaN</td>\n",
       "      <td>NaN</td>\n",
       "      <td>NaN</td>\n",
       "      <td>...</td>\n",
       "      <td>NaN</td>\n",
       "      <td>NaN</td>\n",
       "      <td>NaN</td>\n",
       "      <td>NaN</td>\n",
       "      <td>NaN</td>\n",
       "      <td>NaN</td>\n",
       "      <td>NaN</td>\n",
       "      <td>NaN</td>\n",
       "      <td>NaN</td>\n",
       "      <td>NaN</td>\n",
       "    </tr>\n",
       "    <tr>\n",
       "      <th>859506493</th>\n",
       "      <td>bar</td>\n",
       "      <td>Veranda do Mar</td>\n",
       "      <td>POINT (-34.82464 -7.10907)</td>\n",
       "      <td>NaN</td>\n",
       "      <td>wifi pass 1717202017</td>\n",
       "      <td>yes</td>\n",
       "      <td>NaN</td>\n",
       "      <td>NaN</td>\n",
       "      <td>NaN</td>\n",
       "      <td>NaN</td>\n",
       "      <td>...</td>\n",
       "      <td>NaN</td>\n",
       "      <td>NaN</td>\n",
       "      <td>NaN</td>\n",
       "      <td>NaN</td>\n",
       "      <td>NaN</td>\n",
       "      <td>NaN</td>\n",
       "      <td>NaN</td>\n",
       "      <td>NaN</td>\n",
       "      <td>NaN</td>\n",
       "      <td>NaN</td>\n",
       "    </tr>\n",
       "    <tr>\n",
       "      <th>973662367</th>\n",
       "      <td>fuel</td>\n",
       "      <td>Master Gás</td>\n",
       "      <td>POINT (-34.84062 -7.11944)</td>\n",
       "      <td>NaN</td>\n",
       "      <td>NaN</td>\n",
       "      <td>NaN</td>\n",
       "      <td>João Pessoa</td>\n",
       "      <td>Avenida Presidente Epitácio Pessoa</td>\n",
       "      <td>NaN</td>\n",
       "      <td>NaN</td>\n",
       "      <td>...</td>\n",
       "      <td>NaN</td>\n",
       "      <td>NaN</td>\n",
       "      <td>NaN</td>\n",
       "      <td>NaN</td>\n",
       "      <td>NaN</td>\n",
       "      <td>NaN</td>\n",
       "      <td>NaN</td>\n",
       "      <td>NaN</td>\n",
       "      <td>NaN</td>\n",
       "      <td>NaN</td>\n",
       "    </tr>\n",
       "    <tr>\n",
       "      <th>...</th>\n",
       "      <th>...</th>\n",
       "      <td>...</td>\n",
       "      <td>...</td>\n",
       "      <td>...</td>\n",
       "      <td>...</td>\n",
       "      <td>...</td>\n",
       "      <td>...</td>\n",
       "      <td>...</td>\n",
       "      <td>...</td>\n",
       "      <td>...</td>\n",
       "      <td>...</td>\n",
       "      <td>...</td>\n",
       "      <td>...</td>\n",
       "      <td>...</td>\n",
       "      <td>...</td>\n",
       "      <td>...</td>\n",
       "      <td>...</td>\n",
       "      <td>...</td>\n",
       "      <td>...</td>\n",
       "      <td>...</td>\n",
       "      <td>...</td>\n",
       "      <td>...</td>\n",
       "    </tr>\n",
       "    <tr>\n",
       "      <th rowspan=\"5\" valign=\"top\">relation</th>\n",
       "      <th>11181514</th>\n",
       "      <td>university</td>\n",
       "      <td>Direito UFPB</td>\n",
       "      <td>POLYGON ((-34.88428 -7.12112, -34.88431 -7.121...</td>\n",
       "      <td>NaN</td>\n",
       "      <td>NaN</td>\n",
       "      <td>NaN</td>\n",
       "      <td>NaN</td>\n",
       "      <td>NaN</td>\n",
       "      <td>NaN</td>\n",
       "      <td>NaN</td>\n",
       "      <td>...</td>\n",
       "      <td>NaN</td>\n",
       "      <td>NaN</td>\n",
       "      <td>NaN</td>\n",
       "      <td>NaN</td>\n",
       "      <td>NaN</td>\n",
       "      <td>NaN</td>\n",
       "      <td>NaN</td>\n",
       "      <td>[813736359, 194716348]</td>\n",
       "      <td>multipolygon</td>\n",
       "      <td>NaN</td>\n",
       "    </tr>\n",
       "    <tr>\n",
       "      <th>12459775</th>\n",
       "      <td>parking</td>\n",
       "      <td>NaN</td>\n",
       "      <td>POLYGON ((-34.83001 -7.20072, -34.82965 -7.200...</td>\n",
       "      <td>NaN</td>\n",
       "      <td>NaN</td>\n",
       "      <td>NaN</td>\n",
       "      <td>NaN</td>\n",
       "      <td>NaN</td>\n",
       "      <td>NaN</td>\n",
       "      <td>NaN</td>\n",
       "      <td>...</td>\n",
       "      <td>NaN</td>\n",
       "      <td>NaN</td>\n",
       "      <td>NaN</td>\n",
       "      <td>NaN</td>\n",
       "      <td>NaN</td>\n",
       "      <td>NaN</td>\n",
       "      <td>NaN</td>\n",
       "      <td>[657077740, 918477140, 918477134]</td>\n",
       "      <td>multipolygon</td>\n",
       "      <td>NaN</td>\n",
       "    </tr>\n",
       "    <tr>\n",
       "      <th>12459777</th>\n",
       "      <td>parking</td>\n",
       "      <td>NaN</td>\n",
       "      <td>POLYGON ((-34.83068 -7.19999, -34.83064 -7.199...</td>\n",
       "      <td>NaN</td>\n",
       "      <td>NaN</td>\n",
       "      <td>NaN</td>\n",
       "      <td>NaN</td>\n",
       "      <td>NaN</td>\n",
       "      <td>NaN</td>\n",
       "      <td>NaN</td>\n",
       "      <td>...</td>\n",
       "      <td>NaN</td>\n",
       "      <td>NaN</td>\n",
       "      <td>NaN</td>\n",
       "      <td>NaN</td>\n",
       "      <td>NaN</td>\n",
       "      <td>NaN</td>\n",
       "      <td>NaN</td>\n",
       "      <td>[657077721, 918477136]</td>\n",
       "      <td>multipolygon</td>\n",
       "      <td>NaN</td>\n",
       "    </tr>\n",
       "    <tr>\n",
       "      <th>12459779</th>\n",
       "      <td>parking</td>\n",
       "      <td>NaN</td>\n",
       "      <td>POLYGON ((-34.83038 -7.19951, -34.82960 -7.200...</td>\n",
       "      <td>NaN</td>\n",
       "      <td>NaN</td>\n",
       "      <td>NaN</td>\n",
       "      <td>NaN</td>\n",
       "      <td>NaN</td>\n",
       "      <td>NaN</td>\n",
       "      <td>NaN</td>\n",
       "      <td>...</td>\n",
       "      <td>NaN</td>\n",
       "      <td>NaN</td>\n",
       "      <td>NaN</td>\n",
       "      <td>NaN</td>\n",
       "      <td>NaN</td>\n",
       "      <td>NaN</td>\n",
       "      <td>NaN</td>\n",
       "      <td>[657077739, 918477139]</td>\n",
       "      <td>multipolygon</td>\n",
       "      <td>NaN</td>\n",
       "    </tr>\n",
       "    <tr>\n",
       "      <th>12459783</th>\n",
       "      <td>parking</td>\n",
       "      <td>NaN</td>\n",
       "      <td>POLYGON ((-34.83096 -7.20052, -34.83111 -7.200...</td>\n",
       "      <td>NaN</td>\n",
       "      <td>NaN</td>\n",
       "      <td>NaN</td>\n",
       "      <td>NaN</td>\n",
       "      <td>NaN</td>\n",
       "      <td>NaN</td>\n",
       "      <td>NaN</td>\n",
       "      <td>...</td>\n",
       "      <td>NaN</td>\n",
       "      <td>NaN</td>\n",
       "      <td>NaN</td>\n",
       "      <td>NaN</td>\n",
       "      <td>NaN</td>\n",
       "      <td>NaN</td>\n",
       "      <td>NaN</td>\n",
       "      <td>[657077753, 918477148, 918477151]</td>\n",
       "      <td>multipolygon</td>\n",
       "      <td>NaN</td>\n",
       "    </tr>\n",
       "  </tbody>\n",
       "</table>\n",
       "<p>1551 rows × 146 columns</p>\n",
       "</div>"
      ],
      "text/plain": [
       "                           amenity                               name  \\\n",
       "element_type osmid                                                      \n",
       "node         630743138     parking  Jardim Botânico Benjamin Maranhão   \n",
       "             631799017        fuel                                NaN   \n",
       "             845009397    hospital                       Sta. Thereza   \n",
       "             859506493         bar                     Veranda do Mar   \n",
       "             973662367        fuel                         Master Gás   \n",
       "...                            ...                                ...   \n",
       "relation     11181514   university                       Direito UFPB   \n",
       "             12459775      parking                                NaN   \n",
       "             12459777      parking                                NaN   \n",
       "             12459779      parking                                NaN   \n",
       "             12459783      parking                                NaN   \n",
       "\n",
       "                                                                 geometry  \\\n",
       "element_type osmid                                                          \n",
       "node         630743138                         POINT (-34.86076 -7.13549)   \n",
       "             631799017                         POINT (-34.88845 -7.16662)   \n",
       "             845009397                         POINT (-34.85848 -7.12930)   \n",
       "             859506493                         POINT (-34.82464 -7.10907)   \n",
       "             973662367                         POINT (-34.84062 -7.11944)   \n",
       "...                                                                   ...   \n",
       "relation     11181514   POLYGON ((-34.88428 -7.12112, -34.88431 -7.121...   \n",
       "             12459775   POLYGON ((-34.83001 -7.20072, -34.82965 -7.200...   \n",
       "             12459777   POLYGON ((-34.83068 -7.19999, -34.83064 -7.199...   \n",
       "             12459779   POLYGON ((-34.83038 -7.19951, -34.82960 -7.200...   \n",
       "             12459783   POLYGON ((-34.83096 -7.20052, -34.83111 -7.200...   \n",
       "\n",
       "                       healthcare               comment wifi    addr:city  \\\n",
       "element_type osmid                                                          \n",
       "node         630743138        NaN                   NaN  NaN          NaN   \n",
       "             631799017        NaN                   NaN  NaN          NaN   \n",
       "             845009397   hospital                   NaN  NaN          NaN   \n",
       "             859506493        NaN  wifi pass 1717202017  yes          NaN   \n",
       "             973662367        NaN                   NaN  NaN  João Pessoa   \n",
       "...                           ...                   ...  ...          ...   \n",
       "relation     11181514         NaN                   NaN  NaN          NaN   \n",
       "             12459775         NaN                   NaN  NaN          NaN   \n",
       "             12459777         NaN                   NaN  NaN          NaN   \n",
       "             12459779         NaN                   NaN  NaN          NaN   \n",
       "             12459783         NaN                   NaN  NaN          NaN   \n",
       "\n",
       "                                               addr:street brand  \\\n",
       "element_type osmid                                                 \n",
       "node         630743138                                 NaN   NaN   \n",
       "             631799017                                 NaN   NaN   \n",
       "             845009397                                 NaN   NaN   \n",
       "             859506493                                 NaN   NaN   \n",
       "             973662367  Avenida Presidente Epitácio Pessoa   NaN   \n",
       "...                                                    ...   ...   \n",
       "relation     11181514                                  NaN   NaN   \n",
       "             12459775                                  NaN   NaN   \n",
       "             12459777                                  NaN   NaN   \n",
       "             12459779                                  NaN   NaN   \n",
       "             12459783                                  NaN   NaN   \n",
       "\n",
       "                       brand:wikidata  ... max_age air_conditioning  \\\n",
       "element_type osmid                     ...                            \n",
       "node         630743138            NaN  ...     NaN              NaN   \n",
       "             631799017            NaN  ...     NaN              NaN   \n",
       "             845009397            NaN  ...     NaN              NaN   \n",
       "             859506493            NaN  ...     NaN              NaN   \n",
       "             973662367            NaN  ...     NaN              NaN   \n",
       "...                               ...  ...     ...              ...   \n",
       "relation     11181514             NaN  ...     NaN              NaN   \n",
       "             12459775             NaN  ...     NaN              NaN   \n",
       "             12459777             NaN  ...     NaN              NaN   \n",
       "             12459779             NaN  ...     NaN              NaN   \n",
       "             12459783             NaN  ...     NaN              NaN   \n",
       "\n",
       "                       fence_type theatre:type  bar long_name  \\\n",
       "element_type osmid                                              \n",
       "node         630743138        NaN          NaN  NaN       NaN   \n",
       "             631799017        NaN          NaN  NaN       NaN   \n",
       "             845009397        NaN          NaN  NaN       NaN   \n",
       "             859506493        NaN          NaN  NaN       NaN   \n",
       "             973662367        NaN          NaN  NaN       NaN   \n",
       "...                           ...          ...  ...       ...   \n",
       "relation     11181514         NaN          NaN  NaN       NaN   \n",
       "             12459775         NaN          NaN  NaN       NaN   \n",
       "             12459777         NaN          NaN  NaN       NaN   \n",
       "             12459779         NaN          NaN  NaN       NaN   \n",
       "             12459783         NaN          NaN  NaN       NaN   \n",
       "\n",
       "                       opening_hours:covid19  \\\n",
       "element_type osmid                             \n",
       "node         630743138                   NaN   \n",
       "             631799017                   NaN   \n",
       "             845009397                   NaN   \n",
       "             859506493                   NaN   \n",
       "             973662367                   NaN   \n",
       "...                                      ...   \n",
       "relation     11181514                    NaN   \n",
       "             12459775                    NaN   \n",
       "             12459777                    NaN   \n",
       "             12459779                    NaN   \n",
       "             12459783                    NaN   \n",
       "\n",
       "                                                     ways          type  \\\n",
       "element_type osmid                                                        \n",
       "node         630743138                                NaN           NaN   \n",
       "             631799017                                NaN           NaN   \n",
       "             845009397                                NaN           NaN   \n",
       "             859506493                                NaN           NaN   \n",
       "             973662367                                NaN           NaN   \n",
       "...                                                   ...           ...   \n",
       "relation     11181514              [813736359, 194716348]  multipolygon   \n",
       "             12459775   [657077740, 918477140, 918477134]  multipolygon   \n",
       "             12459777              [657077721, 918477136]  multipolygon   \n",
       "             12459779              [657077739, 918477139]  multipolygon   \n",
       "             12459783   [657077753, 918477148, 918477151]  multipolygon   \n",
       "\n",
       "                       seamark:building:function  \n",
       "element_type osmid                                \n",
       "node         630743138                       NaN  \n",
       "             631799017                       NaN  \n",
       "             845009397                       NaN  \n",
       "             859506493                       NaN  \n",
       "             973662367                       NaN  \n",
       "...                                          ...  \n",
       "relation     11181514                        NaN  \n",
       "             12459775                        NaN  \n",
       "             12459777                        NaN  \n",
       "             12459779                        NaN  \n",
       "             12459783                        NaN  \n",
       "\n",
       "[1551 rows x 146 columns]"
      ]
     },
     "execution_count": 68,
     "metadata": {},
     "output_type": "execute_result"
    }
   ],
   "source": [
    "JOAOPESSOA"
   ]
  },
  {
   "cell_type": "code",
   "execution_count": 79,
   "id": "ccb3cfdb",
   "metadata": {},
   "outputs": [],
   "source": [
    "geom = (-34.0072, -7.001213);"
   ]
  },
  {
   "cell_type": "code",
   "execution_count": 83,
   "id": "a491c351",
   "metadata": {},
   "outputs": [
    {
     "data": {
      "text/plain": [
       "(-34.83940398322535,\n",
       " -34.92933601677464,\n",
       " -7.144093978520322,\n",
       " -7.253726021479677)"
      ]
     },
     "execution_count": 83,
     "metadata": {},
     "output_type": "execute_result"
    }
   ],
   "source": [
    "PONTO = ox.utils_geo.bbox_from_point(ponto_central_xy, dist=5000, project_utm=False, return_crs=False)\n",
    "PONTO"
   ]
  },
  {
   "cell_type": "code",
   "execution_count": 81,
   "id": "4df9ce59",
   "metadata": {},
   "outputs": [
    {
     "data": {
      "text/html": [
       "<div>\n",
       "<style scoped>\n",
       "    .dataframe tbody tr th:only-of-type {\n",
       "        vertical-align: middle;\n",
       "    }\n",
       "\n",
       "    .dataframe tbody tr th {\n",
       "        vertical-align: top;\n",
       "    }\n",
       "\n",
       "    .dataframe thead th {\n",
       "        text-align: right;\n",
       "    }\n",
       "</style>\n",
       "<table border=\"1\" class=\"dataframe\">\n",
       "  <thead>\n",
       "    <tr style=\"text-align: right;\">\n",
       "      <th></th>\n",
       "      <th>geometry</th>\n",
       "    </tr>\n",
       "  </thead>\n",
       "  <tbody>\n",
       "  </tbody>\n",
       "</table>\n",
       "</div>"
      ],
      "text/plain": [
       "Empty GeoDataFrame\n",
       "Columns: [geometry]\n",
       "Index: []"
      ]
     },
     "execution_count": 81,
     "metadata": {},
     "output_type": "execute_result"
    }
   ],
   "source": [
    "PONTO"
   ]
  },
  {
   "cell_type": "code",
   "execution_count": 96,
   "id": "bb5f4e35",
   "metadata": {},
   "outputs": [
    {
     "name": "stderr",
     "output_type": "stream",
     "text": [
      "C:\\Users\\firmi\\anaconda3\\envs\\ox\\lib\\site-packages\\geopandas\\_vectorized.py:142: DeprecationWarning: An exception was ignored while fetching the attribute `__array_interface__` from an object of type 'Polygon'.  With the exception of `AttributeError` NumPy will always raise this exception in the future.  Raise this deprecation warning to see the original exception. (Warning added NumPy 1.21)\n",
      "  aout[:] = out\n",
      "C:\\Users\\firmi\\anaconda3\\envs\\ox\\lib\\site-packages\\geopandas\\_vectorized.py:142: DeprecationWarning: An exception was ignored while fetching the attribute `__array_interface__` from an object of type 'MultiPolygon'.  With the exception of `AttributeError` NumPy will always raise this exception in the future.  Raise this deprecation warning to see the original exception. (Warning added NumPy 1.21)\n",
      "  aout[:] = out\n",
      "C:\\Users\\firmi\\anaconda3\\envs\\ox\\lib\\site-packages\\pandas\\core\\dtypes\\cast.py:1981: DeprecationWarning: An exception was ignored while fetching the attribute `__array_interface__` from an object of type 'Polygon'.  With the exception of `AttributeError` NumPy will always raise this exception in the future.  Raise this deprecation warning to see the original exception. (Warning added NumPy 1.21)\n",
      "  result[:] = values\n",
      "C:\\Users\\firmi\\anaconda3\\envs\\ox\\lib\\site-packages\\pandas\\core\\dtypes\\cast.py:1981: DeprecationWarning: An exception was ignored while fetching the attribute `__array_interface__` from an object of type 'MultiPolygon'.  With the exception of `AttributeError` NumPy will always raise this exception in the future.  Raise this deprecation warning to see the original exception. (Warning added NumPy 1.21)\n",
      "  result[:] = values\n"
     ]
    }
   ],
   "source": [
    "pontos = ox.geometries.geometries_from_place('João Pessoa, PB, Brasil', tags={'amenity':True}, which_result=None, buffer_dist=None)"
   ]
  },
  {
   "cell_type": "code",
   "execution_count": 253,
   "id": "eb5ff40e",
   "metadata": {},
   "outputs": [
    {
     "data": {
      "text/plain": [
       "geopandas.geodataframe.GeoDataFrame"
      ]
     },
     "execution_count": 253,
     "metadata": {},
     "output_type": "execute_result"
    }
   ],
   "source": [
    "type(pontos)"
   ]
  },
  {
   "cell_type": "code",
   "execution_count": 98,
   "id": "6cdf816c",
   "metadata": {},
   "outputs": [],
   "source": [
    "import osmapi;"
   ]
  },
  {
   "cell_type": "code",
   "execution_count": 99,
   "id": "8414be2c",
   "metadata": {},
   "outputs": [],
   "source": [
    "import requests\n",
    "import json"
   ]
  },
  {
   "cell_type": "code",
   "execution_count": 136,
   "id": "47a8e00d",
   "metadata": {},
   "outputs": [],
   "source": [
    "overpass_url = \"http://overpass-api.de/api/interpreter\"\n",
    "overpass_query = \"\"\"\n",
    "[out:json];\n",
    "area[\"city\"=\"João Pessoa\"][admin_level=8];\n",
    "(node[\"amenity\"=\"school\"](area);\n",
    " way[\"amenity\"=\"school\"](area);\n",
    " rel[\"amenity\"=\"school\"](area);\n",
    ");\n",
    "out center;\n",
    "\"\"\"\n",
    "response = requests.get(overpass_url, \n",
    "                        params={'data': overpass_query})\n",
    "data = response.json()"
   ]
  },
  {
   "cell_type": "code",
   "execution_count": 131,
   "id": "f7f1d2e8",
   "metadata": {},
   "outputs": [
    {
     "data": {
      "text/plain": [
       "<Response [200]>"
      ]
     },
     "execution_count": 131,
     "metadata": {},
     "output_type": "execute_result"
    }
   ],
   "source": []
  },
  {
   "cell_type": "code",
   "execution_count": 106,
   "id": "45e849be",
   "metadata": {},
   "outputs": [],
   "source": [
    "import matplotlib as plt;"
   ]
  },
  {
   "cell_type": "code",
   "execution_count": 140,
   "id": "e7371320",
   "metadata": {},
   "outputs": [],
   "source": [
    "import numpy as np\n",
    "import matplotlib.pyplot as plt# Collect coords into list\n",
    "coords = []\n",
    "for element in data['elements']:\n",
    "  if element['type'] == 'node':\n",
    "    lon = element['lon']\n",
    "    lat = element['lat']\n",
    "    coords.append((lon, lat))\n",
    "  elif 'center' in element:\n",
    "    lon = element['center']['lon']\n",
    "    lat = element['center']['lat']\n",
    "    coords.append((lon, lat))# Convert coordinates into numpy array\n",
    "X = np.array(coords)"
   ]
  },
  {
   "cell_type": "code",
   "execution_count": 148,
   "id": "25949bd7",
   "metadata": {},
   "outputs": [
    {
     "ename": "NameError",
     "evalue": "name 'add' is not defined",
     "output_type": "error",
     "traceback": [
      "\u001b[1;31m---------------------------------------------------------------------------\u001b[0m",
      "\u001b[1;31mNameError\u001b[0m                                 Traceback (most recent call last)",
      "\u001b[1;32m~\\AppData\\Local\\Temp/ipykernel_2648/1177205926.py\u001b[0m in \u001b[0;36m<module>\u001b[1;34m\u001b[0m\n\u001b[0;32m      5\u001b[0m \u001b[1;31m#roteando\u001b[0m\u001b[1;33m\u001b[0m\u001b[1;33m\u001b[0m\u001b[1;33m\u001b[0m\u001b[0m\n\u001b[0;32m      6\u001b[0m \u001b[1;33m\u001b[0m\u001b[0m\n\u001b[1;32m----> 7\u001b[1;33m \u001b[0mdgs_edges\u001b[0m \u001b[1;33m=\u001b[0m \u001b[0madd\u001b[0m\u001b[1;33m.\u001b[0m\u001b[0mnode\u001b[0m\u001b[1;33m(\u001b[0m\u001b[0mpontos\u001b[0m\u001b[1;33m)\u001b[0m\u001b[1;33m\u001b[0m\u001b[1;33m\u001b[0m\u001b[0m\n\u001b[0m\u001b[0;32m      8\u001b[0m \u001b[1;33m\u001b[0m\u001b[0m\n\u001b[0;32m      9\u001b[0m \u001b[1;31m#ox.utils_graph.graph_from_gdfs(pontos, gdf_edges, graph_attrs=None)\u001b[0m\u001b[1;33m\u001b[0m\u001b[1;33m\u001b[0m\u001b[1;33m\u001b[0m\u001b[0m\n",
      "\u001b[1;31mNameError\u001b[0m: name 'add' is not defined"
     ]
    }
   ],
   "source": [
    "#teste10 = ox.folium.plot_graph_folium(G, graph_map=None, popup_attribute=None, tiles='cartodbpositron', zoom=1, fit_bounds=True, edge_color=None, edge_width=None, edge_opacity=None);\n",
    "#teste10\n",
    "\n",
    "#roteando = ox.folium.plot_route_folium(teste10, trajeto, graph_map=None, route_map=teste10, popup_attribute=None, tiles='cartodbpositron', zoom=1, fit_bounds=True, route_color=None, route_width=None, route_opacity=None);\n",
    "#roteando\n",
    "\n",
    "dgs_edges = add.node(pontos)\n",
    "\n",
    "#ox.utils_graph.graph_from_gdfs(pontos, gdf_edges, graph_attrs=None)"
   ]
  },
  {
   "cell_type": "code",
   "execution_count": 147,
   "id": "0008201a",
   "metadata": {},
   "outputs": [
    {
     "data": {
      "text/plain": [
       "numpy.ndarray"
      ]
     },
     "execution_count": 147,
     "metadata": {},
     "output_type": "execute_result"
    }
   ],
   "source": [
    "type(X)"
   ]
  },
  {
   "cell_type": "code",
   "execution_count": 155,
   "id": "3dd12580",
   "metadata": {},
   "outputs": [
    {
     "ename": "ValueError",
     "evalue": "gdf_nodes must contain x and y columns",
     "output_type": "error",
     "traceback": [
      "\u001b[1;31m---------------------------------------------------------------------------\u001b[0m",
      "\u001b[1;31mValueError\u001b[0m                                Traceback (most recent call last)",
      "\u001b[1;32m~\\AppData\\Local\\Temp/ipykernel_2648/1083451466.py\u001b[0m in \u001b[0;36m<module>\u001b[1;34m\u001b[0m\n\u001b[0;32m      9\u001b[0m \u001b[1;33m\u001b[0m\u001b[0m\n\u001b[0;32m     10\u001b[0m \u001b[1;31m# Retrieve nodes and edges\u001b[0m\u001b[1;33m\u001b[0m\u001b[1;33m\u001b[0m\u001b[1;33m\u001b[0m\u001b[0m\n\u001b[1;32m---> 11\u001b[1;33m \u001b[0mp\u001b[0m \u001b[1;33m=\u001b[0m \u001b[0mox\u001b[0m\u001b[1;33m.\u001b[0m\u001b[0mutils_graph\u001b[0m\u001b[1;33m.\u001b[0m\u001b[0mgraph_from_gdfs\u001b[0m\u001b[1;33m(\u001b[0m\u001b[0mpontos\u001b[0m\u001b[1;33m,\u001b[0m \u001b[0mG\u001b[0m\u001b[1;33m,\u001b[0m \u001b[0mgraph_attrs\u001b[0m\u001b[1;33m=\u001b[0m\u001b[1;32mNone\u001b[0m\u001b[1;33m)\u001b[0m\u001b[1;33m\u001b[0m\u001b[1;33m\u001b[0m\u001b[0m\n\u001b[0m\u001b[0;32m     12\u001b[0m \u001b[0mp\u001b[0m\u001b[1;33m.\u001b[0m\u001b[0mhead\u001b[0m\u001b[1;33m(\u001b[0m\u001b[1;33m)\u001b[0m\u001b[1;33m\u001b[0m\u001b[1;33m\u001b[0m\u001b[0m\n\u001b[0;32m     13\u001b[0m \u001b[1;33m\u001b[0m\u001b[0m\n",
      "\u001b[1;32m~\\anaconda3\\envs\\ox\\lib\\site-packages\\osmnx\\utils_graph.py\u001b[0m in \u001b[0;36mgraph_from_gdfs\u001b[1;34m(gdf_nodes, gdf_edges, graph_attrs)\u001b[0m\n\u001b[0;32m    140\u001b[0m     \"\"\"\n\u001b[0;32m    141\u001b[0m     \u001b[1;32mif\u001b[0m \u001b[1;32mnot\u001b[0m \u001b[1;33m(\u001b[0m\u001b[1;34m\"x\"\u001b[0m \u001b[1;32min\u001b[0m \u001b[0mgdf_nodes\u001b[0m\u001b[1;33m.\u001b[0m\u001b[0mcolumns\u001b[0m \u001b[1;32mand\u001b[0m \u001b[1;34m\"y\"\u001b[0m \u001b[1;32min\u001b[0m \u001b[0mgdf_nodes\u001b[0m\u001b[1;33m.\u001b[0m\u001b[0mcolumns\u001b[0m\u001b[1;33m)\u001b[0m\u001b[1;33m:\u001b[0m  \u001b[1;31m# pragma: no cover\u001b[0m\u001b[1;33m\u001b[0m\u001b[1;33m\u001b[0m\u001b[0m\n\u001b[1;32m--> 142\u001b[1;33m         \u001b[1;32mraise\u001b[0m \u001b[0mValueError\u001b[0m\u001b[1;33m(\u001b[0m\u001b[1;34m\"gdf_nodes must contain x and y columns\"\u001b[0m\u001b[1;33m)\u001b[0m\u001b[1;33m\u001b[0m\u001b[1;33m\u001b[0m\u001b[0m\n\u001b[0m\u001b[0;32m    143\u001b[0m \u001b[1;33m\u001b[0m\u001b[0m\n\u001b[0;32m    144\u001b[0m     \u001b[1;31m# if gdf_nodes has a geometry attribute set, drop that column (as we use x\u001b[0m\u001b[1;33m\u001b[0m\u001b[1;33m\u001b[0m\u001b[1;33m\u001b[0m\u001b[0m\n",
      "\u001b[1;31mValueError\u001b[0m: gdf_nodes must contain x and y columns"
     ]
    }
   ],
   "source": [
    "import osmnx as ox\n",
    "import matplotlib.pyplot as plt\n",
    "\n",
    "#place = 'Saint-Egreve,France'\n",
    "#graph = ox.graph_from_place(place)\n",
    "\n",
    "# Plot the streets\n",
    "#fig, ax = ox.plot_graph(G)\n",
    "\n",
    "# Retrieve nodes and edges\n",
    "p = ox.utils_graph.graph_from_gdfs(pontos, G, graph_attrs=None)\n",
    "p.head()\n",
    "\n",
    "# Plot the nodes\n",
    "fig, ax = plt.subplots(figsize=(12,8))\n",
    "nodes.plot(ax=ax, facecolor='black')"
   ]
  },
  {
   "cell_type": "code",
   "execution_count": 156,
   "id": "db4d3eb3",
   "metadata": {},
   "outputs": [
    {
     "name": "stderr",
     "output_type": "stream",
     "text": [
      "C:\\Users\\firmi\\anaconda3\\envs\\ox\\lib\\site-packages\\geopandas\\_vectorized.py:142: DeprecationWarning: An exception was ignored while fetching the attribute `__array_interface__` from an object of type 'Polygon'.  With the exception of `AttributeError` NumPy will always raise this exception in the future.  Raise this deprecation warning to see the original exception. (Warning added NumPy 1.21)\n",
      "  aout[:] = out\n",
      "C:\\Users\\firmi\\anaconda3\\envs\\ox\\lib\\site-packages\\geopandas\\_vectorized.py:142: DeprecationWarning: An exception was ignored while fetching the attribute `__array_interface__` from an object of type 'MultiPolygon'.  With the exception of `AttributeError` NumPy will always raise this exception in the future.  Raise this deprecation warning to see the original exception. (Warning added NumPy 1.21)\n",
      "  aout[:] = out\n",
      "C:\\Users\\firmi\\anaconda3\\envs\\ox\\lib\\site-packages\\pandas\\core\\dtypes\\cast.py:1981: DeprecationWarning: An exception was ignored while fetching the attribute `__array_interface__` from an object of type 'Polygon'.  With the exception of `AttributeError` NumPy will always raise this exception in the future.  Raise this deprecation warning to see the original exception. (Warning added NumPy 1.21)\n",
      "  result[:] = values\n",
      "C:\\Users\\firmi\\anaconda3\\envs\\ox\\lib\\site-packages\\pandas\\core\\dtypes\\cast.py:1981: DeprecationWarning: An exception was ignored while fetching the attribute `__array_interface__` from an object of type 'MultiPolygon'.  With the exception of `AttributeError` NumPy will always raise this exception in the future.  Raise this deprecation warning to see the original exception. (Warning added NumPy 1.21)\n",
      "  result[:] = values\n"
     ]
    }
   ],
   "source": [
    "#1) Download;\n",
    "\n",
    "escolas = ox.geometries.geometries_from_place('João Pessoa, PB, Brasil', tags={'amenity':'school'}, which_result=None, buffer_dist=None)"
   ]
  },
  {
   "cell_type": "code",
   "execution_count": 157,
   "id": "d5a010c8",
   "metadata": {},
   "outputs": [
    {
     "data": {
      "text/html": [
       "<div>\n",
       "<style scoped>\n",
       "    .dataframe tbody tr th:only-of-type {\n",
       "        vertical-align: middle;\n",
       "    }\n",
       "\n",
       "    .dataframe tbody tr th {\n",
       "        vertical-align: top;\n",
       "    }\n",
       "\n",
       "    .dataframe thead th {\n",
       "        text-align: right;\n",
       "    }\n",
       "</style>\n",
       "<table border=\"1\" class=\"dataframe\">\n",
       "  <thead>\n",
       "    <tr style=\"text-align: right;\">\n",
       "      <th></th>\n",
       "      <th></th>\n",
       "      <th>amenity</th>\n",
       "      <th>name</th>\n",
       "      <th>geometry</th>\n",
       "      <th>addr:street</th>\n",
       "      <th>alt_name</th>\n",
       "      <th>addr:city</th>\n",
       "      <th>addr:suburb</th>\n",
       "      <th>addr:housenumber</th>\n",
       "      <th>website</th>\n",
       "      <th>addr:postcode</th>\n",
       "      <th>...</th>\n",
       "      <th>building</th>\n",
       "      <th>wheelchair</th>\n",
       "      <th>source</th>\n",
       "      <th>phone</th>\n",
       "      <th>landuse</th>\n",
       "      <th>operator:type</th>\n",
       "      <th>layer</th>\n",
       "      <th>long_name</th>\n",
       "      <th>ways</th>\n",
       "      <th>type</th>\n",
       "    </tr>\n",
       "    <tr>\n",
       "      <th>element_type</th>\n",
       "      <th>osmid</th>\n",
       "      <th></th>\n",
       "      <th></th>\n",
       "      <th></th>\n",
       "      <th></th>\n",
       "      <th></th>\n",
       "      <th></th>\n",
       "      <th></th>\n",
       "      <th></th>\n",
       "      <th></th>\n",
       "      <th></th>\n",
       "      <th></th>\n",
       "      <th></th>\n",
       "      <th></th>\n",
       "      <th></th>\n",
       "      <th></th>\n",
       "      <th></th>\n",
       "      <th></th>\n",
       "      <th></th>\n",
       "      <th></th>\n",
       "      <th></th>\n",
       "      <th></th>\n",
       "    </tr>\n",
       "  </thead>\n",
       "  <tbody>\n",
       "    <tr>\n",
       "      <th rowspan=\"5\" valign=\"top\">node</th>\n",
       "      <th>1026885492</th>\n",
       "      <td>school</td>\n",
       "      <td>Escola Mar e Sol</td>\n",
       "      <td>POINT (-34.84491 -7.09468)</td>\n",
       "      <td>NaN</td>\n",
       "      <td>NaN</td>\n",
       "      <td>NaN</td>\n",
       "      <td>NaN</td>\n",
       "      <td>NaN</td>\n",
       "      <td>NaN</td>\n",
       "      <td>NaN</td>\n",
       "      <td>...</td>\n",
       "      <td>NaN</td>\n",
       "      <td>NaN</td>\n",
       "      <td>NaN</td>\n",
       "      <td>NaN</td>\n",
       "      <td>NaN</td>\n",
       "      <td>NaN</td>\n",
       "      <td>NaN</td>\n",
       "      <td>NaN</td>\n",
       "      <td>NaN</td>\n",
       "      <td>NaN</td>\n",
       "    </tr>\n",
       "    <tr>\n",
       "      <th>1993173430</th>\n",
       "      <td>school</td>\n",
       "      <td>Escola Estadual de Ensino Fundamental João Rob...</td>\n",
       "      <td>POINT (-34.83958 -7.17826)</td>\n",
       "      <td>Rua Ozório Milanez Filho</td>\n",
       "      <td>João Roberto Borges de Souza</td>\n",
       "      <td>NaN</td>\n",
       "      <td>NaN</td>\n",
       "      <td>NaN</td>\n",
       "      <td>NaN</td>\n",
       "      <td>NaN</td>\n",
       "      <td>...</td>\n",
       "      <td>NaN</td>\n",
       "      <td>NaN</td>\n",
       "      <td>NaN</td>\n",
       "      <td>NaN</td>\n",
       "      <td>NaN</td>\n",
       "      <td>NaN</td>\n",
       "      <td>NaN</td>\n",
       "      <td>NaN</td>\n",
       "      <td>NaN</td>\n",
       "      <td>NaN</td>\n",
       "    </tr>\n",
       "    <tr>\n",
       "      <th>2678753524</th>\n",
       "      <td>school</td>\n",
       "      <td>Instituto João XXIII</td>\n",
       "      <td>POINT (-34.87870 -7.11442)</td>\n",
       "      <td>Rua Professor Batista Leite</td>\n",
       "      <td>NaN</td>\n",
       "      <td>João Pessoa</td>\n",
       "      <td>NaN</td>\n",
       "      <td>NaN</td>\n",
       "      <td>NaN</td>\n",
       "      <td>NaN</td>\n",
       "      <td>...</td>\n",
       "      <td>NaN</td>\n",
       "      <td>NaN</td>\n",
       "      <td>NaN</td>\n",
       "      <td>NaN</td>\n",
       "      <td>NaN</td>\n",
       "      <td>NaN</td>\n",
       "      <td>NaN</td>\n",
       "      <td>NaN</td>\n",
       "      <td>NaN</td>\n",
       "      <td>NaN</td>\n",
       "    </tr>\n",
       "    <tr>\n",
       "      <th>3773687572</th>\n",
       "      <td>school</td>\n",
       "      <td>Escola Municipal Fenelon Câmara</td>\n",
       "      <td>POINT (-34.86760 -7.17773)</td>\n",
       "      <td>Rua Adauto Toledo</td>\n",
       "      <td>NaN</td>\n",
       "      <td>João Pessoa</td>\n",
       "      <td>Ernesto Geisel</td>\n",
       "      <td>NaN</td>\n",
       "      <td>NaN</td>\n",
       "      <td>NaN</td>\n",
       "      <td>...</td>\n",
       "      <td>NaN</td>\n",
       "      <td>NaN</td>\n",
       "      <td>NaN</td>\n",
       "      <td>NaN</td>\n",
       "      <td>NaN</td>\n",
       "      <td>NaN</td>\n",
       "      <td>NaN</td>\n",
       "      <td>NaN</td>\n",
       "      <td>NaN</td>\n",
       "      <td>NaN</td>\n",
       "    </tr>\n",
       "    <tr>\n",
       "      <th>4398402599</th>\n",
       "      <td>school</td>\n",
       "      <td>Yazigi</td>\n",
       "      <td>POINT (-34.83860 -7.15239)</td>\n",
       "      <td>NaN</td>\n",
       "      <td>NaN</td>\n",
       "      <td>NaN</td>\n",
       "      <td>NaN</td>\n",
       "      <td>NaN</td>\n",
       "      <td>NaN</td>\n",
       "      <td>NaN</td>\n",
       "      <td>...</td>\n",
       "      <td>NaN</td>\n",
       "      <td>NaN</td>\n",
       "      <td>NaN</td>\n",
       "      <td>NaN</td>\n",
       "      <td>NaN</td>\n",
       "      <td>NaN</td>\n",
       "      <td>NaN</td>\n",
       "      <td>NaN</td>\n",
       "      <td>NaN</td>\n",
       "      <td>NaN</td>\n",
       "    </tr>\n",
       "    <tr>\n",
       "      <th>...</th>\n",
       "      <th>...</th>\n",
       "      <td>...</td>\n",
       "      <td>...</td>\n",
       "      <td>...</td>\n",
       "      <td>...</td>\n",
       "      <td>...</td>\n",
       "      <td>...</td>\n",
       "      <td>...</td>\n",
       "      <td>...</td>\n",
       "      <td>...</td>\n",
       "      <td>...</td>\n",
       "      <td>...</td>\n",
       "      <td>...</td>\n",
       "      <td>...</td>\n",
       "      <td>...</td>\n",
       "      <td>...</td>\n",
       "      <td>...</td>\n",
       "      <td>...</td>\n",
       "      <td>...</td>\n",
       "      <td>...</td>\n",
       "      <td>...</td>\n",
       "      <td>...</td>\n",
       "    </tr>\n",
       "    <tr>\n",
       "      <th rowspan=\"3\" valign=\"top\">way</th>\n",
       "      <th>909579380</th>\n",
       "      <td>school</td>\n",
       "      <td>Colégio Motiva Oriental</td>\n",
       "      <td>POLYGON ((-34.82309 -7.13926, -34.82059 -7.138...</td>\n",
       "      <td>Avenida João Cyrilo da Silva</td>\n",
       "      <td>NaN</td>\n",
       "      <td>João Pessoa</td>\n",
       "      <td>Altiplano Cabo Branco</td>\n",
       "      <td>1600</td>\n",
       "      <td>https://colegiomotiva.com.br</td>\n",
       "      <td>58046-005</td>\n",
       "      <td>...</td>\n",
       "      <td>NaN</td>\n",
       "      <td>NaN</td>\n",
       "      <td>NaN</td>\n",
       "      <td>NaN</td>\n",
       "      <td>NaN</td>\n",
       "      <td>NaN</td>\n",
       "      <td>NaN</td>\n",
       "      <td>NaN</td>\n",
       "      <td>NaN</td>\n",
       "      <td>NaN</td>\n",
       "    </tr>\n",
       "    <tr>\n",
       "      <th>945759229</th>\n",
       "      <td>school</td>\n",
       "      <td>ECIT Prof. Raul Córdula</td>\n",
       "      <td>POLYGON ((-34.85866 -7.13030, -34.85812 -7.131...</td>\n",
       "      <td>NaN</td>\n",
       "      <td>NaN</td>\n",
       "      <td>NaN</td>\n",
       "      <td>NaN</td>\n",
       "      <td>NaN</td>\n",
       "      <td>NaN</td>\n",
       "      <td>NaN</td>\n",
       "      <td>...</td>\n",
       "      <td>NaN</td>\n",
       "      <td>NaN</td>\n",
       "      <td>NaN</td>\n",
       "      <td>NaN</td>\n",
       "      <td>NaN</td>\n",
       "      <td>NaN</td>\n",
       "      <td>NaN</td>\n",
       "      <td>NaN</td>\n",
       "      <td>NaN</td>\n",
       "      <td>NaN</td>\n",
       "    </tr>\n",
       "    <tr>\n",
       "      <th>945761697</th>\n",
       "      <td>school</td>\n",
       "      <td>ECIT Mestre Sivuca</td>\n",
       "      <td>POLYGON ((-34.82316 -7.17642, -34.82320 -7.177...</td>\n",
       "      <td>NaN</td>\n",
       "      <td>NaN</td>\n",
       "      <td>NaN</td>\n",
       "      <td>NaN</td>\n",
       "      <td>NaN</td>\n",
       "      <td>NaN</td>\n",
       "      <td>NaN</td>\n",
       "      <td>...</td>\n",
       "      <td>NaN</td>\n",
       "      <td>NaN</td>\n",
       "      <td>NaN</td>\n",
       "      <td>NaN</td>\n",
       "      <td>NaN</td>\n",
       "      <td>NaN</td>\n",
       "      <td>NaN</td>\n",
       "      <td>NaN</td>\n",
       "      <td>NaN</td>\n",
       "      <td>NaN</td>\n",
       "    </tr>\n",
       "    <tr>\n",
       "      <th rowspan=\"2\" valign=\"top\">relation</th>\n",
       "      <th>3629655</th>\n",
       "      <td>school</td>\n",
       "      <td>Escola Estadual Profª. Argentina Pereira Gomes</td>\n",
       "      <td>MULTIPOLYGON (((-34.87636 -7.12149, -34.87630 ...</td>\n",
       "      <td>NaN</td>\n",
       "      <td>NaN</td>\n",
       "      <td>NaN</td>\n",
       "      <td>NaN</td>\n",
       "      <td>NaN</td>\n",
       "      <td>NaN</td>\n",
       "      <td>NaN</td>\n",
       "      <td>...</td>\n",
       "      <td>school</td>\n",
       "      <td>NaN</td>\n",
       "      <td>NaN</td>\n",
       "      <td>NaN</td>\n",
       "      <td>NaN</td>\n",
       "      <td>NaN</td>\n",
       "      <td>NaN</td>\n",
       "      <td>NaN</td>\n",
       "      <td>[271932670, 271932678, 271932675]</td>\n",
       "      <td>multipolygon</td>\n",
       "    </tr>\n",
       "    <tr>\n",
       "      <th>10396889</th>\n",
       "      <td>school</td>\n",
       "      <td>NaN</td>\n",
       "      <td>POLYGON ((-34.89289 -7.15038, -34.89298 -7.150...</td>\n",
       "      <td>NaN</td>\n",
       "      <td>NaN</td>\n",
       "      <td>NaN</td>\n",
       "      <td>NaN</td>\n",
       "      <td>NaN</td>\n",
       "      <td>NaN</td>\n",
       "      <td>NaN</td>\n",
       "      <td>...</td>\n",
       "      <td>yes</td>\n",
       "      <td>NaN</td>\n",
       "      <td>NaN</td>\n",
       "      <td>NaN</td>\n",
       "      <td>NaN</td>\n",
       "      <td>NaN</td>\n",
       "      <td>NaN</td>\n",
       "      <td>NaN</td>\n",
       "      <td>[754403749, 754403748]</td>\n",
       "      <td>multipolygon</td>\n",
       "    </tr>\n",
       "  </tbody>\n",
       "</table>\n",
       "<p>115 rows × 26 columns</p>\n",
       "</div>"
      ],
      "text/plain": [
       "                        amenity  \\\n",
       "element_type osmid                \n",
       "node         1026885492  school   \n",
       "             1993173430  school   \n",
       "             2678753524  school   \n",
       "             3773687572  school   \n",
       "             4398402599  school   \n",
       "...                         ...   \n",
       "way          909579380   school   \n",
       "             945759229   school   \n",
       "             945761697   school   \n",
       "relation     3629655     school   \n",
       "             10396889    school   \n",
       "\n",
       "                                                                      name  \\\n",
       "element_type osmid                                                           \n",
       "node         1026885492                                   Escola Mar e Sol   \n",
       "             1993173430  Escola Estadual de Ensino Fundamental João Rob...   \n",
       "             2678753524                               Instituto João XXIII   \n",
       "             3773687572                    Escola Municipal Fenelon Câmara   \n",
       "             4398402599                                             Yazigi   \n",
       "...                                                                    ...   \n",
       "way          909579380                             Colégio Motiva Oriental   \n",
       "             945759229                             ECIT Prof. Raul Córdula   \n",
       "             945761697                                  ECIT Mestre Sivuca   \n",
       "relation     3629655        Escola Estadual Profª. Argentina Pereira Gomes   \n",
       "             10396889                                                  NaN   \n",
       "\n",
       "                                                                  geometry  \\\n",
       "element_type osmid                                                           \n",
       "node         1026885492                         POINT (-34.84491 -7.09468)   \n",
       "             1993173430                         POINT (-34.83958 -7.17826)   \n",
       "             2678753524                         POINT (-34.87870 -7.11442)   \n",
       "             3773687572                         POINT (-34.86760 -7.17773)   \n",
       "             4398402599                         POINT (-34.83860 -7.15239)   \n",
       "...                                                                    ...   \n",
       "way          909579380   POLYGON ((-34.82309 -7.13926, -34.82059 -7.138...   \n",
       "             945759229   POLYGON ((-34.85866 -7.13030, -34.85812 -7.131...   \n",
       "             945761697   POLYGON ((-34.82316 -7.17642, -34.82320 -7.177...   \n",
       "relation     3629655     MULTIPOLYGON (((-34.87636 -7.12149, -34.87630 ...   \n",
       "             10396889    POLYGON ((-34.89289 -7.15038, -34.89298 -7.150...   \n",
       "\n",
       "                                          addr:street  \\\n",
       "element_type osmid                                      \n",
       "node         1026885492                           NaN   \n",
       "             1993173430      Rua Ozório Milanez Filho   \n",
       "             2678753524   Rua Professor Batista Leite   \n",
       "             3773687572             Rua Adauto Toledo   \n",
       "             4398402599                           NaN   \n",
       "...                                               ...   \n",
       "way          909579380   Avenida João Cyrilo da Silva   \n",
       "             945759229                            NaN   \n",
       "             945761697                            NaN   \n",
       "relation     3629655                              NaN   \n",
       "             10396889                             NaN   \n",
       "\n",
       "                                             alt_name    addr:city  \\\n",
       "element_type osmid                                                   \n",
       "node         1026885492                           NaN          NaN   \n",
       "             1993173430  João Roberto Borges de Souza          NaN   \n",
       "             2678753524                           NaN  João Pessoa   \n",
       "             3773687572                           NaN  João Pessoa   \n",
       "             4398402599                           NaN          NaN   \n",
       "...                                               ...          ...   \n",
       "way          909579380                            NaN  João Pessoa   \n",
       "             945759229                            NaN          NaN   \n",
       "             945761697                            NaN          NaN   \n",
       "relation     3629655                              NaN          NaN   \n",
       "             10396889                             NaN          NaN   \n",
       "\n",
       "                                   addr:suburb addr:housenumber  \\\n",
       "element_type osmid                                                \n",
       "node         1026885492                    NaN              NaN   \n",
       "             1993173430                    NaN              NaN   \n",
       "             2678753524                    NaN              NaN   \n",
       "             3773687572         Ernesto Geisel              NaN   \n",
       "             4398402599                    NaN              NaN   \n",
       "...                                        ...              ...   \n",
       "way          909579380   Altiplano Cabo Branco             1600   \n",
       "             945759229                     NaN              NaN   \n",
       "             945761697                     NaN              NaN   \n",
       "relation     3629655                       NaN              NaN   \n",
       "             10396889                      NaN              NaN   \n",
       "\n",
       "                                              website addr:postcode  ...  \\\n",
       "element_type osmid                                                   ...   \n",
       "node         1026885492                           NaN           NaN  ...   \n",
       "             1993173430                           NaN           NaN  ...   \n",
       "             2678753524                           NaN           NaN  ...   \n",
       "             3773687572                           NaN           NaN  ...   \n",
       "             4398402599                           NaN           NaN  ...   \n",
       "...                                               ...           ...  ...   \n",
       "way          909579380   https://colegiomotiva.com.br     58046-005  ...   \n",
       "             945759229                            NaN           NaN  ...   \n",
       "             945761697                            NaN           NaN  ...   \n",
       "relation     3629655                              NaN           NaN  ...   \n",
       "             10396889                             NaN           NaN  ...   \n",
       "\n",
       "                        building wheelchair source phone landuse  \\\n",
       "element_type osmid                                                 \n",
       "node         1026885492      NaN        NaN    NaN   NaN     NaN   \n",
       "             1993173430      NaN        NaN    NaN   NaN     NaN   \n",
       "             2678753524      NaN        NaN    NaN   NaN     NaN   \n",
       "             3773687572      NaN        NaN    NaN   NaN     NaN   \n",
       "             4398402599      NaN        NaN    NaN   NaN     NaN   \n",
       "...                          ...        ...    ...   ...     ...   \n",
       "way          909579380       NaN        NaN    NaN   NaN     NaN   \n",
       "             945759229       NaN        NaN    NaN   NaN     NaN   \n",
       "             945761697       NaN        NaN    NaN   NaN     NaN   \n",
       "relation     3629655      school        NaN    NaN   NaN     NaN   \n",
       "             10396889        yes        NaN    NaN   NaN     NaN   \n",
       "\n",
       "                        operator:type layer long_name  \\\n",
       "element_type osmid                                      \n",
       "node         1026885492           NaN   NaN       NaN   \n",
       "             1993173430           NaN   NaN       NaN   \n",
       "             2678753524           NaN   NaN       NaN   \n",
       "             3773687572           NaN   NaN       NaN   \n",
       "             4398402599           NaN   NaN       NaN   \n",
       "...                               ...   ...       ...   \n",
       "way          909579380            NaN   NaN       NaN   \n",
       "             945759229            NaN   NaN       NaN   \n",
       "             945761697            NaN   NaN       NaN   \n",
       "relation     3629655              NaN   NaN       NaN   \n",
       "             10396889             NaN   NaN       NaN   \n",
       "\n",
       "                                                      ways          type  \n",
       "element_type osmid                                                        \n",
       "node         1026885492                                NaN           NaN  \n",
       "             1993173430                                NaN           NaN  \n",
       "             2678753524                                NaN           NaN  \n",
       "             3773687572                                NaN           NaN  \n",
       "             4398402599                                NaN           NaN  \n",
       "...                                                    ...           ...  \n",
       "way          909579380                                 NaN           NaN  \n",
       "             945759229                                 NaN           NaN  \n",
       "             945761697                                 NaN           NaN  \n",
       "relation     3629655     [271932670, 271932678, 271932675]  multipolygon  \n",
       "             10396889               [754403749, 754403748]  multipolygon  \n",
       "\n",
       "[115 rows x 26 columns]"
      ]
     },
     "execution_count": 157,
     "metadata": {},
     "output_type": "execute_result"
    }
   ],
   "source": [
    "escolas"
   ]
  },
  {
   "cell_type": "code",
   "execution_count": 172,
   "id": "216c4f63",
   "metadata": {},
   "outputs": [],
   "source": []
  },
  {
   "cell_type": "code",
   "execution_count": 177,
   "id": "4d3c55d3",
   "metadata": {},
   "outputs": [
    {
     "name": "stdout",
     "output_type": "stream",
     "text": [
      "element_type  osmid     \n",
      "node          1026885492    True\n",
      "              1993173430    True\n",
      "              2678753524    True\n",
      "              3773687572    True\n",
      "              4398402599    True\n",
      "                            ... \n",
      "way           909579380     True\n",
      "              945759229     True\n",
      "              945761697     True\n",
      "relation      3629655       True\n",
      "              10396889      True\n",
      "Length: 115, dtype: bool\n"
     ]
    }
   ],
   "source": []
  },
  {
   "cell_type": "code",
   "execution_count": 205,
   "id": "018994f0",
   "metadata": {},
   "outputs": [
    {
     "data": {
      "image/png": "[encoded data removed]",
      "text/plain": [
       "<Figure size 1440x720 with 1 Axes>"
      ]
     },
     "metadata": {
      "needs_background": "light"
     },
     "output_type": "display_data"
    }
   ],
   "source": [
    "#2) Plotar:\n",
    "\n",
    "escolas.plot(figsize=(20,10));"
   ]
  },
  {
   "cell_type": "code",
   "execution_count": 194,
   "id": "8ef38f42",
   "metadata": {},
   "outputs": [],
   "source": [
    "import networkx as nx;\n",
    "\n",
    "traj = nx.subgraph(G, trajeto)"
   ]
  },
  {
   "cell_type": "code",
   "execution_count": 195,
   "id": "96d5de49",
   "metadata": {},
   "outputs": [
    {
     "data": {
      "text/plain": [
       "<networkx.classes.multidigraph.MultiDiGraph at 0x1d8c6be9088>"
      ]
     },
     "execution_count": 195,
     "metadata": {},
     "output_type": "execute_result"
    }
   ],
   "source": [
    "traj"
   ]
  },
  {
   "cell_type": "code",
   "execution_count": 206,
   "id": "1c8ae6b9",
   "metadata": {},
   "outputs": [
    {
     "data": {
      "text/plain": [
       "tuple"
      ]
     },
     "execution_count": 206,
     "metadata": {},
     "output_type": "execute_result"
    }
   ],
   "source": [
    "tr = ox.utils_graph.graph_to_gdfs(traj, nodes=True, edges=True, node_geometry=True, fill_edge_geometry=True);\n",
    "type(tr)"
   ]
  },
  {
   "cell_type": "code",
   "execution_count": 211,
   "id": "d5fa3996",
   "metadata": {},
   "outputs": [
    {
     "data": {
      "text/plain": [
       "geopandas.geodataframe.GeoDataFrame"
      ]
     },
     "execution_count": 211,
     "metadata": {},
     "output_type": "execute_result"
    }
   ],
   "source": [
    "import geopandas as gpd\n",
    "from shapely.geometry import LineString\n",
    "\n",
    "geo_df = gpd.GeoDataFrame(tr)\n",
    "\n",
    "type(geo_df)"
   ]
  },
  {
   "cell_type": "code",
   "execution_count": 215,
   "id": "bbf96d7f",
   "metadata": {},
   "outputs": [
    {
     "data": {
      "text/plain": [
       "tuple"
      ]
     },
     "execution_count": 215,
     "metadata": {},
     "output_type": "execute_result"
    }
   ],
   "source": [
    "type(tr)"
   ]
  },
  {
   "cell_type": "code",
   "execution_count": 216,
   "id": "6761aa6e",
   "metadata": {},
   "outputs": [],
   "source": [
    "gdfs = ox.utils_graph.graph_to_gdfs(traj, nodes=True, edges=True, node_geometry=True, fill_edge_geometry=True)\n",
    "type(gdfs);"
   ]
  },
  {
   "cell_type": "code",
   "execution_count": 221,
   "id": "a25f92f8",
   "metadata": {},
   "outputs": [
    {
     "data": {
      "text/plain": [
       "(                  y          x  street_count highway  \\\n",
       " osmid                                                  \n",
       " 598927360 -7.117607 -34.855268             4     NaN   \n",
       " 598927367 -7.115576 -34.855268             4     NaN   \n",
       " 618516872 -7.108838 -34.860866             3     NaN   \n",
       " 458409479 -7.123486 -34.838585             4     NaN   \n",
       " 458409484 -7.123483 -34.837931             4     NaN   \n",
       " ...             ...        ...           ...     ...   \n",
       " 914627445 -7.100497 -34.867599             3     NaN   \n",
       " 914627704 -7.101775 -34.864759             4     NaN   \n",
       " 914627578 -7.099920 -34.866115             4     NaN   \n",
       " 602379518 -7.119730 -34.850798             3     NaN   \n",
       " 914627455 -7.100316 -34.867141             3     NaN   \n",
       " \n",
       "                              geometry  \n",
       " osmid                                  \n",
       " 598927360  POINT (-34.85527 -7.11761)  \n",
       " 598927367  POINT (-34.85527 -7.11558)  \n",
       " 618516872  POINT (-34.86087 -7.10884)  \n",
       " 458409479  POINT (-34.83859 -7.12349)  \n",
       " 458409484  POINT (-34.83793 -7.12348)  \n",
       " ...                               ...  \n",
       " 914627445  POINT (-34.86760 -7.10050)  \n",
       " 914627704  POINT (-34.86476 -7.10177)  \n",
       " 914627578  POINT (-34.86612 -7.09992)  \n",
       " 602379518  POINT (-34.85080 -7.11973)  \n",
       " 914627455  POINT (-34.86714 -7.10032)  \n",
       " \n",
       " [67 rows x 5 columns],\n",
       "                               osmid  oneway  \\\n",
       " u         v          key                      \n",
       " 598927360 508062190  0    247142637    True   \n",
       " 598927367 598927359  0    247142637    True   \n",
       " 618516872 618516912  0    666803746   False   \n",
       "           618516882  0    666803746   False   \n",
       " 458409479 458409484  0    200756362   False   \n",
       " ...                             ...     ...   \n",
       " 914627578 2765960112 0     52907675   False   \n",
       "           914627889  0    247135615   False   \n",
       " 602379518 3089043388 0    260383071    True   \n",
       " 914627455 670602683  0     52907675   False   \n",
       "           914627445  0     52907675   False   \n",
       " \n",
       "                                                         name      highway  \\\n",
       " u         v          key                                                    \n",
       " 598927360 508062190  0                      Avenida Maranhão     tertiary   \n",
       " 598927367 598927359  0                      Avenida Maranhão     tertiary   \n",
       " 618516872 618516912  0               Rua General Rego Barros  residential   \n",
       "           618516882  0               Rua General Rego Barros  residential   \n",
       " 458409479 458409484  0             Rua Doutor Hermance Paiva  residential   \n",
       " ...                                                      ...          ...   \n",
       " 914627578 2765960112 0           Rua General Antero de Brito  residential   \n",
       "           914627889  0           Rua General Antero de Brito  residential   \n",
       " 602379518 3089043388 0    Avenida Presidente Epitácio Pessoa      primary   \n",
       " 914627455 670602683  0           Rua General Antero de Brito  residential   \n",
       "           914627445  0           Rua General Antero de Brito  residential   \n",
       " \n",
       "                            length  \\\n",
       " u         v          key            \n",
       " 598927360 508062190  0    113.207   \n",
       " 598927367 598927359  0    111.529   \n",
       " 618516872 618516912  0     63.866   \n",
       "           618516882  0     64.025   \n",
       " 458409479 458409484  0     72.249   \n",
       " ...                           ...   \n",
       " 914627578 2765960112 0     39.221   \n",
       "           914627889  0     65.470   \n",
       " 602379518 3089043388 0    144.271   \n",
       " 914627455 670602683  0     29.077   \n",
       "           914627445  0     54.383   \n",
       " \n",
       "                                                                    geometry  \\\n",
       " u         v          key                                                      \n",
       " 598927360 508062190  0    LINESTRING (-34.85527 -7.11761, -34.85525 -7.1...   \n",
       " 598927367 598927359  0    LINESTRING (-34.85527 -7.11558, -34.85527 -7.1...   \n",
       " 618516872 618516912  0    LINESTRING (-34.86087 -7.10884, -34.86034 -7.1...   \n",
       "           618516882  0    LINESTRING (-34.86087 -7.10884, -34.86122 -7.1...   \n",
       " 458409479 458409484  0    LINESTRING (-34.83859 -7.12349, -34.83793 -7.1...   \n",
       " ...                                                                     ...   \n",
       " 914627578 2765960112 0    LINESTRING (-34.86612 -7.09992, -34.86645 -7.1...   \n",
       "           914627889  0    LINESTRING (-34.86612 -7.09992, -34.86557 -7.0...   \n",
       " 602379518 3089043388 0    LINESTRING (-34.85080 -7.11973, -34.85068 -7.1...   \n",
       " 914627455 670602683  0    LINESTRING (-34.86714 -7.10032, -34.86690 -7.1...   \n",
       "           914627445  0    LINESTRING (-34.86714 -7.10032, -34.86760 -7.1...   \n",
       " \n",
       "                          lanes maxspeed bridge  \n",
       " u         v          key                        \n",
       " 598927360 508062190  0     NaN      NaN    NaN  \n",
       " 598927367 598927359  0     NaN      NaN    NaN  \n",
       " 618516872 618516912  0     NaN      NaN    NaN  \n",
       "           618516882  0     NaN      NaN    NaN  \n",
       " 458409479 458409484  0     NaN      NaN    NaN  \n",
       " ...                        ...      ...    ...  \n",
       " 914627578 2765960112 0     NaN      NaN    NaN  \n",
       "           914627889  0     NaN      NaN    NaN  \n",
       " 602379518 3089043388 0       3       50    NaN  \n",
       " 914627455 670602683  0     NaN      NaN    NaN  \n",
       "           914627445  0     NaN      NaN    NaN  \n",
       " \n",
       " [98 rows x 9 columns])"
      ]
     },
     "execution_count": 221,
     "metadata": {},
     "output_type": "execute_result"
    }
   ],
   "source": [
    "gdfs"
   ]
  },
  {
   "cell_type": "code",
   "execution_count": 234,
   "id": "bb07ccf8",
   "metadata": {},
   "outputs": [
    {
     "name": "stderr",
     "output_type": "stream",
     "text": [
      "C:\\Users\\firmi\\anaconda3\\envs\\ox\\lib\\site-packages\\osmnx\\io.py:108: UserWarning: Column names longer than 10 characters will be truncated when saved to ESRI Shapefile.\n",
      "  gdf_nodes.to_file(filepath_nodes, driver=\"ESRI Shapefile\", index=True, encoding=encoding)\n"
     ]
    }
   ],
   "source": [
    "#visualizar os nós:\n",
    "\n",
    "import networkx as nx;\n",
    "\n",
    "traj = nx.subgraph(G, trajeto)\n",
    "\n",
    "p = r'C:\\Users\\firmi\\OneDrive\\Documentos'\n",
    "ox.io.save_graph_shapefile(traj, p, encoding='utf-8', directed=False)"
   ]
  },
  {
   "cell_type": "code",
   "execution_count": 237,
   "id": "1bf70f52",
   "metadata": {},
   "outputs": [],
   "source": [
    "Gi = nx.Graph(traj);"
   ]
  },
  {
   "cell_type": "code",
   "execution_count": 238,
   "id": "7abbd0bf",
   "metadata": {},
   "outputs": [
    {
     "data": {
      "text/plain": [
       "<networkx.classes.graph.Graph at 0x1d8c6ad6e88>"
      ]
     },
     "execution_count": 238,
     "metadata": {},
     "output_type": "execute_result"
    }
   ],
   "source": [
    "Gi"
   ]
  },
  {
   "cell_type": "code",
   "execution_count": 249,
   "id": "c2bbb499",
   "metadata": {},
   "outputs": [],
   "source": [
    "#visualizar o caminho:\n",
    "\n",
    "import networkx as nx\n",
    "\n",
    "T = nx.Graph(traj)"
   ]
  },
  {
   "cell_type": "code",
   "execution_count": 250,
   "id": "9573fb85",
   "metadata": {},
   "outputs": [
    {
     "data": {
      "text/plain": [
       "<networkx.classes.graph.Graph at 0x1d8c6ade808>"
      ]
     },
     "execution_count": 250,
     "metadata": {},
     "output_type": "execute_result"
    }
   ],
   "source": [
    "T"
   ]
  },
  {
   "cell_type": "code",
   "execution_count": 252,
   "id": "dc58ccbd",
   "metadata": {},
   "outputs": [
    {
     "ename": "TypeError",
     "evalue": "__call__() got an unexpected keyword argument 'keys'",
     "output_type": "error",
     "traceback": [
      "\u001b[1;31m---------------------------------------------------------------------------\u001b[0m",
      "\u001b[1;31mTypeError\u001b[0m                                 Traceback (most recent call last)",
      "\u001b[1;32m~\\AppData\\Local\\Temp/ipykernel_2648/3194942924.py\u001b[0m in \u001b[0;36m<module>\u001b[1;34m\u001b[0m\n\u001b[0;32m      1\u001b[0m \u001b[1;31m#p = r'C:\\Users\\firmi\\OneDrive\\Documentos\\grafos.shp'\u001b[0m\u001b[1;33m\u001b[0m\u001b[1;33m\u001b[0m\u001b[1;33m\u001b[0m\u001b[0m\n\u001b[1;32m----> 2\u001b[1;33m \u001b[0mox\u001b[0m\u001b[1;33m.\u001b[0m\u001b[0mio\u001b[0m\u001b[1;33m.\u001b[0m\u001b[0msave_graph_shapefile\u001b[0m\u001b[1;33m(\u001b[0m\u001b[0mT\u001b[0m\u001b[1;33m,\u001b[0m \u001b[1;34mr'C:\\Users\\firmi\\OneDrive\\Documentos\\grafos.shp'\u001b[0m\u001b[1;33m,\u001b[0m \u001b[0mencoding\u001b[0m\u001b[1;33m=\u001b[0m\u001b[1;34m'utf-8'\u001b[0m\u001b[1;33m,\u001b[0m \u001b[0mdirected\u001b[0m\u001b[1;33m=\u001b[0m\u001b[1;32mFalse\u001b[0m\u001b[1;33m)\u001b[0m\u001b[1;33m\u001b[0m\u001b[1;33m\u001b[0m\u001b[0m\n\u001b[0m",
      "\u001b[1;32m~\\anaconda3\\envs\\ox\\lib\\site-packages\\osmnx\\io.py\u001b[0m in \u001b[0;36msave_graph_shapefile\u001b[1;34m(G, filepath, encoding, directed)\u001b[0m\n\u001b[0;32m    101\u001b[0m         \u001b[0mgdf_nodes\u001b[0m\u001b[1;33m,\u001b[0m \u001b[0mgdf_edges\u001b[0m \u001b[1;33m=\u001b[0m \u001b[0mutils_graph\u001b[0m\u001b[1;33m.\u001b[0m\u001b[0mgraph_to_gdfs\u001b[0m\u001b[1;33m(\u001b[0m\u001b[0mG\u001b[0m\u001b[1;33m)\u001b[0m\u001b[1;33m\u001b[0m\u001b[1;33m\u001b[0m\u001b[0m\n\u001b[0;32m    102\u001b[0m     \u001b[1;32melse\u001b[0m\u001b[1;33m:\u001b[0m\u001b[1;33m\u001b[0m\u001b[1;33m\u001b[0m\u001b[0m\n\u001b[1;32m--> 103\u001b[1;33m         \u001b[0mgdf_nodes\u001b[0m\u001b[1;33m,\u001b[0m \u001b[0mgdf_edges\u001b[0m \u001b[1;33m=\u001b[0m \u001b[0mutils_graph\u001b[0m\u001b[1;33m.\u001b[0m\u001b[0mgraph_to_gdfs\u001b[0m\u001b[1;33m(\u001b[0m\u001b[0mutils_graph\u001b[0m\u001b[1;33m.\u001b[0m\u001b[0mget_undirected\u001b[0m\u001b[1;33m(\u001b[0m\u001b[0mG\u001b[0m\u001b[1;33m)\u001b[0m\u001b[1;33m)\u001b[0m\u001b[1;33m\u001b[0m\u001b[1;33m\u001b[0m\u001b[0m\n\u001b[0m\u001b[0;32m    104\u001b[0m     \u001b[0mgdf_nodes\u001b[0m \u001b[1;33m=\u001b[0m \u001b[0m_stringify_nonnumeric_cols\u001b[0m\u001b[1;33m(\u001b[0m\u001b[0mgdf_nodes\u001b[0m\u001b[1;33m)\u001b[0m\u001b[1;33m\u001b[0m\u001b[1;33m\u001b[0m\u001b[0m\n\u001b[0;32m    105\u001b[0m     \u001b[0mgdf_edges\u001b[0m \u001b[1;33m=\u001b[0m \u001b[0m_stringify_nonnumeric_cols\u001b[0m\u001b[1;33m(\u001b[0m\u001b[0mgdf_edges\u001b[0m\u001b[1;33m)\u001b[0m\u001b[1;33m\u001b[0m\u001b[1;33m\u001b[0m\u001b[0m\n",
      "\u001b[1;32m~\\anaconda3\\envs\\ox\\lib\\site-packages\\osmnx\\utils_graph.py\u001b[0m in \u001b[0;36mget_undirected\u001b[1;34m(G)\u001b[0m\n\u001b[0;32m    407\u001b[0m     \u001b[1;31m# increment parallel edges' keys so we don't retain only one edge of sets\u001b[0m\u001b[1;33m\u001b[0m\u001b[1;33m\u001b[0m\u001b[1;33m\u001b[0m\u001b[0m\n\u001b[0;32m    408\u001b[0m     \u001b[1;31m# of true parallel edges when we convert from MultiDiGraph to MultiGraph\u001b[0m\u001b[1;33m\u001b[0m\u001b[1;33m\u001b[0m\u001b[1;33m\u001b[0m\u001b[0m\n\u001b[1;32m--> 409\u001b[1;33m     \u001b[0mG\u001b[0m \u001b[1;33m=\u001b[0m \u001b[0m_update_edge_keys\u001b[0m\u001b[1;33m(\u001b[0m\u001b[0mG\u001b[0m\u001b[1;33m)\u001b[0m\u001b[1;33m\u001b[0m\u001b[1;33m\u001b[0m\u001b[0m\n\u001b[0m\u001b[0;32m    410\u001b[0m \u001b[1;33m\u001b[0m\u001b[0m\n\u001b[0;32m    411\u001b[0m     \u001b[1;31m# convert MultiDiGraph to MultiGraph, retaining edges in both directions\u001b[0m\u001b[1;33m\u001b[0m\u001b[1;33m\u001b[0m\u001b[1;33m\u001b[0m\u001b[0m\n",
      "\u001b[1;32m~\\anaconda3\\envs\\ox\\lib\\site-packages\\osmnx\\utils_graph.py\u001b[0m in \u001b[0;36m_update_edge_keys\u001b[1;34m(G)\u001b[0m\n\u001b[0;32m    532\u001b[0m     \u001b[1;31m# of their origin, destination, and key. that is, edge uv will match edge vu\u001b[0m\u001b[1;33m\u001b[0m\u001b[1;33m\u001b[0m\u001b[1;33m\u001b[0m\u001b[0m\n\u001b[0;32m    533\u001b[0m     \u001b[1;31m# as a duplicate, but only if they have the same key\u001b[0m\u001b[1;33m\u001b[0m\u001b[1;33m\u001b[0m\u001b[1;33m\u001b[0m\u001b[0m\n\u001b[1;32m--> 534\u001b[1;33m     \u001b[0medges\u001b[0m \u001b[1;33m=\u001b[0m \u001b[0mgraph_to_gdfs\u001b[0m\u001b[1;33m(\u001b[0m\u001b[0mG\u001b[0m\u001b[1;33m,\u001b[0m \u001b[0mnodes\u001b[0m\u001b[1;33m=\u001b[0m\u001b[1;32mFalse\u001b[0m\u001b[1;33m,\u001b[0m \u001b[0mfill_edge_geometry\u001b[0m\u001b[1;33m=\u001b[0m\u001b[1;32mFalse\u001b[0m\u001b[1;33m)\u001b[0m\u001b[1;33m\u001b[0m\u001b[1;33m\u001b[0m\u001b[0m\n\u001b[0m\u001b[0;32m    535\u001b[0m     \u001b[0medges\u001b[0m\u001b[1;33m[\u001b[0m\u001b[1;34m\"uvk\"\u001b[0m\u001b[1;33m]\u001b[0m \u001b[1;33m=\u001b[0m \u001b[1;33m[\u001b[0m\u001b[1;34m\"_\"\u001b[0m\u001b[1;33m.\u001b[0m\u001b[0mjoin\u001b[0m\u001b[1;33m(\u001b[0m\u001b[0msorted\u001b[0m\u001b[1;33m(\u001b[0m\u001b[1;33m[\u001b[0m\u001b[0mstr\u001b[0m\u001b[1;33m(\u001b[0m\u001b[0mu\u001b[0m\u001b[1;33m)\u001b[0m\u001b[1;33m,\u001b[0m \u001b[0mstr\u001b[0m\u001b[1;33m(\u001b[0m\u001b[0mv\u001b[0m\u001b[1;33m)\u001b[0m\u001b[1;33m]\u001b[0m\u001b[1;33m)\u001b[0m \u001b[1;33m+\u001b[0m \u001b[1;33m[\u001b[0m\u001b[0mstr\u001b[0m\u001b[1;33m(\u001b[0m\u001b[0mk\u001b[0m\u001b[1;33m)\u001b[0m\u001b[1;33m]\u001b[0m\u001b[1;33m)\u001b[0m \u001b[1;32mfor\u001b[0m \u001b[0mu\u001b[0m\u001b[1;33m,\u001b[0m \u001b[0mv\u001b[0m\u001b[1;33m,\u001b[0m \u001b[0mk\u001b[0m \u001b[1;32min\u001b[0m \u001b[0medges\u001b[0m\u001b[1;33m.\u001b[0m\u001b[0mindex\u001b[0m\u001b[1;33m]\u001b[0m\u001b[1;33m\u001b[0m\u001b[1;33m\u001b[0m\u001b[0m\n\u001b[0;32m    536\u001b[0m     \u001b[0mmask\u001b[0m \u001b[1;33m=\u001b[0m \u001b[0medges\u001b[0m\u001b[1;33m[\u001b[0m\u001b[1;34m\"uvk\"\u001b[0m\u001b[1;33m]\u001b[0m\u001b[1;33m.\u001b[0m\u001b[0mduplicated\u001b[0m\u001b[1;33m(\u001b[0m\u001b[0mkeep\u001b[0m\u001b[1;33m=\u001b[0m\u001b[1;32mFalse\u001b[0m\u001b[1;33m)\u001b[0m\u001b[1;33m\u001b[0m\u001b[1;33m\u001b[0m\u001b[0m\n",
      "\u001b[1;32m~\\anaconda3\\envs\\ox\\lib\\site-packages\\osmnx\\utils_graph.py\u001b[0m in \u001b[0;36mgraph_to_gdfs\u001b[1;34m(G, nodes, edges, node_geometry, fill_edge_geometry)\u001b[0m\n\u001b[0;32m     65\u001b[0m             \u001b[1;32mraise\u001b[0m \u001b[0mValueError\u001b[0m\u001b[1;33m(\u001b[0m\u001b[1;34m\"graph contains no edges\"\u001b[0m\u001b[1;33m)\u001b[0m\u001b[1;33m\u001b[0m\u001b[1;33m\u001b[0m\u001b[0m\n\u001b[0;32m     66\u001b[0m \u001b[1;33m\u001b[0m\u001b[0m\n\u001b[1;32m---> 67\u001b[1;33m         \u001b[0mu\u001b[0m\u001b[1;33m,\u001b[0m \u001b[0mv\u001b[0m\u001b[1;33m,\u001b[0m \u001b[0mk\u001b[0m\u001b[1;33m,\u001b[0m \u001b[0mdata\u001b[0m \u001b[1;33m=\u001b[0m \u001b[0mzip\u001b[0m\u001b[1;33m(\u001b[0m\u001b[1;33m*\u001b[0m\u001b[0mG\u001b[0m\u001b[1;33m.\u001b[0m\u001b[0medges\u001b[0m\u001b[1;33m(\u001b[0m\u001b[0mkeys\u001b[0m\u001b[1;33m=\u001b[0m\u001b[1;32mTrue\u001b[0m\u001b[1;33m,\u001b[0m \u001b[0mdata\u001b[0m\u001b[1;33m=\u001b[0m\u001b[1;32mTrue\u001b[0m\u001b[1;33m)\u001b[0m\u001b[1;33m)\u001b[0m\u001b[1;33m\u001b[0m\u001b[1;33m\u001b[0m\u001b[0m\n\u001b[0m\u001b[0;32m     68\u001b[0m \u001b[1;33m\u001b[0m\u001b[0m\n\u001b[0;32m     69\u001b[0m         \u001b[1;32mif\u001b[0m \u001b[0mfill_edge_geometry\u001b[0m\u001b[1;33m:\u001b[0m\u001b[1;33m\u001b[0m\u001b[1;33m\u001b[0m\u001b[0m\n",
      "\u001b[1;31mTypeError\u001b[0m: __call__() got an unexpected keyword argument 'keys'"
     ]
    }
   ],
   "source": []
  },
  {
   "cell_type": "code",
   "execution_count": null,
   "id": "50cf07eb",
   "metadata": {},
   "outputs": [],
   "source": []
  }
 ],
 "metadata": {
  "kernelspec": {
   "display_name": "joaogis",
   "language": "python",
   "name": "ox"
  },
  "language_info": {
   "codemirror_mode": {
    "name": "ipython",
    "version": 3
   },
   "file_extension": ".py",
   "mimetype": "text/x-python",
   "name": "python",
   "nbconvert_exporter": "python",
   "pygments_lexer": "ipython3",
   "version": "3.7.10"
  }
 },
 "nbformat": 4,
 "nbformat_minor": 5
}
